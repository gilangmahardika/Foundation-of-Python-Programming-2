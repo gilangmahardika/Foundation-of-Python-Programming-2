{
 "cells": [
  {
   "cell_type": "markdown",
   "metadata": {},
   "source": [
    "# Practice 04 Foundation of Machine Learning"
   ]
  },
  {
   "cell_type": "markdown",
   "metadata": {},
   "source": [
    "Dataset is a historical flight data in Malaysia from Oct 2018 – Nov 2018\n",
    "Data consist of information of flight such as:\n",
    "1. Date of flight\n",
    "2. Date of arrival\n",
    "3. Departure Delay\n",
    "4. Tail Number\n",
    "5. Airline Name\n",
    "6. Departure Location\n",
    "7. Arrival Location\n",
    "8. Flight Number\n",
    "9. Delay\n"
   ]
  },
  {
   "cell_type": "markdown",
   "metadata": {},
   "source": [
    "**There are 3 models that you have to make:**\n",
    "1. Linear Regression\n",
    "2. Logistic Regression\n",
    "3. Choose 1 Supervised model\n",
    "\n",
    "**Task**\n",
    "1. Provide travel recommendation to passenger (best time to take a flight or best airline), so they will not get caught in delay. Each recommendation has to be supported by at least 1 graph\n",
    "2. Create a model to estimate the delay duration ( Linear Regression )\n",
    "3. Create a model to predict delay > 60 min ( Logistic regression and another supervised model you choosing )\n",
    "4. Did you do some feature engineering on the dataset ? if yes, please give the reason for each feature you created\n",
    "5. Using those models predict delay that will happened in December for delay >60"
   ]
  },
  {
   "cell_type": "markdown",
   "metadata": {},
   "source": [
    "# Import Libraries"
   ]
  },
  {
   "cell_type": "code",
   "execution_count": 1,
   "metadata": {
    "collapsed": true
   },
   "outputs": [],
   "source": [
    "import numpy as np\n",
    "import pandas as pd\n",
    "import matplotlib.pyplot as plt\n",
    "import seaborn as sns\n",
    "from sklearn.linear_model import LinearRegression\n",
    "from sklearn.metrics import mean_squared_error\n",
    "import statsmodels.formula.api as smf\n",
    "from sklearn.linear_model import LogisticRegression\n",
    "from sklearn.preprocessing import OneHotEncoder, StandardScaler\n",
    "from sklearn.metrics import classification_report\n",
    "import seaborn as sns\n",
    "%matplotlib inline"
   ]
  },
  {
   "cell_type": "markdown",
   "metadata": {},
   "source": [
    "## Import dataset"
   ]
  },
  {
   "cell_type": "markdown",
   "metadata": {},
   "source": [
    "### Train Dataset"
   ]
  },
  {
   "cell_type": "code",
   "execution_count": 2,
   "metadata": {},
   "outputs": [
    {
     "data": {
      "text/html": [
       "<div>\n",
       "<style scoped>\n",
       "    .dataframe tbody tr th:only-of-type {\n",
       "        vertical-align: middle;\n",
       "    }\n",
       "\n",
       "    .dataframe tbody tr th {\n",
       "        vertical-align: top;\n",
       "    }\n",
       "\n",
       "    .dataframe thead th {\n",
       "        text-align: right;\n",
       "    }\n",
       "</style>\n",
       "<table border=\"1\" class=\"dataframe\">\n",
       "  <thead>\n",
       "    <tr style=\"text-align: right;\">\n",
       "      <th></th>\n",
       "      <th>id</th>\n",
       "      <th>number</th>\n",
       "      <th>airline</th>\n",
       "      <th>airline_name</th>\n",
       "      <th>scheduled_departure_time</th>\n",
       "      <th>scheduled_arrival_time</th>\n",
       "      <th>departure_airport_city</th>\n",
       "      <th>departure_airport_code</th>\n",
       "      <th>departure_airport_country</th>\n",
       "      <th>departure_airport_gate</th>\n",
       "      <th>...</th>\n",
       "      <th>arrival_airport_country</th>\n",
       "      <th>arrival_airport_gate</th>\n",
       "      <th>arrival_airport_name</th>\n",
       "      <th>arrival_airport_region</th>\n",
       "      <th>arrival_airport_terminal</th>\n",
       "      <th>arrival_airport_timezone</th>\n",
       "      <th>flight_equipment_iata</th>\n",
       "      <th>flight_equipment_name</th>\n",
       "      <th>flight_duration</th>\n",
       "      <th>delay</th>\n",
       "    </tr>\n",
       "  </thead>\n",
       "  <tbody>\n",
       "    <tr>\n",
       "      <th>0</th>\n",
       "      <td>1</td>\n",
       "      <td>AK6430</td>\n",
       "      <td>AK</td>\n",
       "      <td>AirAsia</td>\n",
       "      <td>2018-10-05 22:00:00</td>\n",
       "      <td>2018-10-05 23:05:00</td>\n",
       "      <td>Kuala Lumpur</td>\n",
       "      <td>KUL</td>\n",
       "      <td>MY</td>\n",
       "      <td>J15</td>\n",
       "      <td>...</td>\n",
       "      <td>MY</td>\n",
       "      <td>2</td>\n",
       "      <td>Sultan Ismail Petra Airport</td>\n",
       "      <td>Asia</td>\n",
       "      <td>NaN</td>\n",
       "      <td>Asia/Kuala_Lumpur</td>\n",
       "      <td>32S</td>\n",
       "      <td>Airbus A318 / A319 / A320 / A321</td>\n",
       "      <td>58m</td>\n",
       "      <td>2</td>\n",
       "    </tr>\n",
       "    <tr>\n",
       "      <th>1</th>\n",
       "      <td>2</td>\n",
       "      <td>ID*7164</td>\n",
       "      <td>ID*</td>\n",
       "      <td>Batik Air</td>\n",
       "      <td>2018-10-05 22:00:00</td>\n",
       "      <td>2018-10-05 23:55:00</td>\n",
       "      <td>Kuala Lumpur</td>\n",
       "      <td>KUL</td>\n",
       "      <td>MY</td>\n",
       "      <td>C33</td>\n",
       "      <td>...</td>\n",
       "      <td>ID</td>\n",
       "      <td>5</td>\n",
       "      <td>Soekarno-Hatta International Airport</td>\n",
       "      <td>Asia</td>\n",
       "      <td>2</td>\n",
       "      <td>Asia/Jakarta</td>\n",
       "      <td>32S</td>\n",
       "      <td>Airbus A318 / A319 / A320 / A321</td>\n",
       "      <td>1h 55m</td>\n",
       "      <td>8</td>\n",
       "    </tr>\n",
       "    <tr>\n",
       "      <th>2</th>\n",
       "      <td>3</td>\n",
       "      <td>MXD9116</td>\n",
       "      <td>MXD</td>\n",
       "      <td>Malindo Air</td>\n",
       "      <td>2018-10-05 22:00:00</td>\n",
       "      <td>2018-10-05 23:55:00</td>\n",
       "      <td>Kuala Lumpur</td>\n",
       "      <td>KUL</td>\n",
       "      <td>MY</td>\n",
       "      <td>C33</td>\n",
       "      <td>...</td>\n",
       "      <td>ID</td>\n",
       "      <td>5</td>\n",
       "      <td>Soekarno-Hatta International Airport</td>\n",
       "      <td>Asia</td>\n",
       "      <td>2</td>\n",
       "      <td>Asia/Jakarta</td>\n",
       "      <td>32S</td>\n",
       "      <td>Airbus A318 / A319 / A320 / A321</td>\n",
       "      <td>1h 55m</td>\n",
       "      <td>8</td>\n",
       "    </tr>\n",
       "    <tr>\n",
       "      <th>3</th>\n",
       "      <td>4</td>\n",
       "      <td>AK5198</td>\n",
       "      <td>AK</td>\n",
       "      <td>AirAsia</td>\n",
       "      <td>2018-10-05 22:05:00</td>\n",
       "      <td>2018-10-06 01:00:00</td>\n",
       "      <td>Kuala Lumpur</td>\n",
       "      <td>KUL</td>\n",
       "      <td>MY</td>\n",
       "      <td>J9</td>\n",
       "      <td>...</td>\n",
       "      <td>MY</td>\n",
       "      <td>INT</td>\n",
       "      <td>Sandakan Airport</td>\n",
       "      <td>Asia</td>\n",
       "      <td>NaN</td>\n",
       "      <td>Asia/Kuala_Lumpur</td>\n",
       "      <td>32S</td>\n",
       "      <td>Airbus A318 / A319 / A320 / A321</td>\n",
       "      <td>2h 54m</td>\n",
       "      <td>0</td>\n",
       "    </tr>\n",
       "    <tr>\n",
       "      <th>4</th>\n",
       "      <td>5</td>\n",
       "      <td>AK516</td>\n",
       "      <td>AK</td>\n",
       "      <td>AirAsia</td>\n",
       "      <td>2018-10-05 22:10:00</td>\n",
       "      <td>2018-10-06 01:25:00</td>\n",
       "      <td>Kuala Lumpur</td>\n",
       "      <td>KUL</td>\n",
       "      <td>MY</td>\n",
       "      <td>P1</td>\n",
       "      <td>...</td>\n",
       "      <td>VN</td>\n",
       "      <td>NaN</td>\n",
       "      <td>Noi Bai International Airport</td>\n",
       "      <td>Asia</td>\n",
       "      <td>T2</td>\n",
       "      <td>Asia/Ho_Chi_Minh</td>\n",
       "      <td>32S</td>\n",
       "      <td>Airbus A318 / A319 / A320 / A321</td>\n",
       "      <td>3h 17m</td>\n",
       "      <td>0</td>\n",
       "    </tr>\n",
       "  </tbody>\n",
       "</table>\n",
       "<p>5 rows × 26 columns</p>\n",
       "</div>"
      ],
      "text/plain": [
       "   id   number airline airline_name scheduled_departure_time  \\\n",
       "0   1   AK6430      AK      AirAsia      2018-10-05 22:00:00   \n",
       "1   2  ID*7164     ID*    Batik Air      2018-10-05 22:00:00   \n",
       "2   3  MXD9116     MXD  Malindo Air      2018-10-05 22:00:00   \n",
       "3   4   AK5198      AK      AirAsia      2018-10-05 22:05:00   \n",
       "4   5    AK516      AK      AirAsia      2018-10-05 22:10:00   \n",
       "\n",
       "  scheduled_arrival_time departure_airport_city departure_airport_code  \\\n",
       "0    2018-10-05 23:05:00           Kuala Lumpur                    KUL   \n",
       "1    2018-10-05 23:55:00           Kuala Lumpur                    KUL   \n",
       "2    2018-10-05 23:55:00           Kuala Lumpur                    KUL   \n",
       "3    2018-10-06 01:00:00           Kuala Lumpur                    KUL   \n",
       "4    2018-10-06 01:25:00           Kuala Lumpur                    KUL   \n",
       "\n",
       "  departure_airport_country departure_airport_gate  ...  \\\n",
       "0                        MY                    J15  ...   \n",
       "1                        MY                    C33  ...   \n",
       "2                        MY                    C33  ...   \n",
       "3                        MY                     J9  ...   \n",
       "4                        MY                     P1  ...   \n",
       "\n",
       "  arrival_airport_country arrival_airport_gate  \\\n",
       "0                      MY                    2   \n",
       "1                      ID                    5   \n",
       "2                      ID                    5   \n",
       "3                      MY                  INT   \n",
       "4                      VN                  NaN   \n",
       "\n",
       "                   arrival_airport_name arrival_airport_region  \\\n",
       "0           Sultan Ismail Petra Airport                   Asia   \n",
       "1  Soekarno-Hatta International Airport                   Asia   \n",
       "2  Soekarno-Hatta International Airport                   Asia   \n",
       "3                      Sandakan Airport                   Asia   \n",
       "4         Noi Bai International Airport                   Asia   \n",
       "\n",
       "  arrival_airport_terminal arrival_airport_timezone flight_equipment_iata  \\\n",
       "0                      NaN        Asia/Kuala_Lumpur                   32S   \n",
       "1                        2             Asia/Jakarta                   32S   \n",
       "2                        2             Asia/Jakarta                   32S   \n",
       "3                      NaN        Asia/Kuala_Lumpur                   32S   \n",
       "4                       T2         Asia/Ho_Chi_Minh                   32S   \n",
       "\n",
       "              flight_equipment_name flight_duration delay  \n",
       "0  Airbus A318 / A319 / A320 / A321             58m     2  \n",
       "1  Airbus A318 / A319 / A320 / A321          1h 55m     8  \n",
       "2  Airbus A318 / A319 / A320 / A321          1h 55m     8  \n",
       "3  Airbus A318 / A319 / A320 / A321          2h 54m     0  \n",
       "4  Airbus A318 / A319 / A320 / A321          3h 17m     0  \n",
       "\n",
       "[5 rows x 26 columns]"
      ]
     },
     "execution_count": 2,
     "metadata": {},
     "output_type": "execute_result"
    }
   ],
   "source": [
    "df_train = pd.read_csv('training_dataset.csv')\n",
    "df_train.head()"
   ]
  },
  {
   "cell_type": "code",
   "execution_count": 3,
   "metadata": {},
   "outputs": [
    {
     "name": "stdout",
     "output_type": "stream",
     "text": [
      "<class 'pandas.core.frame.DataFrame'>\n",
      "RangeIndex: 111068 entries, 0 to 111067\n",
      "Data columns (total 26 columns):\n",
      "id                            111068 non-null int64\n",
      "number                        111068 non-null object\n",
      "airline                       111068 non-null object\n",
      "airline_name                  111068 non-null object\n",
      "scheduled_departure_time      111068 non-null object\n",
      "scheduled_arrival_time        111063 non-null object\n",
      "departure_airport_city        111068 non-null object\n",
      "departure_airport_code        111068 non-null object\n",
      "departure_airport_country     111068 non-null object\n",
      "departure_airport_gate        66859 non-null object\n",
      "departure_airport_name        111068 non-null object\n",
      "departure_airport_region      111068 non-null object\n",
      "departure_airport_terminal    69728 non-null object\n",
      "departure_airport_timezone    111068 non-null object\n",
      "arrival_airport_city          111068 non-null object\n",
      "arrival_airport_code          111068 non-null object\n",
      "arrival_airport_country       111068 non-null object\n",
      "arrival_airport_gate          12087 non-null object\n",
      "arrival_airport_name          111068 non-null object\n",
      "arrival_airport_region        111068 non-null object\n",
      "arrival_airport_terminal      53050 non-null object\n",
      "arrival_airport_timezone      111068 non-null object\n",
      "flight_equipment_iata         111049 non-null object\n",
      "flight_equipment_name         111049 non-null object\n",
      "flight_duration               111065 non-null object\n",
      "delay                         111068 non-null int64\n",
      "dtypes: int64(2), object(24)\n",
      "memory usage: 22.0+ MB\n"
     ]
    }
   ],
   "source": [
    "df_train.info()"
   ]
  },
  {
   "cell_type": "code",
   "execution_count": 4,
   "metadata": {
    "collapsed": true
   },
   "outputs": [],
   "source": [
    "df_train['scheduled_departure_time'] = pd.to_datetime(df_train['scheduled_departure_time'])\n",
    "df_train['scheduled_arrival_time'] = pd.to_datetime(df_train['scheduled_arrival_time'])"
   ]
  },
  {
   "cell_type": "markdown",
   "metadata": {},
   "source": [
    "### Test Dataset"
   ]
  },
  {
   "cell_type": "code",
   "execution_count": 5,
   "metadata": {},
   "outputs": [
    {
     "data": {
      "text/html": [
       "<div>\n",
       "<style scoped>\n",
       "    .dataframe tbody tr th:only-of-type {\n",
       "        vertical-align: middle;\n",
       "    }\n",
       "\n",
       "    .dataframe tbody tr th {\n",
       "        vertical-align: top;\n",
       "    }\n",
       "\n",
       "    .dataframe thead th {\n",
       "        text-align: right;\n",
       "    }\n",
       "</style>\n",
       "<table border=\"1\" class=\"dataframe\">\n",
       "  <thead>\n",
       "    <tr style=\"text-align: right;\">\n",
       "      <th></th>\n",
       "      <th>id</th>\n",
       "      <th>number</th>\n",
       "      <th>airline</th>\n",
       "      <th>airline_name</th>\n",
       "      <th>scheduled_departure_time</th>\n",
       "      <th>scheduled_arrival_time</th>\n",
       "      <th>departure_airport_city</th>\n",
       "      <th>departure_airport_code</th>\n",
       "      <th>departure_airport_country</th>\n",
       "      <th>departure_airport_gate</th>\n",
       "      <th>...</th>\n",
       "      <th>arrival_airport_country</th>\n",
       "      <th>arrival_airport_gate</th>\n",
       "      <th>arrival_airport_name</th>\n",
       "      <th>arrival_airport_region</th>\n",
       "      <th>arrival_airport_terminal</th>\n",
       "      <th>arrival_airport_timezone</th>\n",
       "      <th>flight_equipment_iata</th>\n",
       "      <th>flight_equipment_name</th>\n",
       "      <th>flight_duration</th>\n",
       "      <th>delay</th>\n",
       "    </tr>\n",
       "  </thead>\n",
       "  <tbody>\n",
       "    <tr>\n",
       "      <th>0</th>\n",
       "      <td>483244</td>\n",
       "      <td>CZ7412</td>\n",
       "      <td>CZ</td>\n",
       "      <td>China Southern Airlines</td>\n",
       "      <td>2018-12-01 00:00:00</td>\n",
       "      <td>2018-12-01 04:40:00</td>\n",
       "      <td>Kuala Lumpur</td>\n",
       "      <td>KUL</td>\n",
       "      <td>MY</td>\n",
       "      <td>C11</td>\n",
       "      <td>...</td>\n",
       "      <td>CN</td>\n",
       "      <td>NaN</td>\n",
       "      <td>Changle International Airport</td>\n",
       "      <td>Asia</td>\n",
       "      <td>NaN</td>\n",
       "      <td>Asia/Shanghai</td>\n",
       "      <td>738</td>\n",
       "      <td>Boeing 737-800 Passenger</td>\n",
       "      <td>4h 40m</td>\n",
       "      <td>15</td>\n",
       "    </tr>\n",
       "    <tr>\n",
       "      <th>1</th>\n",
       "      <td>483245</td>\n",
       "      <td>MH5712</td>\n",
       "      <td>MH</td>\n",
       "      <td>Malaysia Airlines</td>\n",
       "      <td>2018-12-01 00:00:00</td>\n",
       "      <td>2018-12-01 04:40:00</td>\n",
       "      <td>Kuala Lumpur</td>\n",
       "      <td>KUL</td>\n",
       "      <td>MY</td>\n",
       "      <td>C11</td>\n",
       "      <td>...</td>\n",
       "      <td>CN</td>\n",
       "      <td>NaN</td>\n",
       "      <td>Changle International Airport</td>\n",
       "      <td>Asia</td>\n",
       "      <td>NaN</td>\n",
       "      <td>Asia/Shanghai</td>\n",
       "      <td>738</td>\n",
       "      <td>Boeing 737-800 Passenger</td>\n",
       "      <td>4h 40m</td>\n",
       "      <td>15</td>\n",
       "    </tr>\n",
       "    <tr>\n",
       "      <th>2</th>\n",
       "      <td>483246</td>\n",
       "      <td>TK8186</td>\n",
       "      <td>TK</td>\n",
       "      <td>Turkish Airlines</td>\n",
       "      <td>2018-12-01 00:00:00</td>\n",
       "      <td>2018-12-01 02:40:00</td>\n",
       "      <td>Kuala Lumpur</td>\n",
       "      <td>KUL</td>\n",
       "      <td>MY</td>\n",
       "      <td>A4</td>\n",
       "      <td>...</td>\n",
       "      <td>MY</td>\n",
       "      <td>NaN</td>\n",
       "      <td>Kota Kinabalu International Airport</td>\n",
       "      <td>Asia</td>\n",
       "      <td>NaN</td>\n",
       "      <td>Asia/Kuala_Lumpur</td>\n",
       "      <td>738</td>\n",
       "      <td>Boeing 737-800 Passenger</td>\n",
       "      <td>2h 40m</td>\n",
       "      <td>27</td>\n",
       "    </tr>\n",
       "    <tr>\n",
       "      <th>3</th>\n",
       "      <td>483247</td>\n",
       "      <td>AK6324</td>\n",
       "      <td>AK</td>\n",
       "      <td>AirAsia</td>\n",
       "      <td>2018-12-01 00:00:00</td>\n",
       "      <td>2018-12-01 01:05:00</td>\n",
       "      <td>Kuala Lumpur</td>\n",
       "      <td>KUL</td>\n",
       "      <td>MY</td>\n",
       "      <td>J1</td>\n",
       "      <td>...</td>\n",
       "      <td>MY</td>\n",
       "      <td>NaN</td>\n",
       "      <td>Langkawi International Airport</td>\n",
       "      <td>Asia</td>\n",
       "      <td>NaN</td>\n",
       "      <td>Asia/Kuala_Lumpur</td>\n",
       "      <td>32S</td>\n",
       "      <td>Airbus A318 / A319 / A320 / A321</td>\n",
       "      <td>1h 10m</td>\n",
       "      <td>95</td>\n",
       "    </tr>\n",
       "    <tr>\n",
       "      <th>4</th>\n",
       "      <td>483248</td>\n",
       "      <td>UA7967</td>\n",
       "      <td>UA</td>\n",
       "      <td>United Airlines</td>\n",
       "      <td>2018-12-01 00:00:00</td>\n",
       "      <td>2018-12-01 06:40:00</td>\n",
       "      <td>Kuala Lumpur</td>\n",
       "      <td>KUL</td>\n",
       "      <td>MY</td>\n",
       "      <td>C22</td>\n",
       "      <td>...</td>\n",
       "      <td>JP</td>\n",
       "      <td>58B</td>\n",
       "      <td>Narita International Airport</td>\n",
       "      <td>Asia</td>\n",
       "      <td>1</td>\n",
       "      <td>Asia/Tokyo</td>\n",
       "      <td>788</td>\n",
       "      <td>Boeing 787-8</td>\n",
       "      <td>6h 23m</td>\n",
       "      <td>20</td>\n",
       "    </tr>\n",
       "  </tbody>\n",
       "</table>\n",
       "<p>5 rows × 26 columns</p>\n",
       "</div>"
      ],
      "text/plain": [
       "       id  number airline             airline_name scheduled_departure_time  \\\n",
       "0  483244  CZ7412      CZ  China Southern Airlines      2018-12-01 00:00:00   \n",
       "1  483245  MH5712      MH        Malaysia Airlines      2018-12-01 00:00:00   \n",
       "2  483246  TK8186      TK         Turkish Airlines      2018-12-01 00:00:00   \n",
       "3  483247  AK6324      AK                  AirAsia      2018-12-01 00:00:00   \n",
       "4  483248  UA7967      UA          United Airlines      2018-12-01 00:00:00   \n",
       "\n",
       "  scheduled_arrival_time departure_airport_city departure_airport_code  \\\n",
       "0    2018-12-01 04:40:00           Kuala Lumpur                    KUL   \n",
       "1    2018-12-01 04:40:00           Kuala Lumpur                    KUL   \n",
       "2    2018-12-01 02:40:00           Kuala Lumpur                    KUL   \n",
       "3    2018-12-01 01:05:00           Kuala Lumpur                    KUL   \n",
       "4    2018-12-01 06:40:00           Kuala Lumpur                    KUL   \n",
       "\n",
       "  departure_airport_country departure_airport_gate  ...  \\\n",
       "0                        MY                    C11  ...   \n",
       "1                        MY                    C11  ...   \n",
       "2                        MY                     A4  ...   \n",
       "3                        MY                     J1  ...   \n",
       "4                        MY                    C22  ...   \n",
       "\n",
       "  arrival_airport_country arrival_airport_gate  \\\n",
       "0                      CN                  NaN   \n",
       "1                      CN                  NaN   \n",
       "2                      MY                  NaN   \n",
       "3                      MY                  NaN   \n",
       "4                      JP                  58B   \n",
       "\n",
       "                  arrival_airport_name arrival_airport_region  \\\n",
       "0        Changle International Airport                   Asia   \n",
       "1        Changle International Airport                   Asia   \n",
       "2  Kota Kinabalu International Airport                   Asia   \n",
       "3       Langkawi International Airport                   Asia   \n",
       "4         Narita International Airport                   Asia   \n",
       "\n",
       "  arrival_airport_terminal arrival_airport_timezone flight_equipment_iata  \\\n",
       "0                      NaN            Asia/Shanghai                   738   \n",
       "1                      NaN            Asia/Shanghai                   738   \n",
       "2                      NaN        Asia/Kuala_Lumpur                   738   \n",
       "3                      NaN        Asia/Kuala_Lumpur                   32S   \n",
       "4                        1               Asia/Tokyo                   788   \n",
       "\n",
       "              flight_equipment_name flight_duration delay  \n",
       "0          Boeing 737-800 Passenger          4h 40m    15  \n",
       "1          Boeing 737-800 Passenger          4h 40m    15  \n",
       "2          Boeing 737-800 Passenger          2h 40m    27  \n",
       "3  Airbus A318 / A319 / A320 / A321          1h 10m    95  \n",
       "4                      Boeing 787-8          6h 23m    20  \n",
       "\n",
       "[5 rows x 26 columns]"
      ]
     },
     "execution_count": 5,
     "metadata": {},
     "output_type": "execute_result"
    }
   ],
   "source": [
    "df_test = pd.read_csv('test_dataset.csv')\n",
    "df_test.head()"
   ]
  },
  {
   "cell_type": "markdown",
   "metadata": {},
   "source": [
    "## EDA"
   ]
  },
  {
   "cell_type": "code",
   "execution_count": 6,
   "metadata": {},
   "outputs": [
    {
     "data": {
      "text/html": [
       "<div>\n",
       "<style scoped>\n",
       "    .dataframe tbody tr th:only-of-type {\n",
       "        vertical-align: middle;\n",
       "    }\n",
       "\n",
       "    .dataframe tbody tr th {\n",
       "        vertical-align: top;\n",
       "    }\n",
       "\n",
       "    .dataframe thead th {\n",
       "        text-align: right;\n",
       "    }\n",
       "</style>\n",
       "<table border=\"1\" class=\"dataframe\">\n",
       "  <thead>\n",
       "    <tr style=\"text-align: right;\">\n",
       "      <th></th>\n",
       "      <th>delay</th>\n",
       "    </tr>\n",
       "  </thead>\n",
       "  <tbody>\n",
       "    <tr>\n",
       "      <th>count</th>\n",
       "      <td>111068.000000</td>\n",
       "    </tr>\n",
       "    <tr>\n",
       "      <th>mean</th>\n",
       "      <td>11.540210</td>\n",
       "    </tr>\n",
       "    <tr>\n",
       "      <th>std</th>\n",
       "      <td>26.806913</td>\n",
       "    </tr>\n",
       "    <tr>\n",
       "      <th>min</th>\n",
       "      <td>0.000000</td>\n",
       "    </tr>\n",
       "    <tr>\n",
       "      <th>25%</th>\n",
       "      <td>0.000000</td>\n",
       "    </tr>\n",
       "    <tr>\n",
       "      <th>50%</th>\n",
       "      <td>1.000000</td>\n",
       "    </tr>\n",
       "    <tr>\n",
       "      <th>75%</th>\n",
       "      <td>13.000000</td>\n",
       "    </tr>\n",
       "    <tr>\n",
       "      <th>max</th>\n",
       "      <td>978.000000</td>\n",
       "    </tr>\n",
       "  </tbody>\n",
       "</table>\n",
       "</div>"
      ],
      "text/plain": [
       "               delay\n",
       "count  111068.000000\n",
       "mean       11.540210\n",
       "std        26.806913\n",
       "min         0.000000\n",
       "25%         0.000000\n",
       "50%         1.000000\n",
       "75%        13.000000\n",
       "max       978.000000"
      ]
     },
     "execution_count": 6,
     "metadata": {},
     "output_type": "execute_result"
    }
   ],
   "source": [
    "df_train[['delay']].describe(include = [np.number])"
   ]
  },
  {
   "cell_type": "markdown",
   "metadata": {},
   "source": [
    "75% of flights delays range from 0 to 13 minutes "
   ]
  },
  {
   "cell_type": "code",
   "execution_count": 7,
   "metadata": {},
   "outputs": [
    {
     "data": {
      "text/html": [
       "<div>\n",
       "<style scoped>\n",
       "    .dataframe tbody tr th:only-of-type {\n",
       "        vertical-align: middle;\n",
       "    }\n",
       "\n",
       "    .dataframe tbody tr th {\n",
       "        vertical-align: top;\n",
       "    }\n",
       "\n",
       "    .dataframe thead th {\n",
       "        text-align: right;\n",
       "    }\n",
       "</style>\n",
       "<table border=\"1\" class=\"dataframe\">\n",
       "  <thead>\n",
       "    <tr style=\"text-align: right;\">\n",
       "      <th></th>\n",
       "      <th>number</th>\n",
       "      <th>airline</th>\n",
       "      <th>airline_name</th>\n",
       "      <th>scheduled_departure_time</th>\n",
       "      <th>scheduled_arrival_time</th>\n",
       "      <th>departure_airport_city</th>\n",
       "      <th>departure_airport_code</th>\n",
       "      <th>departure_airport_country</th>\n",
       "      <th>departure_airport_gate</th>\n",
       "      <th>departure_airport_name</th>\n",
       "      <th>...</th>\n",
       "      <th>arrival_airport_code</th>\n",
       "      <th>arrival_airport_country</th>\n",
       "      <th>arrival_airport_gate</th>\n",
       "      <th>arrival_airport_name</th>\n",
       "      <th>arrival_airport_region</th>\n",
       "      <th>arrival_airport_terminal</th>\n",
       "      <th>arrival_airport_timezone</th>\n",
       "      <th>flight_equipment_iata</th>\n",
       "      <th>flight_equipment_name</th>\n",
       "      <th>flight_duration</th>\n",
       "    </tr>\n",
       "  </thead>\n",
       "  <tbody>\n",
       "    <tr>\n",
       "      <th>count</th>\n",
       "      <td>111068</td>\n",
       "      <td>111068</td>\n",
       "      <td>111068</td>\n",
       "      <td>111068</td>\n",
       "      <td>111063</td>\n",
       "      <td>111068</td>\n",
       "      <td>111068</td>\n",
       "      <td>111068</td>\n",
       "      <td>66859</td>\n",
       "      <td>111068</td>\n",
       "      <td>...</td>\n",
       "      <td>111068</td>\n",
       "      <td>111068</td>\n",
       "      <td>12087</td>\n",
       "      <td>111068</td>\n",
       "      <td>111068</td>\n",
       "      <td>53050</td>\n",
       "      <td>111068</td>\n",
       "      <td>111049</td>\n",
       "      <td>111049</td>\n",
       "      <td>111065</td>\n",
       "    </tr>\n",
       "    <tr>\n",
       "      <th>unique</th>\n",
       "      <td>2515</td>\n",
       "      <td>104</td>\n",
       "      <td>104</td>\n",
       "      <td>12912</td>\n",
       "      <td>14210</td>\n",
       "      <td>15</td>\n",
       "      <td>16</td>\n",
       "      <td>1</td>\n",
       "      <td>189</td>\n",
       "      <td>16</td>\n",
       "      <td>...</td>\n",
       "      <td>154</td>\n",
       "      <td>39</td>\n",
       "      <td>267</td>\n",
       "      <td>154</td>\n",
       "      <td>4</td>\n",
       "      <td>17</td>\n",
       "      <td>43</td>\n",
       "      <td>49</td>\n",
       "      <td>49</td>\n",
       "      <td>692</td>\n",
       "    </tr>\n",
       "    <tr>\n",
       "      <th>top</th>\n",
       "      <td>MH5312</td>\n",
       "      <td>AK</td>\n",
       "      <td>AirAsia</td>\n",
       "      <td>2018-11-07 23:00:00</td>\n",
       "      <td>2018-10-20 09:30:00</td>\n",
       "      <td>Kuala Lumpur</td>\n",
       "      <td>KUL</td>\n",
       "      <td>MY</td>\n",
       "      <td>H2</td>\n",
       "      <td>Kuala Lumpur International Airport</td>\n",
       "      <td>...</td>\n",
       "      <td>KUL</td>\n",
       "      <td>MY</td>\n",
       "      <td>02</td>\n",
       "      <td>Kuala Lumpur International Airport</td>\n",
       "      <td>Asia</td>\n",
       "      <td>2</td>\n",
       "      <td>Asia/Kuala_Lumpur</td>\n",
       "      <td>738</td>\n",
       "      <td>Boeing 737-800 Passenger</td>\n",
       "      <td>1h</td>\n",
       "    </tr>\n",
       "    <tr>\n",
       "      <th>freq</th>\n",
       "      <td>114</td>\n",
       "      <td>25437</td>\n",
       "      <td>25437</td>\n",
       "      <td>80</td>\n",
       "      <td>44</td>\n",
       "      <td>69552</td>\n",
       "      <td>62530</td>\n",
       "      <td>111068</td>\n",
       "      <td>1358</td>\n",
       "      <td>62530</td>\n",
       "      <td>...</td>\n",
       "      <td>16243</td>\n",
       "      <td>60343</td>\n",
       "      <td>802</td>\n",
       "      <td>16243</td>\n",
       "      <td>105958</td>\n",
       "      <td>18403</td>\n",
       "      <td>60343</td>\n",
       "      <td>45019</td>\n",
       "      <td>45019</td>\n",
       "      <td>9784</td>\n",
       "    </tr>\n",
       "    <tr>\n",
       "      <th>first</th>\n",
       "      <td>NaN</td>\n",
       "      <td>NaN</td>\n",
       "      <td>NaN</td>\n",
       "      <td>2018-10-04 22:00:00</td>\n",
       "      <td>2018-10-04 22:45:00</td>\n",
       "      <td>NaN</td>\n",
       "      <td>NaN</td>\n",
       "      <td>NaN</td>\n",
       "      <td>NaN</td>\n",
       "      <td>NaN</td>\n",
       "      <td>...</td>\n",
       "      <td>NaN</td>\n",
       "      <td>NaN</td>\n",
       "      <td>NaN</td>\n",
       "      <td>NaN</td>\n",
       "      <td>NaN</td>\n",
       "      <td>NaN</td>\n",
       "      <td>NaN</td>\n",
       "      <td>NaN</td>\n",
       "      <td>NaN</td>\n",
       "      <td>NaN</td>\n",
       "    </tr>\n",
       "    <tr>\n",
       "      <th>last</th>\n",
       "      <td>NaN</td>\n",
       "      <td>NaN</td>\n",
       "      <td>NaN</td>\n",
       "      <td>2018-11-30 23:55:00</td>\n",
       "      <td>2018-12-01 06:40:00</td>\n",
       "      <td>NaN</td>\n",
       "      <td>NaN</td>\n",
       "      <td>NaN</td>\n",
       "      <td>NaN</td>\n",
       "      <td>NaN</td>\n",
       "      <td>...</td>\n",
       "      <td>NaN</td>\n",
       "      <td>NaN</td>\n",
       "      <td>NaN</td>\n",
       "      <td>NaN</td>\n",
       "      <td>NaN</td>\n",
       "      <td>NaN</td>\n",
       "      <td>NaN</td>\n",
       "      <td>NaN</td>\n",
       "      <td>NaN</td>\n",
       "      <td>NaN</td>\n",
       "    </tr>\n",
       "  </tbody>\n",
       "</table>\n",
       "<p>6 rows × 24 columns</p>\n",
       "</div>"
      ],
      "text/plain": [
       "        number airline airline_name scheduled_departure_time  \\\n",
       "count   111068  111068       111068                   111068   \n",
       "unique    2515     104          104                    12912   \n",
       "top     MH5312      AK      AirAsia      2018-11-07 23:00:00   \n",
       "freq       114   25437        25437                       80   \n",
       "first      NaN     NaN          NaN      2018-10-04 22:00:00   \n",
       "last       NaN     NaN          NaN      2018-11-30 23:55:00   \n",
       "\n",
       "       scheduled_arrival_time departure_airport_city departure_airport_code  \\\n",
       "count                  111063                 111068                 111068   \n",
       "unique                  14210                     15                     16   \n",
       "top       2018-10-20 09:30:00           Kuala Lumpur                    KUL   \n",
       "freq                       44                  69552                  62530   \n",
       "first     2018-10-04 22:45:00                    NaN                    NaN   \n",
       "last      2018-12-01 06:40:00                    NaN                    NaN   \n",
       "\n",
       "       departure_airport_country departure_airport_gate  \\\n",
       "count                     111068                  66859   \n",
       "unique                         1                    189   \n",
       "top                           MY                     H2   \n",
       "freq                      111068                   1358   \n",
       "first                        NaN                    NaN   \n",
       "last                         NaN                    NaN   \n",
       "\n",
       "                    departure_airport_name  ... arrival_airport_code  \\\n",
       "count                               111068  ...               111068   \n",
       "unique                                  16  ...                  154   \n",
       "top     Kuala Lumpur International Airport  ...                  KUL   \n",
       "freq                                 62530  ...                16243   \n",
       "first                                  NaN  ...                  NaN   \n",
       "last                                   NaN  ...                  NaN   \n",
       "\n",
       "       arrival_airport_country arrival_airport_gate  \\\n",
       "count                   111068                12087   \n",
       "unique                      39                  267   \n",
       "top                         MY                   02   \n",
       "freq                     60343                  802   \n",
       "first                      NaN                  NaN   \n",
       "last                       NaN                  NaN   \n",
       "\n",
       "                      arrival_airport_name arrival_airport_region  \\\n",
       "count                               111068                 111068   \n",
       "unique                                 154                      4   \n",
       "top     Kuala Lumpur International Airport                   Asia   \n",
       "freq                                 16243                 105958   \n",
       "first                                  NaN                    NaN   \n",
       "last                                   NaN                    NaN   \n",
       "\n",
       "       arrival_airport_terminal arrival_airport_timezone  \\\n",
       "count                     53050                   111068   \n",
       "unique                       17                       43   \n",
       "top                           2        Asia/Kuala_Lumpur   \n",
       "freq                      18403                    60343   \n",
       "first                       NaN                      NaN   \n",
       "last                        NaN                      NaN   \n",
       "\n",
       "       flight_equipment_iata     flight_equipment_name flight_duration  \n",
       "count                 111049                    111049          111065  \n",
       "unique                    49                        49             692  \n",
       "top                      738  Boeing 737-800 Passenger              1h  \n",
       "freq                   45019                     45019            9784  \n",
       "first                    NaN                       NaN             NaN  \n",
       "last                     NaN                       NaN             NaN  \n",
       "\n",
       "[6 rows x 24 columns]"
      ]
     },
     "execution_count": 7,
     "metadata": {},
     "output_type": "execute_result"
    }
   ],
   "source": [
    "df_train.describe(exclude = [np.number])"
   ]
  },
  {
   "cell_type": "markdown",
   "metadata": {},
   "source": [
    "### Top 10 most airlines flights"
   ]
  },
  {
   "cell_type": "code",
   "execution_count": 8,
   "metadata": {},
   "outputs": [
    {
     "data": {
      "text/html": [
       "<div>\n",
       "<style scoped>\n",
       "    .dataframe tbody tr th:only-of-type {\n",
       "        vertical-align: middle;\n",
       "    }\n",
       "\n",
       "    .dataframe tbody tr th {\n",
       "        vertical-align: top;\n",
       "    }\n",
       "\n",
       "    .dataframe thead th {\n",
       "        text-align: right;\n",
       "    }\n",
       "</style>\n",
       "<table border=\"1\" class=\"dataframe\">\n",
       "  <thead>\n",
       "    <tr style=\"text-align: right;\">\n",
       "      <th></th>\n",
       "      <th>airline_name</th>\n",
       "      <th>id</th>\n",
       "    </tr>\n",
       "  </thead>\n",
       "  <tbody>\n",
       "    <tr>\n",
       "      <th>0</th>\n",
       "      <td>AirAsia</td>\n",
       "      <td>25437</td>\n",
       "    </tr>\n",
       "    <tr>\n",
       "      <th>1</th>\n",
       "      <td>Malaysia Airlines</td>\n",
       "      <td>23198</td>\n",
       "    </tr>\n",
       "    <tr>\n",
       "      <th>2</th>\n",
       "      <td>Malindo Air</td>\n",
       "      <td>8374</td>\n",
       "    </tr>\n",
       "    <tr>\n",
       "      <th>3</th>\n",
       "      <td>Qatar Airways</td>\n",
       "      <td>5993</td>\n",
       "    </tr>\n",
       "    <tr>\n",
       "      <th>4</th>\n",
       "      <td>Emirates</td>\n",
       "      <td>5961</td>\n",
       "    </tr>\n",
       "  </tbody>\n",
       "</table>\n",
       "</div>"
      ],
      "text/plain": [
       "        airline_name     id\n",
       "0            AirAsia  25437\n",
       "1  Malaysia Airlines  23198\n",
       "2        Malindo Air   8374\n",
       "3      Qatar Airways   5993\n",
       "4           Emirates   5961"
      ]
     },
     "execution_count": 8,
     "metadata": {},
     "output_type": "execute_result"
    }
   ],
   "source": [
    "airline_count = df_train.groupby(['airline_name'])[['id']].count().sort_values(by = ['id'], ascending = False).reset_index()\n",
    "airline_count.head()"
   ]
  },
  {
   "cell_type": "code",
   "execution_count": 9,
   "metadata": {},
   "outputs": [
    {
     "data": {
      "text/plain": [
       "Text(0, 0.5, 'Airline')"
      ]
     },
     "execution_count": 9,
     "metadata": {},
     "output_type": "execute_result"
    },
    {
     "data": {
      "image/png": "[encoded data removed]",
      "text/plain": [
       "<Figure size 432x432 with 1 Axes>"
      ]
     },
     "metadata": {},
     "output_type": "display_data"
    }
   ],
   "source": [
    "plt.figure(figsize=(6, 6))\n",
    "plt.barh(airline_count['airline_name'].head(10), airline_count['id'].head(10))\n",
    "plt.xlabel('Count')\n",
    "plt.ylabel('Airline')"
   ]
  },
  {
   "cell_type": "markdown",
   "metadata": {},
   "source": [
    "### Top 10 Departures City Airport"
   ]
  },
  {
   "cell_type": "code",
   "execution_count": 10,
   "metadata": {},
   "outputs": [
    {
     "data": {
      "text/html": [
       "<div>\n",
       "<style scoped>\n",
       "    .dataframe tbody tr th:only-of-type {\n",
       "        vertical-align: middle;\n",
       "    }\n",
       "\n",
       "    .dataframe tbody tr th {\n",
       "        vertical-align: top;\n",
       "    }\n",
       "\n",
       "    .dataframe thead th {\n",
       "        text-align: right;\n",
       "    }\n",
       "</style>\n",
       "<table border=\"1\" class=\"dataframe\">\n",
       "  <thead>\n",
       "    <tr style=\"text-align: right;\">\n",
       "      <th></th>\n",
       "      <th>departure_airport_city</th>\n",
       "      <th>id</th>\n",
       "    </tr>\n",
       "  </thead>\n",
       "  <tbody>\n",
       "    <tr>\n",
       "      <th>0</th>\n",
       "      <td>Kuala Lumpur</td>\n",
       "      <td>69552</td>\n",
       "    </tr>\n",
       "    <tr>\n",
       "      <th>1</th>\n",
       "      <td>Penang</td>\n",
       "      <td>11291</td>\n",
       "    </tr>\n",
       "    <tr>\n",
       "      <th>2</th>\n",
       "      <td>Kota Kinabalu</td>\n",
       "      <td>8439</td>\n",
       "    </tr>\n",
       "    <tr>\n",
       "      <th>3</th>\n",
       "      <td>Kuching</td>\n",
       "      <td>5991</td>\n",
       "    </tr>\n",
       "    <tr>\n",
       "      <th>4</th>\n",
       "      <td>Johor Bharu</td>\n",
       "      <td>4251</td>\n",
       "    </tr>\n",
       "  </tbody>\n",
       "</table>\n",
       "</div>"
      ],
      "text/plain": [
       "  departure_airport_city     id\n",
       "0           Kuala Lumpur  69552\n",
       "1                 Penang  11291\n",
       "2          Kota Kinabalu   8439\n",
       "3                Kuching   5991\n",
       "4            Johor Bharu   4251"
      ]
     },
     "execution_count": 10,
     "metadata": {},
     "output_type": "execute_result"
    }
   ],
   "source": [
    "departure_count = df_train.groupby(['departure_airport_city'])[['id']].count().sort_values(by = ['id'], ascending = False).reset_index()\n",
    "departure_count.head()"
   ]
  },
  {
   "cell_type": "code",
   "execution_count": 11,
   "metadata": {},
   "outputs": [
    {
     "data": {
      "text/plain": [
       "Text(0, 0.5, 'Departure Airport City')"
      ]
     },
     "execution_count": 11,
     "metadata": {},
     "output_type": "execute_result"
    },
    {
     "data": {
      "image/png": "[encoded data removed]",
      "text/plain": [
       "<Figure size 432x432 with 1 Axes>"
      ]
     },
     "metadata": {},
     "output_type": "display_data"
    }
   ],
   "source": [
    "plt.figure(figsize=(6, 6))\n",
    "plt.barh(departure_count['departure_airport_city'].head(10), departure_count['id'].sort_values(ascending = False).head(10))\n",
    "plt.xlabel('Count')\n",
    "plt.ylabel('Departure Airport City')"
   ]
  },
  {
   "cell_type": "markdown",
   "metadata": {},
   "source": [
    "### Top 10 Arrival Airport City"
   ]
  },
  {
   "cell_type": "code",
   "execution_count": 12,
   "metadata": {},
   "outputs": [
    {
     "data": {
      "text/html": [
       "<div>\n",
       "<style scoped>\n",
       "    .dataframe tbody tr th:only-of-type {\n",
       "        vertical-align: middle;\n",
       "    }\n",
       "\n",
       "    .dataframe tbody tr th {\n",
       "        vertical-align: top;\n",
       "    }\n",
       "\n",
       "    .dataframe thead th {\n",
       "        text-align: right;\n",
       "    }\n",
       "</style>\n",
       "<table border=\"1\" class=\"dataframe\">\n",
       "  <thead>\n",
       "    <tr style=\"text-align: right;\">\n",
       "      <th></th>\n",
       "      <th>arrival_airport_city</th>\n",
       "      <th>id</th>\n",
       "    </tr>\n",
       "  </thead>\n",
       "  <tbody>\n",
       "    <tr>\n",
       "      <th>0</th>\n",
       "      <td>Kuala Lumpur</td>\n",
       "      <td>20535</td>\n",
       "    </tr>\n",
       "    <tr>\n",
       "      <th>1</th>\n",
       "      <td>Singapore</td>\n",
       "      <td>12553</td>\n",
       "    </tr>\n",
       "    <tr>\n",
       "      <th>2</th>\n",
       "      <td>Penang</td>\n",
       "      <td>6374</td>\n",
       "    </tr>\n",
       "    <tr>\n",
       "      <th>3</th>\n",
       "      <td>Kuching</td>\n",
       "      <td>5043</td>\n",
       "    </tr>\n",
       "    <tr>\n",
       "      <th>4</th>\n",
       "      <td>Kota Kinabalu</td>\n",
       "      <td>4675</td>\n",
       "    </tr>\n",
       "  </tbody>\n",
       "</table>\n",
       "</div>"
      ],
      "text/plain": [
       "  arrival_airport_city     id\n",
       "0         Kuala Lumpur  20535\n",
       "1            Singapore  12553\n",
       "2               Penang   6374\n",
       "3              Kuching   5043\n",
       "4        Kota Kinabalu   4675"
      ]
     },
     "execution_count": 12,
     "metadata": {},
     "output_type": "execute_result"
    }
   ],
   "source": [
    "arrival_count = df_train.groupby(['arrival_airport_city'])[['id']].count().sort_values(by = ['id'], ascending = False).reset_index()\n",
    "arrival_count.head()          "
   ]
  },
  {
   "cell_type": "code",
   "execution_count": 13,
   "metadata": {},
   "outputs": [
    {
     "data": {
      "text/plain": [
       "Text(0, 0.5, 'Arrival Airport City')"
      ]
     },
     "execution_count": 13,
     "metadata": {},
     "output_type": "execute_result"
    },
    {
     "data": {
      "image/png": "[encoded data removed]",
      "text/plain": [
       "<Figure size 432x432 with 1 Axes>"
      ]
     },
     "metadata": {},
     "output_type": "display_data"
    }
   ],
   "source": [
    "plt.figure(figsize=(6, 6))\n",
    "plt.barh(arrival_count['arrival_airport_city'].head(10), arrival_count['id'].sort_values(ascending = False).head(10))\n",
    "plt.xlabel('Count')\n",
    "plt.ylabel('Arrival Airport City')"
   ]
  },
  {
   "cell_type": "markdown",
   "metadata": {},
   "source": [
    "### Top 10 most airlines with highest mean delays in minute "
   ]
  },
  {
   "cell_type": "code",
   "execution_count": 14,
   "metadata": {},
   "outputs": [
    {
     "data": {
      "text/html": [
       "<div>\n",
       "<style scoped>\n",
       "    .dataframe tbody tr th:only-of-type {\n",
       "        vertical-align: middle;\n",
       "    }\n",
       "\n",
       "    .dataframe tbody tr th {\n",
       "        vertical-align: top;\n",
       "    }\n",
       "\n",
       "    .dataframe thead th {\n",
       "        text-align: right;\n",
       "    }\n",
       "</style>\n",
       "<table border=\"1\" class=\"dataframe\">\n",
       "  <thead>\n",
       "    <tr style=\"text-align: right;\">\n",
       "      <th></th>\n",
       "      <th>airline_name</th>\n",
       "      <th>delay</th>\n",
       "    </tr>\n",
       "  </thead>\n",
       "  <tbody>\n",
       "    <tr>\n",
       "      <th>0</th>\n",
       "      <td>Cargolux</td>\n",
       "      <td>190.200000</td>\n",
       "    </tr>\n",
       "    <tr>\n",
       "      <th>1</th>\n",
       "      <td>Nepal Airlines</td>\n",
       "      <td>96.535714</td>\n",
       "    </tr>\n",
       "    <tr>\n",
       "      <th>2</th>\n",
       "      <td>Pakistan International Airlines</td>\n",
       "      <td>58.625000</td>\n",
       "    </tr>\n",
       "    <tr>\n",
       "      <th>3</th>\n",
       "      <td>Biman Bangladesh Airlines</td>\n",
       "      <td>46.114286</td>\n",
       "    </tr>\n",
       "    <tr>\n",
       "      <th>4</th>\n",
       "      <td>VietJet Air</td>\n",
       "      <td>40.385965</td>\n",
       "    </tr>\n",
       "  </tbody>\n",
       "</table>\n",
       "</div>"
      ],
      "text/plain": [
       "                      airline_name       delay\n",
       "0                         Cargolux  190.200000\n",
       "1                   Nepal Airlines   96.535714\n",
       "2  Pakistan International Airlines   58.625000\n",
       "3        Biman Bangladesh Airlines   46.114286\n",
       "4                      VietJet Air   40.385965"
      ]
     },
     "execution_count": 14,
     "metadata": {},
     "output_type": "execute_result"
    }
   ],
   "source": [
    "mean_delay = df_train.groupby(['airline_name'])[['delay']].mean().sort_values(by = ['delay'], ascending = False).reset_index()\n",
    "mean_delay.head()"
   ]
  },
  {
   "cell_type": "code",
   "execution_count": 15,
   "metadata": {},
   "outputs": [
    {
     "data": {
      "text/plain": [
       "Text(0, 0.5, 'Airline')"
      ]
     },
     "execution_count": 15,
     "metadata": {},
     "output_type": "execute_result"
    },
    {
     "data": {
      "image/png": "[encoded data removed]",
      "text/plain": [
       "<Figure size 432x432 with 1 Axes>"
      ]
     },
     "metadata": {},
     "output_type": "display_data"
    }
   ],
   "source": [
    "plt.figure(figsize=(6, 6))\n",
    "plt.barh(mean_delay['airline_name'].head(10), mean_delay['delay'].sort_values(ascending = False).head(10))\n",
    "plt.xlabel('Minute')\n",
    "plt.ylabel('Airline')"
   ]
  },
  {
   "cell_type": "markdown",
   "metadata": {},
   "source": [
    "### Top 10 most airlines with lowest mean delays in minute "
   ]
  },
  {
   "cell_type": "code",
   "execution_count": 16,
   "metadata": {},
   "outputs": [
    {
     "data": {
      "text/plain": [
       "Text(0, 0.5, 'Airline')"
      ]
     },
     "execution_count": 16,
     "metadata": {},
     "output_type": "execute_result"
    },
    {
     "data": {
      "image/png": "[encoded data removed]",
      "text/plain": [
       "<Figure size 432x432 with 1 Axes>"
      ]
     },
     "metadata": {},
     "output_type": "display_data"
    }
   ],
   "source": [
    "plt.figure(figsize=(6, 6))\n",
    "plt.barh(mean_delay['airline_name'].tail(10), mean_delay['delay'].tail(10))\n",
    "plt.xlabel('Minute')\n",
    "plt.ylabel('Airline')"
   ]
  },
  {
   "cell_type": "markdown",
   "metadata": {},
   "source": [
    "### Top 10 most airlines with lowest mean delays in minute from Depart Kuala Lumpur City"
   ]
  },
  {
   "cell_type": "code",
   "execution_count": 17,
   "metadata": {},
   "outputs": [
    {
     "data": {
      "text/plain": [
       "Text(0.5, 0, 'Minute')"
      ]
     },
     "execution_count": 17,
     "metadata": {},
     "output_type": "execute_result"
    },
    {
     "data": {
      "image/png": "[encoded data removed]",
      "text/plain": [
       "<Figure size 432x288 with 1 Axes>"
      ]
     },
     "metadata": {},
     "output_type": "display_data"
    }
   ],
   "source": [
    "df_train[df_train['departure_airport_city'] == 'Kuala Lumpur'].groupby(['airline_name'])[['delay']].mean().sort_values(by = ['delay'], ascending = False).reset_index().tail(10).plot.barh('airline_name', 'delay')\n",
    "plt.xlabel('Minute')"
   ]
  },
  {
   "cell_type": "markdown",
   "metadata": {},
   "source": [
    "### Top 10 most airlines with lowest mean delays in minute arrive in Kuala Lumpur City"
   ]
  },
  {
   "cell_type": "code",
   "execution_count": 18,
   "metadata": {},
   "outputs": [
    {
     "data": {
      "text/html": [
       "<div>\n",
       "<style scoped>\n",
       "    .dataframe tbody tr th:only-of-type {\n",
       "        vertical-align: middle;\n",
       "    }\n",
       "\n",
       "    .dataframe tbody tr th {\n",
       "        vertical-align: top;\n",
       "    }\n",
       "\n",
       "    .dataframe thead th {\n",
       "        text-align: right;\n",
       "    }\n",
       "</style>\n",
       "<table border=\"1\" class=\"dataframe\">\n",
       "  <thead>\n",
       "    <tr style=\"text-align: right;\">\n",
       "      <th></th>\n",
       "      <th>scheduled_arrival_time</th>\n",
       "      <th>delay</th>\n",
       "    </tr>\n",
       "  </thead>\n",
       "  <tbody>\n",
       "    <tr>\n",
       "      <th>7387</th>\n",
       "      <td>2018-10-30 23:55:00</td>\n",
       "      <td>0.0</td>\n",
       "    </tr>\n",
       "    <tr>\n",
       "      <th>7388</th>\n",
       "      <td>2018-10-30 23:45:00</td>\n",
       "      <td>0.0</td>\n",
       "    </tr>\n",
       "    <tr>\n",
       "      <th>7389</th>\n",
       "      <td>2018-10-30 14:50:00</td>\n",
       "      <td>0.0</td>\n",
       "    </tr>\n",
       "    <tr>\n",
       "      <th>7390</th>\n",
       "      <td>2018-10-30 23:35:00</td>\n",
       "      <td>0.0</td>\n",
       "    </tr>\n",
       "    <tr>\n",
       "      <th>7391</th>\n",
       "      <td>2018-10-30 23:25:00</td>\n",
       "      <td>0.0</td>\n",
       "    </tr>\n",
       "    <tr>\n",
       "      <th>7392</th>\n",
       "      <td>2018-10-30 23:00:00</td>\n",
       "      <td>0.0</td>\n",
       "    </tr>\n",
       "    <tr>\n",
       "      <th>7393</th>\n",
       "      <td>2018-10-30 22:45:00</td>\n",
       "      <td>0.0</td>\n",
       "    </tr>\n",
       "    <tr>\n",
       "      <th>7394</th>\n",
       "      <td>2018-10-30 15:40:00</td>\n",
       "      <td>0.0</td>\n",
       "    </tr>\n",
       "    <tr>\n",
       "      <th>7395</th>\n",
       "      <td>2018-10-30 14:55:00</td>\n",
       "      <td>0.0</td>\n",
       "    </tr>\n",
       "    <tr>\n",
       "      <th>7396</th>\n",
       "      <td>2018-11-03 05:55:00</td>\n",
       "      <td>0.0</td>\n",
       "    </tr>\n",
       "  </tbody>\n",
       "</table>\n",
       "</div>"
      ],
      "text/plain": [
       "     scheduled_arrival_time  delay\n",
       "7387    2018-10-30 23:55:00    0.0\n",
       "7388    2018-10-30 23:45:00    0.0\n",
       "7389    2018-10-30 14:50:00    0.0\n",
       "7390    2018-10-30 23:35:00    0.0\n",
       "7391    2018-10-30 23:25:00    0.0\n",
       "7392    2018-10-30 23:00:00    0.0\n",
       "7393    2018-10-30 22:45:00    0.0\n",
       "7394    2018-10-30 15:40:00    0.0\n",
       "7395    2018-10-30 14:55:00    0.0\n",
       "7396    2018-11-03 05:55:00    0.0"
      ]
     },
     "execution_count": 18,
     "metadata": {},
     "output_type": "execute_result"
    }
   ],
   "source": [
    "arrival_delay = df_train[df_train['arrival_airport_city'] == 'Kuala Lumpur'].groupby(['scheduled_arrival_time'])[['delay']].mean().sort_values(by = ['delay'], ascending = False).reset_index()\n",
    "arrival_delay.tail(10)"
   ]
  },
  {
   "cell_type": "code",
   "execution_count": 19,
   "metadata": {},
   "outputs": [
    {
     "data": {
      "text/plain": [
       "Text(0.5, 0, 'Minute')"
      ]
     },
     "execution_count": 19,
     "metadata": {},
     "output_type": "execute_result"
    },
    {
     "data": {
      "image/png": "[encoded data removed]",
      "text/plain": [
       "<Figure size 432x288 with 1 Axes>"
      ]
     },
     "metadata": {},
     "output_type": "display_data"
    }
   ],
   "source": [
    "df_train[df_train['arrival_airport_city'] == 'Kuala Lumpur'].groupby(['airline_name'])[['delay']].mean().sort_values(by = ['delay'], ascending = False).reset_index().tail(10).plot.barh('airline_name', 'delay')\n",
    "plt.xlabel('Minute')"
   ]
  },
  {
   "cell_type": "code",
   "execution_count": 20,
   "metadata": {},
   "outputs": [
    {
     "data": {
      "text/plain": [
       "<Figure size 1440x1440 with 0 Axes>"
      ]
     },
     "execution_count": 20,
     "metadata": {},
     "output_type": "execute_result"
    },
    {
     "data": {
      "image/png": "[encoded data removed]",
      "text/plain": [
       "<Figure size 432x288 with 1 Axes>"
      ]
     },
     "metadata": {},
     "output_type": "display_data"
    },
    {
     "data": {
      "text/plain": [
       "<Figure size 1440x1440 with 0 Axes>"
      ]
     },
     "metadata": {},
     "output_type": "display_data"
    }
   ],
   "source": [
    "arrival_delay.plot('scheduled_arrival_time', 'delay')\n",
    "plt.figure(figsize = (20, 20))"
   ]
  },
  {
   "cell_type": "markdown",
   "metadata": {},
   "source": [
    "### Top 10 times with lowest mean delays in minute depart from Kuala Lumpur City"
   ]
  },
  {
   "cell_type": "markdown",
   "metadata": {},
   "source": [
    "There were some airflights that had 0 delays, but most had specific destination such as YTO Cargo only to China, if the subject only depart from Kuala Lumpur YTO Cargo, Hongkong Airlines, Firefly, Guangxi, and Silkway"
   ]
  },
  {
   "cell_type": "code",
   "execution_count": 21,
   "metadata": {},
   "outputs": [
    {
     "data": {
      "text/html": [
       "<div>\n",
       "<style scoped>\n",
       "    .dataframe tbody tr th:only-of-type {\n",
       "        vertical-align: middle;\n",
       "    }\n",
       "\n",
       "    .dataframe tbody tr th {\n",
       "        vertical-align: top;\n",
       "    }\n",
       "\n",
       "    .dataframe thead th {\n",
       "        text-align: right;\n",
       "    }\n",
       "</style>\n",
       "<table border=\"1\" class=\"dataframe\">\n",
       "  <thead>\n",
       "    <tr style=\"text-align: right;\">\n",
       "      <th></th>\n",
       "      <th>scheduled_departure_time</th>\n",
       "      <th>delay</th>\n",
       "    </tr>\n",
       "  </thead>\n",
       "  <tbody>\n",
       "    <tr>\n",
       "      <th>0</th>\n",
       "      <td>2018-11-17 14:45:00</td>\n",
       "      <td>660.0</td>\n",
       "    </tr>\n",
       "    <tr>\n",
       "      <th>1</th>\n",
       "      <td>2018-11-02 17:30:00</td>\n",
       "      <td>630.0</td>\n",
       "    </tr>\n",
       "    <tr>\n",
       "      <th>2</th>\n",
       "      <td>2018-10-10 11:15:00</td>\n",
       "      <td>366.5</td>\n",
       "    </tr>\n",
       "    <tr>\n",
       "      <th>3</th>\n",
       "      <td>2018-10-17 11:15:00</td>\n",
       "      <td>364.0</td>\n",
       "    </tr>\n",
       "    <tr>\n",
       "      <th>4</th>\n",
       "      <td>2018-11-07 11:20:00</td>\n",
       "      <td>329.5</td>\n",
       "    </tr>\n",
       "    <tr>\n",
       "      <th>5</th>\n",
       "      <td>2018-11-26 18:30:00</td>\n",
       "      <td>317.0</td>\n",
       "    </tr>\n",
       "    <tr>\n",
       "      <th>6</th>\n",
       "      <td>2018-11-14 11:20:00</td>\n",
       "      <td>309.5</td>\n",
       "    </tr>\n",
       "    <tr>\n",
       "      <th>7</th>\n",
       "      <td>2018-11-21 18:30:00</td>\n",
       "      <td>292.0</td>\n",
       "    </tr>\n",
       "    <tr>\n",
       "      <th>8</th>\n",
       "      <td>2018-11-30 18:30:00</td>\n",
       "      <td>289.0</td>\n",
       "    </tr>\n",
       "    <tr>\n",
       "      <th>9</th>\n",
       "      <td>2018-11-23 14:30:00</td>\n",
       "      <td>278.0</td>\n",
       "    </tr>\n",
       "  </tbody>\n",
       "</table>\n",
       "</div>"
      ],
      "text/plain": [
       "  scheduled_departure_time  delay\n",
       "0      2018-11-17 14:45:00  660.0\n",
       "1      2018-11-02 17:30:00  630.0\n",
       "2      2018-10-10 11:15:00  366.5\n",
       "3      2018-10-17 11:15:00  364.0\n",
       "4      2018-11-07 11:20:00  329.5\n",
       "5      2018-11-26 18:30:00  317.0\n",
       "6      2018-11-14 11:20:00  309.5\n",
       "7      2018-11-21 18:30:00  292.0\n",
       "8      2018-11-30 18:30:00  289.0\n",
       "9      2018-11-23 14:30:00  278.0"
      ]
     },
     "execution_count": 21,
     "metadata": {},
     "output_type": "execute_result"
    }
   ],
   "source": [
    "departure_delay = df_train[df_train['departure_airport_city'] == 'Kuala Lumpur'].groupby(['scheduled_departure_time'])[['delay']].mean().sort_values(by = ['delay'], ascending = False).reset_index()\n",
    "departure_delay.head(10)"
   ]
  },
  {
   "cell_type": "code",
   "execution_count": 22,
   "metadata": {},
   "outputs": [
    {
     "data": {
      "text/plain": [
       "Text(0.5, 0, 'Minute')"
      ]
     },
     "execution_count": 22,
     "metadata": {},
     "output_type": "execute_result"
    },
    {
     "data": {
      "image/png": "[encoded data removed]",
      "text/plain": [
       "<Figure size 432x288 with 1 Axes>"
      ]
     },
     "metadata": {},
     "output_type": "display_data"
    }
   ],
   "source": [
    "df_train[df_train['departure_airport_city'] == 'Kuala Lumpur'].groupby(['airline_name'])[['delay']].mean().sort_values(by = ['delay'], ascending = False).reset_index().tail(10).plot.barh('airline_name', 'delay')\n",
    "plt.xlabel('Minute')"
   ]
  },
  {
   "cell_type": "code",
   "execution_count": 23,
   "metadata": {},
   "outputs": [
    {
     "data": {
      "text/plain": [
       "<Figure size 1440x1440 with 0 Axes>"
      ]
     },
     "execution_count": 23,
     "metadata": {},
     "output_type": "execute_result"
    },
    {
     "data": {
      "image/png": "[encoded data removed]",
      "text/plain": [
       "<Figure size 432x288 with 1 Axes>"
      ]
     },
     "metadata": {},
     "output_type": "display_data"
    },
    {
     "data": {
      "text/plain": [
       "<Figure size 1440x1440 with 0 Axes>"
      ]
     },
     "metadata": {},
     "output_type": "display_data"
    }
   ],
   "source": [
    "departure_delay.plot('scheduled_departure_time', 'delay')\n",
    "plt.figure(figsize = (20, 20))"
   ]
  },
  {
   "cell_type": "markdown",
   "metadata": {},
   "source": [
    "## Checking delay by day, time, departure city, and flag duration"
   ]
  },
  {
   "cell_type": "code",
   "execution_count": 24,
   "metadata": {
    "collapsed": true
   },
   "outputs": [],
   "source": [
    "df_train[\"scheduled_departure_day\"] = df_train[\"scheduled_departure_time\"].apply(lambda x: x.strftime(\"%A\"))"
   ]
  },
  {
   "cell_type": "code",
   "execution_count": 25,
   "metadata": {},
   "outputs": [
    {
     "data": {
      "text/plain": [
       "<matplotlib.axes._subplots.AxesSubplot at 0x23e0f160>"
      ]
     },
     "execution_count": 25,
     "metadata": {},
     "output_type": "execute_result"
    },
    {
     "data": {
      "image/png": "[encoded data removed]",
      "text/plain": [
       "<Figure size 432x288 with 1 Axes>"
      ]
     },
     "metadata": {},
     "output_type": "display_data"
    }
   ],
   "source": [
    "df_train.groupby(['scheduled_departure_day'])[['delay']].mean().sort_values(by = ['delay'], ascending = False).reset_index().plot.bar('scheduled_departure_day', 'delay')"
   ]
  },
  {
   "cell_type": "code",
   "execution_count": 26,
   "metadata": {
    "collapsed": true
   },
   "outputs": [],
   "source": [
    "#Extract Minute\n",
    "\n",
    "df_train[\"scheduled_departure_time_hour\"] = df_train[\"scheduled_departure_time\"].dt.time"
   ]
  },
  {
   "cell_type": "code",
   "execution_count": 27,
   "metadata": {},
   "outputs": [
    {
     "data": {
      "text/plain": [
       "<Figure size 1440x1440 with 0 Axes>"
      ]
     },
     "execution_count": 27,
     "metadata": {},
     "output_type": "execute_result"
    },
    {
     "data": {
      "image/png": "[encoded data removed]",
      "text/plain": [
       "<Figure size 432x288 with 1 Axes>"
      ]
     },
     "metadata": {},
     "output_type": "display_data"
    },
    {
     "data": {
      "text/plain": [
       "<Figure size 1440x1440 with 0 Axes>"
      ]
     },
     "metadata": {},
     "output_type": "display_data"
    }
   ],
   "source": [
    "df_train.groupby(['scheduled_departure_time_hour'])[['delay']].mean().sort_values(by = ['delay'], ascending = False).tail(30).reset_index().plot.bar('scheduled_departure_time_hour', 'delay')\n",
    "plt.figure(figsize=(20, 20))"
   ]
  },
  {
   "cell_type": "markdown",
   "metadata": {},
   "source": [
    "With assumption delays from departure based on graph seems that night till midnight had lower average of delay. Although this need further check by day and holiday"
   ]
  },
  {
   "cell_type": "code",
   "execution_count": 28,
   "metadata": {},
   "outputs": [
    {
     "data": {
      "text/html": [
       "<div>\n",
       "<style scoped>\n",
       "    .dataframe tbody tr th:only-of-type {\n",
       "        vertical-align: middle;\n",
       "    }\n",
       "\n",
       "    .dataframe tbody tr th {\n",
       "        vertical-align: top;\n",
       "    }\n",
       "\n",
       "    .dataframe thead th {\n",
       "        text-align: right;\n",
       "    }\n",
       "</style>\n",
       "<table border=\"1\" class=\"dataframe\">\n",
       "  <thead>\n",
       "    <tr style=\"text-align: right;\">\n",
       "      <th></th>\n",
       "      <th>scheduled_departure_time_hour</th>\n",
       "      <th>scheduled_departure_day</th>\n",
       "      <th>delay</th>\n",
       "    </tr>\n",
       "  </thead>\n",
       "  <tbody>\n",
       "    <tr>\n",
       "      <th>0</th>\n",
       "      <td>18:50:00</td>\n",
       "      <td>Thursday</td>\n",
       "      <td>0.0</td>\n",
       "    </tr>\n",
       "    <tr>\n",
       "      <th>1</th>\n",
       "      <td>21:25:00</td>\n",
       "      <td>Saturday</td>\n",
       "      <td>0.0</td>\n",
       "    </tr>\n",
       "    <tr>\n",
       "      <th>2</th>\n",
       "      <td>18:50:00</td>\n",
       "      <td>Friday</td>\n",
       "      <td>0.0</td>\n",
       "    </tr>\n",
       "    <tr>\n",
       "      <th>3</th>\n",
       "      <td>18:40:00</td>\n",
       "      <td>Thursday</td>\n",
       "      <td>0.0</td>\n",
       "    </tr>\n",
       "    <tr>\n",
       "      <th>4</th>\n",
       "      <td>18:40:00</td>\n",
       "      <td>Saturday</td>\n",
       "      <td>0.0</td>\n",
       "    </tr>\n",
       "    <tr>\n",
       "      <th>5</th>\n",
       "      <td>21:05:00</td>\n",
       "      <td>Thursday</td>\n",
       "      <td>0.0</td>\n",
       "    </tr>\n",
       "    <tr>\n",
       "      <th>6</th>\n",
       "      <td>21:05:00</td>\n",
       "      <td>Tuesday</td>\n",
       "      <td>0.0</td>\n",
       "    </tr>\n",
       "    <tr>\n",
       "      <th>7</th>\n",
       "      <td>18:20:00</td>\n",
       "      <td>Tuesday</td>\n",
       "      <td>0.0</td>\n",
       "    </tr>\n",
       "    <tr>\n",
       "      <th>8</th>\n",
       "      <td>21:10:00</td>\n",
       "      <td>Thursday</td>\n",
       "      <td>0.0</td>\n",
       "    </tr>\n",
       "    <tr>\n",
       "      <th>9</th>\n",
       "      <td>20:20:00</td>\n",
       "      <td>Wednesday</td>\n",
       "      <td>0.0</td>\n",
       "    </tr>\n",
       "  </tbody>\n",
       "</table>\n",
       "</div>"
      ],
      "text/plain": [
       "  scheduled_departure_time_hour scheduled_departure_day  delay\n",
       "0                      18:50:00                Thursday    0.0\n",
       "1                      21:25:00                Saturday    0.0\n",
       "2                      18:50:00                  Friday    0.0\n",
       "3                      18:40:00                Thursday    0.0\n",
       "4                      18:40:00                Saturday    0.0\n",
       "5                      21:05:00                Thursday    0.0\n",
       "6                      21:05:00                 Tuesday    0.0\n",
       "7                      18:20:00                 Tuesday    0.0\n",
       "8                      21:10:00                Thursday    0.0\n",
       "9                      20:20:00               Wednesday    0.0"
      ]
     },
     "execution_count": 28,
     "metadata": {},
     "output_type": "execute_result"
    }
   ],
   "source": [
    "df_train.groupby(['scheduled_departure_time_hour', 'scheduled_departure_day'])[['delay']].mean().sort_values(by = ['delay'], ascending = False).tail(10).reset_index()"
   ]
  },
  {
   "cell_type": "markdown",
   "metadata": {},
   "source": [
    "Seems weekdays and night time are best time to depart"
   ]
  },
  {
   "cell_type": "code",
   "execution_count": 29,
   "metadata": {},
   "outputs": [
    {
     "data": {
      "text/plain": [
       "<matplotlib.axes._subplots.AxesSubplot at 0x1d6b59b0>"
      ]
     },
     "execution_count": 29,
     "metadata": {},
     "output_type": "execute_result"
    },
    {
     "data": {
      "image/png": "[encoded data removed]",
      "text/plain": [
       "<Figure size 432x288 with 1 Axes>"
      ]
     },
     "metadata": {},
     "output_type": "display_data"
    }
   ],
   "source": [
    "df_train.groupby(['departure_airport_city'])['delay'].mean().sort_values(ascending = False).plot(kind = 'bar')"
   ]
  },
  {
   "cell_type": "code",
   "execution_count": 30,
   "metadata": {
    "collapsed": true
   },
   "outputs": [],
   "source": [
    "df_train['duration_ticket'] = df_train['scheduled_arrival_time'] - df_train['scheduled_departure_time']"
   ]
  },
  {
   "cell_type": "code",
   "execution_count": 31,
   "metadata": {
    "collapsed": true
   },
   "outputs": [],
   "source": [
    "from datetime import datetime, date, time, timedelta\n",
    "\n",
    "df_train['duration_ticket'] = df_train['duration_ticket'].apply(lambda x: x.total_seconds()/60)"
   ]
  },
  {
   "cell_type": "code",
   "execution_count": 32,
   "metadata": {},
   "outputs": [
    {
     "data": {
      "text/html": [
       "<div>\n",
       "<style scoped>\n",
       "    .dataframe tbody tr th:only-of-type {\n",
       "        vertical-align: middle;\n",
       "    }\n",
       "\n",
       "    .dataframe tbody tr th {\n",
       "        vertical-align: top;\n",
       "    }\n",
       "\n",
       "    .dataframe thead th {\n",
       "        text-align: right;\n",
       "    }\n",
       "</style>\n",
       "<table border=\"1\" class=\"dataframe\">\n",
       "  <thead>\n",
       "    <tr style=\"text-align: right;\">\n",
       "      <th></th>\n",
       "      <th>delay</th>\n",
       "      <th>duration_ticket</th>\n",
       "    </tr>\n",
       "  </thead>\n",
       "  <tbody>\n",
       "    <tr>\n",
       "      <th>count</th>\n",
       "      <td>111068.000000</td>\n",
       "      <td>111063.000000</td>\n",
       "    </tr>\n",
       "    <tr>\n",
       "      <th>mean</th>\n",
       "      <td>11.540210</td>\n",
       "      <td>136.690113</td>\n",
       "    </tr>\n",
       "    <tr>\n",
       "      <th>std</th>\n",
       "      <td>26.806913</td>\n",
       "      <td>118.740274</td>\n",
       "    </tr>\n",
       "    <tr>\n",
       "      <th>min</th>\n",
       "      <td>0.000000</td>\n",
       "      <td>20.000000</td>\n",
       "    </tr>\n",
       "    <tr>\n",
       "      <th>25%</th>\n",
       "      <td>0.000000</td>\n",
       "      <td>60.000000</td>\n",
       "    </tr>\n",
       "    <tr>\n",
       "      <th>50%</th>\n",
       "      <td>1.000000</td>\n",
       "      <td>95.000000</td>\n",
       "    </tr>\n",
       "    <tr>\n",
       "      <th>75%</th>\n",
       "      <td>13.000000</td>\n",
       "      <td>160.000000</td>\n",
       "    </tr>\n",
       "    <tr>\n",
       "      <th>max</th>\n",
       "      <td>978.000000</td>\n",
       "      <td>1330.000000</td>\n",
       "    </tr>\n",
       "  </tbody>\n",
       "</table>\n",
       "</div>"
      ],
      "text/plain": [
       "               delay  duration_ticket\n",
       "count  111068.000000    111063.000000\n",
       "mean       11.540210       136.690113\n",
       "std        26.806913       118.740274\n",
       "min         0.000000        20.000000\n",
       "25%         0.000000        60.000000\n",
       "50%         1.000000        95.000000\n",
       "75%        13.000000       160.000000\n",
       "max       978.000000      1330.000000"
      ]
     },
     "execution_count": 32,
     "metadata": {},
     "output_type": "execute_result"
    }
   ],
   "source": [
    "df_train[['delay', 'duration_ticket']].describe(include = [np.number])"
   ]
  },
  {
   "cell_type": "code",
   "execution_count": 33,
   "metadata": {},
   "outputs": [
    {
     "data": {
      "text/plain": [
       "Text(0, 0.5, 'Delay in minute')"
      ]
     },
     "execution_count": 33,
     "metadata": {},
     "output_type": "execute_result"
    },
    {
     "data": {
      "image/png": "[encoded data removed]",
      "text/plain": [
       "<Figure size 432x288 with 1 Axes>"
      ]
     },
     "metadata": {},
     "output_type": "display_data"
    }
   ],
   "source": [
    "df_train.groupby(['duration_ticket'])['delay'].mean().plot()\n",
    "plt.ylabel('Delay in minute')"
   ]
  },
  {
   "cell_type": "markdown",
   "metadata": {},
   "source": [
    "I can't see the pattern between whole duration data and delay, so I decided to see the pattern by partitioning it by certain time of duration as shown below"
   ]
  },
  {
   "cell_type": "code",
   "execution_count": 34,
   "metadata": {},
   "outputs": [
    {
     "data": {
      "text/plain": [
       "Text(0, 0.5, 'Delay in minute')"
      ]
     },
     "execution_count": 34,
     "metadata": {},
     "output_type": "execute_result"
    },
    {
     "data": {
      "image/png": "[encoded data removed]",
      "text/plain": [
       "<Figure size 432x288 with 1 Axes>"
      ]
     },
     "metadata": {},
     "output_type": "display_data"
    }
   ],
   "source": [
    "df_train[df_train['duration_ticket'] < 800].groupby(['duration_ticket'])['delay'].mean().plot()\n",
    "plt.ylabel('Delay in minute')"
   ]
  },
  {
   "cell_type": "code",
   "execution_count": 35,
   "metadata": {},
   "outputs": [
    {
     "data": {
      "text/plain": [
       "Text(0, 0.5, 'Delay in minute')"
      ]
     },
     "execution_count": 35,
     "metadata": {},
     "output_type": "execute_result"
    },
    {
     "data": {
      "image/png": "[encoded data removed]",
      "text/plain": [
       "<Figure size 432x288 with 1 Axes>"
      ]
     },
     "metadata": {},
     "output_type": "display_data"
    }
   ],
   "source": [
    "df_train[df_train['duration_ticket'] <= 400].groupby(['duration_ticket'])['delay'].mean().plot()\n",
    "plt.ylabel('Delay in minute')"
   ]
  },
  {
   "cell_type": "markdown",
   "metadata": {},
   "source": [
    "Seems that the relationships between duration and delay only captured with duration about 400 minutes, while beyond date, the  relationships between duration and delay are hard to see"
   ]
  },
  {
   "cell_type": "markdown",
   "metadata": {},
   "source": [
    "## Calculate Outliers"
   ]
  },
  {
   "cell_type": "code",
   "execution_count": 36,
   "metadata": {
    "collapsed": true
   },
   "outputs": [],
   "source": [
    "def outliers(df, column):\n",
    "    q1 = df[column].quantile(0.25)\n",
    "    q3 = df[column].quantile(0.75)\n",
    "    iqr = q3 - q1\n",
    "    q1_ext = q1 - 1.5 * iqr\n",
    "    q3_ext = q3 + 1.5 * iqr\n",
    "    \n",
    "    return q1_ext, q3_ext"
   ]
  },
  {
   "cell_type": "code",
   "execution_count": 37,
   "metadata": {},
   "outputs": [
    {
     "data": {
      "text/plain": [
       "(-19.5, 32.5)"
      ]
     },
     "execution_count": 37,
     "metadata": {},
     "output_type": "execute_result"
    }
   ],
   "source": [
    "outliers(df_train, 'delay')"
   ]
  },
  {
   "cell_type": "code",
   "execution_count": 38,
   "metadata": {},
   "outputs": [
    {
     "name": "stderr",
     "output_type": "stream",
     "text": [
      "D:\\Anaconda3\\lib\\site-packages\\seaborn\\categorical.py:462: FutureWarning: remove_na is deprecated and is a private function. Do not use.\n",
      "  box_data = remove_na(group_data)\n"
     ]
    },
    {
     "data": {
      "text/plain": [
       "<matplotlib.axes._subplots.AxesSubplot at 0x1d7d6860>"
      ]
     },
     "execution_count": 38,
     "metadata": {},
     "output_type": "execute_result"
    },
    {
     "data": {
      "image/png": "[encoded data removed]",
      "text/plain": [
       "<Figure size 432x288 with 1 Axes>"
      ]
     },
     "metadata": {},
     "output_type": "display_data"
    }
   ],
   "source": [
    "sns.boxplot(y='delay', data=df_train[df_train['delay'] <= 32.5])"
   ]
  },
  {
   "cell_type": "markdown",
   "metadata": {},
   "source": [
    "For linear regression, I used filter out the delay above 32.5 minutes"
   ]
  },
  {
   "cell_type": "code",
   "execution_count": 39,
   "metadata": {},
   "outputs": [
    {
     "data": {
      "text/html": [
       "<div>\n",
       "<style scoped>\n",
       "    .dataframe tbody tr th:only-of-type {\n",
       "        vertical-align: middle;\n",
       "    }\n",
       "\n",
       "    .dataframe tbody tr th {\n",
       "        vertical-align: top;\n",
       "    }\n",
       "\n",
       "    .dataframe thead th {\n",
       "        text-align: right;\n",
       "    }\n",
       "</style>\n",
       "<table border=\"1\" class=\"dataframe\">\n",
       "  <thead>\n",
       "    <tr style=\"text-align: right;\">\n",
       "      <th></th>\n",
       "      <th>id</th>\n",
       "      <th>number</th>\n",
       "      <th>airline</th>\n",
       "      <th>airline_name</th>\n",
       "      <th>scheduled_departure_time</th>\n",
       "      <th>scheduled_arrival_time</th>\n",
       "      <th>departure_airport_city</th>\n",
       "      <th>departure_airport_code</th>\n",
       "      <th>departure_airport_country</th>\n",
       "      <th>departure_airport_gate</th>\n",
       "      <th>...</th>\n",
       "      <th>arrival_airport_region</th>\n",
       "      <th>arrival_airport_terminal</th>\n",
       "      <th>arrival_airport_timezone</th>\n",
       "      <th>flight_equipment_iata</th>\n",
       "      <th>flight_equipment_name</th>\n",
       "      <th>flight_duration</th>\n",
       "      <th>delay</th>\n",
       "      <th>scheduled_departure_day</th>\n",
       "      <th>scheduled_departure_time_hour</th>\n",
       "      <th>duration_ticket</th>\n",
       "    </tr>\n",
       "  </thead>\n",
       "  <tbody>\n",
       "    <tr>\n",
       "      <th>0</th>\n",
       "      <td>1</td>\n",
       "      <td>AK6430</td>\n",
       "      <td>AK</td>\n",
       "      <td>AirAsia</td>\n",
       "      <td>2018-10-05 22:00:00</td>\n",
       "      <td>2018-10-05 23:05:00</td>\n",
       "      <td>Kuala Lumpur</td>\n",
       "      <td>KUL</td>\n",
       "      <td>MY</td>\n",
       "      <td>J15</td>\n",
       "      <td>...</td>\n",
       "      <td>Asia</td>\n",
       "      <td>NaN</td>\n",
       "      <td>Asia/Kuala_Lumpur</td>\n",
       "      <td>32S</td>\n",
       "      <td>Airbus A318 / A319 / A320 / A321</td>\n",
       "      <td>58m</td>\n",
       "      <td>2</td>\n",
       "      <td>Friday</td>\n",
       "      <td>22:00:00</td>\n",
       "      <td>65.0</td>\n",
       "    </tr>\n",
       "    <tr>\n",
       "      <th>1</th>\n",
       "      <td>2</td>\n",
       "      <td>ID*7164</td>\n",
       "      <td>ID*</td>\n",
       "      <td>Batik Air</td>\n",
       "      <td>2018-10-05 22:00:00</td>\n",
       "      <td>2018-10-05 23:55:00</td>\n",
       "      <td>Kuala Lumpur</td>\n",
       "      <td>KUL</td>\n",
       "      <td>MY</td>\n",
       "      <td>C33</td>\n",
       "      <td>...</td>\n",
       "      <td>Asia</td>\n",
       "      <td>2</td>\n",
       "      <td>Asia/Jakarta</td>\n",
       "      <td>32S</td>\n",
       "      <td>Airbus A318 / A319 / A320 / A321</td>\n",
       "      <td>1h 55m</td>\n",
       "      <td>8</td>\n",
       "      <td>Friday</td>\n",
       "      <td>22:00:00</td>\n",
       "      <td>115.0</td>\n",
       "    </tr>\n",
       "    <tr>\n",
       "      <th>2</th>\n",
       "      <td>3</td>\n",
       "      <td>MXD9116</td>\n",
       "      <td>MXD</td>\n",
       "      <td>Malindo Air</td>\n",
       "      <td>2018-10-05 22:00:00</td>\n",
       "      <td>2018-10-05 23:55:00</td>\n",
       "      <td>Kuala Lumpur</td>\n",
       "      <td>KUL</td>\n",
       "      <td>MY</td>\n",
       "      <td>C33</td>\n",
       "      <td>...</td>\n",
       "      <td>Asia</td>\n",
       "      <td>2</td>\n",
       "      <td>Asia/Jakarta</td>\n",
       "      <td>32S</td>\n",
       "      <td>Airbus A318 / A319 / A320 / A321</td>\n",
       "      <td>1h 55m</td>\n",
       "      <td>8</td>\n",
       "      <td>Friday</td>\n",
       "      <td>22:00:00</td>\n",
       "      <td>115.0</td>\n",
       "    </tr>\n",
       "    <tr>\n",
       "      <th>3</th>\n",
       "      <td>4</td>\n",
       "      <td>AK5198</td>\n",
       "      <td>AK</td>\n",
       "      <td>AirAsia</td>\n",
       "      <td>2018-10-05 22:05:00</td>\n",
       "      <td>2018-10-06 01:00:00</td>\n",
       "      <td>Kuala Lumpur</td>\n",
       "      <td>KUL</td>\n",
       "      <td>MY</td>\n",
       "      <td>J9</td>\n",
       "      <td>...</td>\n",
       "      <td>Asia</td>\n",
       "      <td>NaN</td>\n",
       "      <td>Asia/Kuala_Lumpur</td>\n",
       "      <td>32S</td>\n",
       "      <td>Airbus A318 / A319 / A320 / A321</td>\n",
       "      <td>2h 54m</td>\n",
       "      <td>0</td>\n",
       "      <td>Friday</td>\n",
       "      <td>22:05:00</td>\n",
       "      <td>175.0</td>\n",
       "    </tr>\n",
       "    <tr>\n",
       "      <th>4</th>\n",
       "      <td>5</td>\n",
       "      <td>AK516</td>\n",
       "      <td>AK</td>\n",
       "      <td>AirAsia</td>\n",
       "      <td>2018-10-05 22:10:00</td>\n",
       "      <td>2018-10-06 01:25:00</td>\n",
       "      <td>Kuala Lumpur</td>\n",
       "      <td>KUL</td>\n",
       "      <td>MY</td>\n",
       "      <td>P1</td>\n",
       "      <td>...</td>\n",
       "      <td>Asia</td>\n",
       "      <td>T2</td>\n",
       "      <td>Asia/Ho_Chi_Minh</td>\n",
       "      <td>32S</td>\n",
       "      <td>Airbus A318 / A319 / A320 / A321</td>\n",
       "      <td>3h 17m</td>\n",
       "      <td>0</td>\n",
       "      <td>Friday</td>\n",
       "      <td>22:10:00</td>\n",
       "      <td>195.0</td>\n",
       "    </tr>\n",
       "  </tbody>\n",
       "</table>\n",
       "<p>5 rows × 29 columns</p>\n",
       "</div>"
      ],
      "text/plain": [
       "   id   number airline airline_name scheduled_departure_time  \\\n",
       "0   1   AK6430      AK      AirAsia      2018-10-05 22:00:00   \n",
       "1   2  ID*7164     ID*    Batik Air      2018-10-05 22:00:00   \n",
       "2   3  MXD9116     MXD  Malindo Air      2018-10-05 22:00:00   \n",
       "3   4   AK5198      AK      AirAsia      2018-10-05 22:05:00   \n",
       "4   5    AK516      AK      AirAsia      2018-10-05 22:10:00   \n",
       "\n",
       "  scheduled_arrival_time departure_airport_city departure_airport_code  \\\n",
       "0    2018-10-05 23:05:00           Kuala Lumpur                    KUL   \n",
       "1    2018-10-05 23:55:00           Kuala Lumpur                    KUL   \n",
       "2    2018-10-05 23:55:00           Kuala Lumpur                    KUL   \n",
       "3    2018-10-06 01:00:00           Kuala Lumpur                    KUL   \n",
       "4    2018-10-06 01:25:00           Kuala Lumpur                    KUL   \n",
       "\n",
       "  departure_airport_country departure_airport_gate  ...  \\\n",
       "0                        MY                    J15  ...   \n",
       "1                        MY                    C33  ...   \n",
       "2                        MY                    C33  ...   \n",
       "3                        MY                     J9  ...   \n",
       "4                        MY                     P1  ...   \n",
       "\n",
       "  arrival_airport_region arrival_airport_terminal arrival_airport_timezone  \\\n",
       "0                   Asia                      NaN        Asia/Kuala_Lumpur   \n",
       "1                   Asia                        2             Asia/Jakarta   \n",
       "2                   Asia                        2             Asia/Jakarta   \n",
       "3                   Asia                      NaN        Asia/Kuala_Lumpur   \n",
       "4                   Asia                       T2         Asia/Ho_Chi_Minh   \n",
       "\n",
       "  flight_equipment_iata             flight_equipment_name flight_duration  \\\n",
       "0                   32S  Airbus A318 / A319 / A320 / A321             58m   \n",
       "1                   32S  Airbus A318 / A319 / A320 / A321          1h 55m   \n",
       "2                   32S  Airbus A318 / A319 / A320 / A321          1h 55m   \n",
       "3                   32S  Airbus A318 / A319 / A320 / A321          2h 54m   \n",
       "4                   32S  Airbus A318 / A319 / A320 / A321          3h 17m   \n",
       "\n",
       "  delay scheduled_departure_day scheduled_departure_time_hour duration_ticket  \n",
       "0     2                  Friday                      22:00:00            65.0  \n",
       "1     8                  Friday                      22:00:00           115.0  \n",
       "2     8                  Friday                      22:00:00           115.0  \n",
       "3     0                  Friday                      22:05:00           175.0  \n",
       "4     0                  Friday                      22:10:00           195.0  \n",
       "\n",
       "[5 rows x 29 columns]"
      ]
     },
     "execution_count": 39,
     "metadata": {},
     "output_type": "execute_result"
    }
   ],
   "source": [
    "df_train_clean = df_train[(df_train['delay'] <= 32.5)]\n",
    "df_train_clean.head()"
   ]
  },
  {
   "cell_type": "markdown",
   "metadata": {},
   "source": [
    "## Checking NA Value"
   ]
  },
  {
   "cell_type": "code",
   "execution_count": 40,
   "metadata": {},
   "outputs": [
    {
     "data": {
      "text/html": [
       "<div>\n",
       "<style scoped>\n",
       "    .dataframe tbody tr th:only-of-type {\n",
       "        vertical-align: middle;\n",
       "    }\n",
       "\n",
       "    .dataframe tbody tr th {\n",
       "        vertical-align: top;\n",
       "    }\n",
       "\n",
       "    .dataframe thead th {\n",
       "        text-align: right;\n",
       "    }\n",
       "</style>\n",
       "<table border=\"1\" class=\"dataframe\">\n",
       "  <thead>\n",
       "    <tr style=\"text-align: right;\">\n",
       "      <th></th>\n",
       "      <th>airline_name</th>\n",
       "      <th>arrival_airport_country</th>\n",
       "      <th>arrival_airport_city</th>\n",
       "      <th>departure_airport_city</th>\n",
       "    </tr>\n",
       "  </thead>\n",
       "  <tbody>\n",
       "    <tr>\n",
       "      <th>8167</th>\n",
       "      <td>Cathay Pacific</td>\n",
       "      <td>MY</td>\n",
       "      <td>Penang</td>\n",
       "      <td>Kuala Lumpur</td>\n",
       "    </tr>\n",
       "    <tr>\n",
       "      <th>8168</th>\n",
       "      <td>Cathay Dragon</td>\n",
       "      <td>MY</td>\n",
       "      <td>Penang</td>\n",
       "      <td>Kuala Lumpur</td>\n",
       "    </tr>\n",
       "    <tr>\n",
       "      <th>38176</th>\n",
       "      <td>Volga-Dnepr</td>\n",
       "      <td>GU</td>\n",
       "      <td>Guam</td>\n",
       "      <td>Kuala Lumpur</td>\n",
       "    </tr>\n",
       "    <tr>\n",
       "      <th>100795</th>\n",
       "      <td>Air New Zealand</td>\n",
       "      <td>AU</td>\n",
       "      <td>Cairns</td>\n",
       "      <td>Kuala Lumpur</td>\n",
       "    </tr>\n",
       "    <tr>\n",
       "      <th>100798</th>\n",
       "      <td>Air New Zealand</td>\n",
       "      <td>AU</td>\n",
       "      <td>Cairns</td>\n",
       "      <td>Kuala Lumpur</td>\n",
       "    </tr>\n",
       "  </tbody>\n",
       "</table>\n",
       "</div>"
      ],
      "text/plain": [
       "           airline_name arrival_airport_country arrival_airport_city  \\\n",
       "8167     Cathay Pacific                      MY               Penang   \n",
       "8168      Cathay Dragon                      MY               Penang   \n",
       "38176       Volga-Dnepr                      GU                 Guam   \n",
       "100795  Air New Zealand                      AU               Cairns   \n",
       "100798  Air New Zealand                      AU               Cairns   \n",
       "\n",
       "       departure_airport_city  \n",
       "8167             Kuala Lumpur  \n",
       "8168             Kuala Lumpur  \n",
       "38176            Kuala Lumpur  \n",
       "100795           Kuala Lumpur  \n",
       "100798           Kuala Lumpur  "
      ]
     },
     "execution_count": 40,
     "metadata": {},
     "output_type": "execute_result"
    }
   ],
   "source": [
    "df_train_clean[df_train_clean['duration_ticket'].isna()][['airline_name', 'arrival_airport_country','arrival_airport_city','departure_airport_city']]"
   ]
  },
  {
   "cell_type": "markdown",
   "metadata": {},
   "source": [
    "## Fill NA Value"
   ]
  },
  {
   "cell_type": "markdown",
   "metadata": {},
   "source": [
    "Fill NA Value manually by checking in google for removed outliers"
   ]
  },
  {
   "cell_type": "code",
   "execution_count": 41,
   "metadata": {},
   "outputs": [
    {
     "name": "stderr",
     "output_type": "stream",
     "text": [
      "C:\\Users\\gilang.mahardika\\AppData\\Roaming\\Python\\Python36\\site-packages\\pandas\\core\\indexing.py:494: SettingWithCopyWarning: \n",
      "A value is trying to be set on a copy of a slice from a DataFrame.\n",
      "Try using .loc[row_indexer,col_indexer] = value instead\n",
      "\n",
      "See the caveats in the documentation: http://pandas.pydata.org/pandas-docs/stable/user_guide/indexing.html#returning-a-view-versus-a-copy\n",
      "  self.obj[item] = s\n"
     ]
    }
   ],
   "source": [
    "df_train_clean.loc[(df_train_clean['arrival_airport_city'] == 'Penang') & (df_train_clean['departure_airport_city'] == 'Kuala Lumpur') & (df_train_clean['duration_ticket'].isna()), 'duration_ticket'] = 60"
   ]
  },
  {
   "cell_type": "code",
   "execution_count": 42,
   "metadata": {},
   "outputs": [
    {
     "name": "stderr",
     "output_type": "stream",
     "text": [
      "C:\\Users\\gilang.mahardika\\AppData\\Roaming\\Python\\Python36\\site-packages\\pandas\\core\\indexing.py:494: SettingWithCopyWarning: \n",
      "A value is trying to be set on a copy of a slice from a DataFrame.\n",
      "Try using .loc[row_indexer,col_indexer] = value instead\n",
      "\n",
      "See the caveats in the documentation: http://pandas.pydata.org/pandas-docs/stable/user_guide/indexing.html#returning-a-view-versus-a-copy\n",
      "  self.obj[item] = s\n"
     ]
    }
   ],
   "source": [
    "df_train_clean.loc[(df_train_clean['arrival_airport_city'] == 'Guam') & (df_train_clean['departure_airport_city'] == 'Kuala Lumpur') & (df_train_clean['duration_ticket'].isna()), 'duration_ticket'] = 361"
   ]
  },
  {
   "cell_type": "code",
   "execution_count": 43,
   "metadata": {},
   "outputs": [
    {
     "name": "stderr",
     "output_type": "stream",
     "text": [
      "C:\\Users\\gilang.mahardika\\AppData\\Roaming\\Python\\Python36\\site-packages\\pandas\\core\\indexing.py:494: SettingWithCopyWarning: \n",
      "A value is trying to be set on a copy of a slice from a DataFrame.\n",
      "Try using .loc[row_indexer,col_indexer] = value instead\n",
      "\n",
      "See the caveats in the documentation: http://pandas.pydata.org/pandas-docs/stable/user_guide/indexing.html#returning-a-view-versus-a-copy\n",
      "  self.obj[item] = s\n"
     ]
    }
   ],
   "source": [
    "df_train_clean.loc[(df_train_clean['arrival_airport_city'] == 'Cairns') & (df_train_clean['departure_airport_city'] == 'Kuala Lumpur') & (df_train_clean['duration_ticket'].isna()), 'duration_ticket'] = 476"
   ]
  },
  {
   "cell_type": "code",
   "execution_count": 44,
   "metadata": {},
   "outputs": [
    {
     "data": {
      "text/html": [
       "<div>\n",
       "<style scoped>\n",
       "    .dataframe tbody tr th:only-of-type {\n",
       "        vertical-align: middle;\n",
       "    }\n",
       "\n",
       "    .dataframe tbody tr th {\n",
       "        vertical-align: top;\n",
       "    }\n",
       "\n",
       "    .dataframe thead th {\n",
       "        text-align: right;\n",
       "    }\n",
       "</style>\n",
       "<table border=\"1\" class=\"dataframe\">\n",
       "  <thead>\n",
       "    <tr style=\"text-align: right;\">\n",
       "      <th></th>\n",
       "      <th>airline_name</th>\n",
       "      <th>arrival_airport_country</th>\n",
       "      <th>arrival_airport_city</th>\n",
       "      <th>departure_airport_city</th>\n",
       "    </tr>\n",
       "  </thead>\n",
       "  <tbody>\n",
       "  </tbody>\n",
       "</table>\n",
       "</div>"
      ],
      "text/plain": [
       "Empty DataFrame\n",
       "Columns: [airline_name, arrival_airport_country, arrival_airport_city, departure_airport_city]\n",
       "Index: []"
      ]
     },
     "execution_count": 44,
     "metadata": {},
     "output_type": "execute_result"
    }
   ],
   "source": [
    "df_train_clean[df_train_clean['duration_ticket'].isna()][['airline_name', 'arrival_airport_country','arrival_airport_city','departure_airport_city']]"
   ]
  },
  {
   "cell_type": "code",
   "execution_count": 45,
   "metadata": {
    "collapsed": true
   },
   "outputs": [],
   "source": [
    "#for raw data train\n",
    "\n",
    "df_train.loc[(df_train['arrival_airport_city'] == 'Penang') & (df_train['departure_airport_city'] == 'Kuala Lumpur') & (df_train['duration_ticket'].isna()), 'duration_ticket'] = 60\n",
    "df_train.loc[(df_train['arrival_airport_city'] == 'Guam') & (df_train['departure_airport_city'] == 'Kuala Lumpur') & (df_train['duration_ticket'].isna()), 'duration_ticket'] = 361\n",
    "df_train.loc[(df_train['arrival_airport_city'] == 'Cairns') & (df_train['departure_airport_city'] == 'Kuala Lumpur') & (df_train['duration_ticket'].isna()), 'duration_ticket'] = 476"
   ]
  },
  {
   "cell_type": "markdown",
   "metadata": {},
   "source": [
    "## Feature Engineering"
   ]
  },
  {
   "cell_type": "markdown",
   "metadata": {},
   "source": [
    "### Training Data"
   ]
  },
  {
   "cell_type": "markdown",
   "metadata": {},
   "source": [
    "#### Flag Delay"
   ]
  },
  {
   "cell_type": "code",
   "execution_count": 46,
   "metadata": {
    "collapsed": true
   },
   "outputs": [],
   "source": [
    "#Flag delay above 60 minutes equal to 1\n",
    "\n",
    "df_train.loc[df_train['delay'] > 60, 'flag_delay'] = 1\n",
    "df_train.loc[df_train['delay'] <= 60, 'flag_delay'] = 0"
   ]
  },
  {
   "cell_type": "code",
   "execution_count": 47,
   "metadata": {},
   "outputs": [
    {
     "data": {
      "text/plain": [
       "0.0    96.41841\n",
       "1.0     3.58159\n",
       "Name: flag_delay, dtype: float64"
      ]
     },
     "execution_count": 47,
     "metadata": {},
     "output_type": "execute_result"
    }
   ],
   "source": [
    "df_train['flag_delay'].value_counts(normalize = True)*100"
   ]
  },
  {
   "cell_type": "markdown",
   "metadata": {},
   "source": [
    "#### Dummy Variables"
   ]
  },
  {
   "cell_type": "code",
   "execution_count": 48,
   "metadata": {},
   "outputs": [
    {
     "data": {
      "text/html": [
       "<div>\n",
       "<style scoped>\n",
       "    .dataframe tbody tr th:only-of-type {\n",
       "        vertical-align: middle;\n",
       "    }\n",
       "\n",
       "    .dataframe tbody tr th {\n",
       "        vertical-align: top;\n",
       "    }\n",
       "\n",
       "    .dataframe thead th {\n",
       "        text-align: right;\n",
       "    }\n",
       "</style>\n",
       "<table border=\"1\" class=\"dataframe\">\n",
       "  <thead>\n",
       "    <tr style=\"text-align: right;\">\n",
       "      <th></th>\n",
       "      <th>number</th>\n",
       "      <th>airline</th>\n",
       "      <th>airline_name</th>\n",
       "      <th>scheduled_departure_time</th>\n",
       "      <th>scheduled_arrival_time</th>\n",
       "      <th>departure_airport_city</th>\n",
       "      <th>departure_airport_code</th>\n",
       "      <th>departure_airport_country</th>\n",
       "      <th>departure_airport_gate</th>\n",
       "      <th>departure_airport_name</th>\n",
       "      <th>...</th>\n",
       "      <th>arrival_airport_gate</th>\n",
       "      <th>arrival_airport_name</th>\n",
       "      <th>arrival_airport_region</th>\n",
       "      <th>arrival_airport_terminal</th>\n",
       "      <th>arrival_airport_timezone</th>\n",
       "      <th>flight_equipment_iata</th>\n",
       "      <th>flight_equipment_name</th>\n",
       "      <th>flight_duration</th>\n",
       "      <th>scheduled_departure_day</th>\n",
       "      <th>scheduled_departure_time_hour</th>\n",
       "    </tr>\n",
       "  </thead>\n",
       "  <tbody>\n",
       "    <tr>\n",
       "      <th>count</th>\n",
       "      <td>100209</td>\n",
       "      <td>100209</td>\n",
       "      <td>100209</td>\n",
       "      <td>100209</td>\n",
       "      <td>100204</td>\n",
       "      <td>100209</td>\n",
       "      <td>100209</td>\n",
       "      <td>100209</td>\n",
       "      <td>59241</td>\n",
       "      <td>100209</td>\n",
       "      <td>...</td>\n",
       "      <td>10887</td>\n",
       "      <td>100209</td>\n",
       "      <td>100209</td>\n",
       "      <td>47347</td>\n",
       "      <td>100209</td>\n",
       "      <td>100190</td>\n",
       "      <td>100190</td>\n",
       "      <td>100206</td>\n",
       "      <td>100209</td>\n",
       "      <td>100209</td>\n",
       "    </tr>\n",
       "    <tr>\n",
       "      <th>unique</th>\n",
       "      <td>2494</td>\n",
       "      <td>104</td>\n",
       "      <td>104</td>\n",
       "      <td>12733</td>\n",
       "      <td>13872</td>\n",
       "      <td>15</td>\n",
       "      <td>16</td>\n",
       "      <td>1</td>\n",
       "      <td>187</td>\n",
       "      <td>16</td>\n",
       "      <td>...</td>\n",
       "      <td>257</td>\n",
       "      <td>152</td>\n",
       "      <td>4</td>\n",
       "      <td>17</td>\n",
       "      <td>42</td>\n",
       "      <td>49</td>\n",
       "      <td>49</td>\n",
       "      <td>678</td>\n",
       "      <td>7</td>\n",
       "      <td>250</td>\n",
       "    </tr>\n",
       "    <tr>\n",
       "      <th>top</th>\n",
       "      <td>MH5312</td>\n",
       "      <td>AK</td>\n",
       "      <td>AirAsia</td>\n",
       "      <td>2018-11-07 23:00:00</td>\n",
       "      <td>2018-10-20 09:30:00</td>\n",
       "      <td>Kuala Lumpur</td>\n",
       "      <td>KUL</td>\n",
       "      <td>MY</td>\n",
       "      <td>H2</td>\n",
       "      <td>Kuala Lumpur International Airport</td>\n",
       "      <td>...</td>\n",
       "      <td>02</td>\n",
       "      <td>Kuala Lumpur International Airport</td>\n",
       "      <td>Asia</td>\n",
       "      <td>2</td>\n",
       "      <td>Asia/Kuala_Lumpur</td>\n",
       "      <td>738</td>\n",
       "      <td>Boeing 737-800 Passenger</td>\n",
       "      <td>1h</td>\n",
       "      <td>Friday</td>\n",
       "      <td>01:00:00</td>\n",
       "    </tr>\n",
       "    <tr>\n",
       "      <th>freq</th>\n",
       "      <td>114</td>\n",
       "      <td>22416</td>\n",
       "      <td>22416</td>\n",
       "      <td>80</td>\n",
       "      <td>44</td>\n",
       "      <td>62249</td>\n",
       "      <td>55419</td>\n",
       "      <td>100209</td>\n",
       "      <td>1183</td>\n",
       "      <td>55419</td>\n",
       "      <td>...</td>\n",
       "      <td>751</td>\n",
       "      <td>14549</td>\n",
       "      <td>95626</td>\n",
       "      <td>16024</td>\n",
       "      <td>55246</td>\n",
       "      <td>40912</td>\n",
       "      <td>40912</td>\n",
       "      <td>9153</td>\n",
       "      <td>15572</td>\n",
       "      <td>2075</td>\n",
       "    </tr>\n",
       "    <tr>\n",
       "      <th>first</th>\n",
       "      <td>NaN</td>\n",
       "      <td>NaN</td>\n",
       "      <td>NaN</td>\n",
       "      <td>2018-10-04 22:00:00</td>\n",
       "      <td>2018-10-04 22:45:00</td>\n",
       "      <td>NaN</td>\n",
       "      <td>NaN</td>\n",
       "      <td>NaN</td>\n",
       "      <td>NaN</td>\n",
       "      <td>NaN</td>\n",
       "      <td>...</td>\n",
       "      <td>NaN</td>\n",
       "      <td>NaN</td>\n",
       "      <td>NaN</td>\n",
       "      <td>NaN</td>\n",
       "      <td>NaN</td>\n",
       "      <td>NaN</td>\n",
       "      <td>NaN</td>\n",
       "      <td>NaN</td>\n",
       "      <td>NaN</td>\n",
       "      <td>NaN</td>\n",
       "    </tr>\n",
       "    <tr>\n",
       "      <th>last</th>\n",
       "      <td>NaN</td>\n",
       "      <td>NaN</td>\n",
       "      <td>NaN</td>\n",
       "      <td>2018-11-30 23:55:00</td>\n",
       "      <td>2018-12-01 06:40:00</td>\n",
       "      <td>NaN</td>\n",
       "      <td>NaN</td>\n",
       "      <td>NaN</td>\n",
       "      <td>NaN</td>\n",
       "      <td>NaN</td>\n",
       "      <td>...</td>\n",
       "      <td>NaN</td>\n",
       "      <td>NaN</td>\n",
       "      <td>NaN</td>\n",
       "      <td>NaN</td>\n",
       "      <td>NaN</td>\n",
       "      <td>NaN</td>\n",
       "      <td>NaN</td>\n",
       "      <td>NaN</td>\n",
       "      <td>NaN</td>\n",
       "      <td>NaN</td>\n",
       "    </tr>\n",
       "  </tbody>\n",
       "</table>\n",
       "<p>6 rows × 26 columns</p>\n",
       "</div>"
      ],
      "text/plain": [
       "        number airline airline_name scheduled_departure_time  \\\n",
       "count   100209  100209       100209                   100209   \n",
       "unique    2494     104          104                    12733   \n",
       "top     MH5312      AK      AirAsia      2018-11-07 23:00:00   \n",
       "freq       114   22416        22416                       80   \n",
       "first      NaN     NaN          NaN      2018-10-04 22:00:00   \n",
       "last       NaN     NaN          NaN      2018-11-30 23:55:00   \n",
       "\n",
       "       scheduled_arrival_time departure_airport_city departure_airport_code  \\\n",
       "count                  100204                 100209                 100209   \n",
       "unique                  13872                     15                     16   \n",
       "top       2018-10-20 09:30:00           Kuala Lumpur                    KUL   \n",
       "freq                       44                  62249                  55419   \n",
       "first     2018-10-04 22:45:00                    NaN                    NaN   \n",
       "last      2018-12-01 06:40:00                    NaN                    NaN   \n",
       "\n",
       "       departure_airport_country departure_airport_gate  \\\n",
       "count                     100209                  59241   \n",
       "unique                         1                    187   \n",
       "top                           MY                     H2   \n",
       "freq                      100209                   1183   \n",
       "first                        NaN                    NaN   \n",
       "last                         NaN                    NaN   \n",
       "\n",
       "                    departure_airport_name  ... arrival_airport_gate  \\\n",
       "count                               100209  ...                10887   \n",
       "unique                                  16  ...                  257   \n",
       "top     Kuala Lumpur International Airport  ...                   02   \n",
       "freq                                 55419  ...                  751   \n",
       "first                                  NaN  ...                  NaN   \n",
       "last                                   NaN  ...                  NaN   \n",
       "\n",
       "                      arrival_airport_name arrival_airport_region  \\\n",
       "count                               100209                 100209   \n",
       "unique                                 152                      4   \n",
       "top     Kuala Lumpur International Airport                   Asia   \n",
       "freq                                 14549                  95626   \n",
       "first                                  NaN                    NaN   \n",
       "last                                   NaN                    NaN   \n",
       "\n",
       "       arrival_airport_terminal arrival_airport_timezone  \\\n",
       "count                     47347                   100209   \n",
       "unique                       17                       42   \n",
       "top                           2        Asia/Kuala_Lumpur   \n",
       "freq                      16024                    55246   \n",
       "first                       NaN                      NaN   \n",
       "last                        NaN                      NaN   \n",
       "\n",
       "       flight_equipment_iata     flight_equipment_name flight_duration  \\\n",
       "count                 100190                    100190          100206   \n",
       "unique                    49                        49             678   \n",
       "top                      738  Boeing 737-800 Passenger              1h   \n",
       "freq                   40912                     40912            9153   \n",
       "first                    NaN                       NaN             NaN   \n",
       "last                     NaN                       NaN             NaN   \n",
       "\n",
       "       scheduled_departure_day scheduled_departure_time_hour  \n",
       "count                   100209                        100209  \n",
       "unique                       7                           250  \n",
       "top                     Friday                      01:00:00  \n",
       "freq                     15572                          2075  \n",
       "first                      NaN                           NaN  \n",
       "last                       NaN                           NaN  \n",
       "\n",
       "[6 rows x 26 columns]"
      ]
     },
     "execution_count": 48,
     "metadata": {},
     "output_type": "execute_result"
    }
   ],
   "source": [
    "obj = df_train_clean.select_dtypes(exclude=[np.number])\n",
    "obj.describe()"
   ]
  },
  {
   "cell_type": "code",
   "execution_count": 49,
   "metadata": {},
   "outputs": [
    {
     "name": "stderr",
     "output_type": "stream",
     "text": [
      "C:\\Users\\gilang.mahardika\\AppData\\Roaming\\Python\\Python36\\site-packages\\pandas\\core\\indexing.py:376: SettingWithCopyWarning: \n",
      "A value is trying to be set on a copy of a slice from a DataFrame.\n",
      "Try using .loc[row_indexer,col_indexer] = value instead\n",
      "\n",
      "See the caveats in the documentation: http://pandas.pydata.org/pandas-docs/stable/user_guide/indexing.html#returning-a-view-versus-a-copy\n",
      "  self.obj[key] = _infer_fill_value(value)\n",
      "C:\\Users\\gilang.mahardika\\AppData\\Roaming\\Python\\Python36\\site-packages\\pandas\\core\\indexing.py:494: SettingWithCopyWarning: \n",
      "A value is trying to be set on a copy of a slice from a DataFrame.\n",
      "Try using .loc[row_indexer,col_indexer] = value instead\n",
      "\n",
      "See the caveats in the documentation: http://pandas.pydata.org/pandas-docs/stable/user_guide/indexing.html#returning-a-view-versus-a-copy\n",
      "  self.obj[item] = s\n"
     ]
    }
   ],
   "source": [
    "df_train_clean.loc[df_train_clean['arrival_airport_country'] =='MY' , 'flag_my'] = 1\n",
    "df_train_clean.loc[df_train_clean['arrival_airport_country'] !='MY', 'flag_my'] = 0"
   ]
  },
  {
   "cell_type": "code",
   "execution_count": 50,
   "metadata": {},
   "outputs": [
    {
     "data": {
      "text/plain": [
       "<matplotlib.axes._subplots.AxesSubplot at 0x1dbec630>"
      ]
     },
     "execution_count": 50,
     "metadata": {},
     "output_type": "execute_result"
    },
    {
     "data": {
      "image/png": "[encoded data removed]",
      "text/plain": [
       "<Figure size 432x288 with 1 Axes>"
      ]
     },
     "metadata": {},
     "output_type": "display_data"
    }
   ],
   "source": [
    "df_train_clean.groupby(['arrival_airport_country'])['delay'].mean().sort_values(ascending = False).plot(kind = 'bar')"
   ]
  },
  {
   "cell_type": "code",
   "execution_count": 51,
   "metadata": {
    "collapsed": true
   },
   "outputs": [],
   "source": [
    "df_train.loc[df_train['arrival_airport_country'] =='MY' , 'flag_my'] = 1\n",
    "df_train.loc[df_train['arrival_airport_country'] !='MY', 'flag_my'] = 0"
   ]
  },
  {
   "cell_type": "code",
   "execution_count": 52,
   "metadata": {},
   "outputs": [
    {
     "data": {
      "text/plain": [
       "<matplotlib.axes._subplots.AxesSubplot at 0x1e076ac8>"
      ]
     },
     "execution_count": 52,
     "metadata": {},
     "output_type": "execute_result"
    },
    {
     "data": {
      "image/png": "[encoded data removed]",
      "text/plain": [
       "<Figure size 432x288 with 1 Axes>"
      ]
     },
     "metadata": {},
     "output_type": "display_data"
    }
   ],
   "source": [
    "df_train.groupby(['arrival_airport_country'])['delay'].mean().sort_values(ascending = False).plot(kind = 'bar')"
   ]
  },
  {
   "cell_type": "markdown",
   "metadata": {},
   "source": [
    "We can see the difference between clean training data and training data, that Luxembourg had highest average delay but if we remove the delay outlier, Uzbekisthan had the highest average delay destination "
   ]
  },
  {
   "cell_type": "markdown",
   "metadata": {},
   "source": [
    "### Test Data"
   ]
  },
  {
   "cell_type": "code",
   "execution_count": 53,
   "metadata": {
    "collapsed": true
   },
   "outputs": [],
   "source": [
    "df_test.loc[df_test['arrival_airport_country'] =='MY' , 'flag_my'] = 1\n",
    "df_test.loc[df_test['arrival_airport_country'] !='MY', 'flag_my'] = 0"
   ]
  },
  {
   "cell_type": "code",
   "execution_count": 54,
   "metadata": {
    "collapsed": true
   },
   "outputs": [],
   "source": [
    "df_test['scheduled_departure_time'] = pd.to_datetime(df_test['scheduled_departure_time'])\n",
    "df_test['scheduled_arrival_time'] = pd.to_datetime(df_test['scheduled_arrival_time'])"
   ]
  },
  {
   "cell_type": "code",
   "execution_count": 55,
   "metadata": {
    "collapsed": true
   },
   "outputs": [],
   "source": [
    "df_test['duration_ticket'] = df_test['scheduled_arrival_time'] - df_test['scheduled_departure_time']"
   ]
  },
  {
   "cell_type": "code",
   "execution_count": 56,
   "metadata": {
    "collapsed": true
   },
   "outputs": [],
   "source": [
    "df_test['duration_ticket'] = df_test['duration_ticket'].apply(lambda x: x.total_seconds()/60)"
   ]
  },
  {
   "cell_type": "code",
   "execution_count": 57,
   "metadata": {},
   "outputs": [],
   "source": [
    "#Flag delay above 60 minutes equal to 1\n",
    "\n",
    "df_test.loc[df_test['delay'] > 60, 'flag_delay'] = 1\n",
    "df_test.loc[df_test['delay'] <= 60, 'flag_delay'] = 0"
   ]
  },
  {
   "cell_type": "code",
   "execution_count": 58,
   "metadata": {},
   "outputs": [
    {
     "data": {
      "text/html": [
       "<div>\n",
       "<style scoped>\n",
       "    .dataframe tbody tr th:only-of-type {\n",
       "        vertical-align: middle;\n",
       "    }\n",
       "\n",
       "    .dataframe tbody tr th {\n",
       "        vertical-align: top;\n",
       "    }\n",
       "\n",
       "    .dataframe thead th {\n",
       "        text-align: right;\n",
       "    }\n",
       "</style>\n",
       "<table border=\"1\" class=\"dataframe\">\n",
       "  <thead>\n",
       "    <tr style=\"text-align: right;\">\n",
       "      <th></th>\n",
       "      <th>id</th>\n",
       "      <th>number</th>\n",
       "      <th>airline</th>\n",
       "      <th>airline_name</th>\n",
       "      <th>scheduled_departure_time</th>\n",
       "      <th>scheduled_arrival_time</th>\n",
       "      <th>departure_airport_city</th>\n",
       "      <th>departure_airport_code</th>\n",
       "      <th>departure_airport_country</th>\n",
       "      <th>departure_airport_gate</th>\n",
       "      <th>...</th>\n",
       "      <th>arrival_airport_region</th>\n",
       "      <th>arrival_airport_terminal</th>\n",
       "      <th>arrival_airport_timezone</th>\n",
       "      <th>flight_equipment_iata</th>\n",
       "      <th>flight_equipment_name</th>\n",
       "      <th>flight_duration</th>\n",
       "      <th>delay</th>\n",
       "      <th>flag_my</th>\n",
       "      <th>duration_ticket</th>\n",
       "      <th>flag_delay</th>\n",
       "    </tr>\n",
       "  </thead>\n",
       "  <tbody>\n",
       "    <tr>\n",
       "      <th>0</th>\n",
       "      <td>483244</td>\n",
       "      <td>CZ7412</td>\n",
       "      <td>CZ</td>\n",
       "      <td>China Southern Airlines</td>\n",
       "      <td>2018-12-01</td>\n",
       "      <td>2018-12-01 04:40:00</td>\n",
       "      <td>Kuala Lumpur</td>\n",
       "      <td>KUL</td>\n",
       "      <td>MY</td>\n",
       "      <td>C11</td>\n",
       "      <td>...</td>\n",
       "      <td>Asia</td>\n",
       "      <td>NaN</td>\n",
       "      <td>Asia/Shanghai</td>\n",
       "      <td>738</td>\n",
       "      <td>Boeing 737-800 Passenger</td>\n",
       "      <td>4h 40m</td>\n",
       "      <td>15</td>\n",
       "      <td>0.0</td>\n",
       "      <td>280.0</td>\n",
       "      <td>0.0</td>\n",
       "    </tr>\n",
       "    <tr>\n",
       "      <th>1</th>\n",
       "      <td>483245</td>\n",
       "      <td>MH5712</td>\n",
       "      <td>MH</td>\n",
       "      <td>Malaysia Airlines</td>\n",
       "      <td>2018-12-01</td>\n",
       "      <td>2018-12-01 04:40:00</td>\n",
       "      <td>Kuala Lumpur</td>\n",
       "      <td>KUL</td>\n",
       "      <td>MY</td>\n",
       "      <td>C11</td>\n",
       "      <td>...</td>\n",
       "      <td>Asia</td>\n",
       "      <td>NaN</td>\n",
       "      <td>Asia/Shanghai</td>\n",
       "      <td>738</td>\n",
       "      <td>Boeing 737-800 Passenger</td>\n",
       "      <td>4h 40m</td>\n",
       "      <td>15</td>\n",
       "      <td>0.0</td>\n",
       "      <td>280.0</td>\n",
       "      <td>0.0</td>\n",
       "    </tr>\n",
       "    <tr>\n",
       "      <th>2</th>\n",
       "      <td>483246</td>\n",
       "      <td>TK8186</td>\n",
       "      <td>TK</td>\n",
       "      <td>Turkish Airlines</td>\n",
       "      <td>2018-12-01</td>\n",
       "      <td>2018-12-01 02:40:00</td>\n",
       "      <td>Kuala Lumpur</td>\n",
       "      <td>KUL</td>\n",
       "      <td>MY</td>\n",
       "      <td>A4</td>\n",
       "      <td>...</td>\n",
       "      <td>Asia</td>\n",
       "      <td>NaN</td>\n",
       "      <td>Asia/Kuala_Lumpur</td>\n",
       "      <td>738</td>\n",
       "      <td>Boeing 737-800 Passenger</td>\n",
       "      <td>2h 40m</td>\n",
       "      <td>27</td>\n",
       "      <td>1.0</td>\n",
       "      <td>160.0</td>\n",
       "      <td>0.0</td>\n",
       "    </tr>\n",
       "    <tr>\n",
       "      <th>3</th>\n",
       "      <td>483247</td>\n",
       "      <td>AK6324</td>\n",
       "      <td>AK</td>\n",
       "      <td>AirAsia</td>\n",
       "      <td>2018-12-01</td>\n",
       "      <td>2018-12-01 01:05:00</td>\n",
       "      <td>Kuala Lumpur</td>\n",
       "      <td>KUL</td>\n",
       "      <td>MY</td>\n",
       "      <td>J1</td>\n",
       "      <td>...</td>\n",
       "      <td>Asia</td>\n",
       "      <td>NaN</td>\n",
       "      <td>Asia/Kuala_Lumpur</td>\n",
       "      <td>32S</td>\n",
       "      <td>Airbus A318 / A319 / A320 / A321</td>\n",
       "      <td>1h 10m</td>\n",
       "      <td>95</td>\n",
       "      <td>1.0</td>\n",
       "      <td>65.0</td>\n",
       "      <td>1.0</td>\n",
       "    </tr>\n",
       "    <tr>\n",
       "      <th>4</th>\n",
       "      <td>483248</td>\n",
       "      <td>UA7967</td>\n",
       "      <td>UA</td>\n",
       "      <td>United Airlines</td>\n",
       "      <td>2018-12-01</td>\n",
       "      <td>2018-12-01 06:40:00</td>\n",
       "      <td>Kuala Lumpur</td>\n",
       "      <td>KUL</td>\n",
       "      <td>MY</td>\n",
       "      <td>C22</td>\n",
       "      <td>...</td>\n",
       "      <td>Asia</td>\n",
       "      <td>1</td>\n",
       "      <td>Asia/Tokyo</td>\n",
       "      <td>788</td>\n",
       "      <td>Boeing 787-8</td>\n",
       "      <td>6h 23m</td>\n",
       "      <td>20</td>\n",
       "      <td>0.0</td>\n",
       "      <td>400.0</td>\n",
       "      <td>0.0</td>\n",
       "    </tr>\n",
       "  </tbody>\n",
       "</table>\n",
       "<p>5 rows × 29 columns</p>\n",
       "</div>"
      ],
      "text/plain": [
       "       id  number airline             airline_name scheduled_departure_time  \\\n",
       "0  483244  CZ7412      CZ  China Southern Airlines               2018-12-01   \n",
       "1  483245  MH5712      MH        Malaysia Airlines               2018-12-01   \n",
       "2  483246  TK8186      TK         Turkish Airlines               2018-12-01   \n",
       "3  483247  AK6324      AK                  AirAsia               2018-12-01   \n",
       "4  483248  UA7967      UA          United Airlines               2018-12-01   \n",
       "\n",
       "  scheduled_arrival_time departure_airport_city departure_airport_code  \\\n",
       "0    2018-12-01 04:40:00           Kuala Lumpur                    KUL   \n",
       "1    2018-12-01 04:40:00           Kuala Lumpur                    KUL   \n",
       "2    2018-12-01 02:40:00           Kuala Lumpur                    KUL   \n",
       "3    2018-12-01 01:05:00           Kuala Lumpur                    KUL   \n",
       "4    2018-12-01 06:40:00           Kuala Lumpur                    KUL   \n",
       "\n",
       "  departure_airport_country departure_airport_gate  ...  \\\n",
       "0                        MY                    C11  ...   \n",
       "1                        MY                    C11  ...   \n",
       "2                        MY                     A4  ...   \n",
       "3                        MY                     J1  ...   \n",
       "4                        MY                    C22  ...   \n",
       "\n",
       "  arrival_airport_region arrival_airport_terminal arrival_airport_timezone  \\\n",
       "0                   Asia                      NaN            Asia/Shanghai   \n",
       "1                   Asia                      NaN            Asia/Shanghai   \n",
       "2                   Asia                      NaN        Asia/Kuala_Lumpur   \n",
       "3                   Asia                      NaN        Asia/Kuala_Lumpur   \n",
       "4                   Asia                        1               Asia/Tokyo   \n",
       "\n",
       "  flight_equipment_iata             flight_equipment_name flight_duration  \\\n",
       "0                   738          Boeing 737-800 Passenger          4h 40m   \n",
       "1                   738          Boeing 737-800 Passenger          4h 40m   \n",
       "2                   738          Boeing 737-800 Passenger          2h 40m   \n",
       "3                   32S  Airbus A318 / A319 / A320 / A321          1h 10m   \n",
       "4                   788                      Boeing 787-8          6h 23m   \n",
       "\n",
       "  delay flag_my duration_ticket flag_delay  \n",
       "0    15     0.0           280.0        0.0  \n",
       "1    15     0.0           280.0        0.0  \n",
       "2    27     1.0           160.0        0.0  \n",
       "3    95     1.0            65.0        1.0  \n",
       "4    20     0.0           400.0        0.0  \n",
       "\n",
       "[5 rows x 29 columns]"
      ]
     },
     "execution_count": 58,
     "metadata": {},
     "output_type": "execute_result"
    }
   ],
   "source": [
    "#Select not null value\n",
    "\n",
    "df_test = df_test[df_test['duration_ticket'].notnull()]\n",
    "df_test.head()"
   ]
  },
  {
   "cell_type": "markdown",
   "metadata": {},
   "source": [
    "## Linear Regression"
   ]
  },
  {
   "cell_type": "markdown",
   "metadata": {},
   "source": [
    "For removed outliers"
   ]
  },
  {
   "cell_type": "code",
   "execution_count": 59,
   "metadata": {
    "collapsed": true
   },
   "outputs": [],
   "source": [
    "mul_reg = df_train_clean[['flag_my', 'duration_ticket', 'delay']].copy()"
   ]
  },
  {
   "cell_type": "code",
   "execution_count": 60,
   "metadata": {
    "collapsed": true
   },
   "outputs": [],
   "source": [
    "model = mul_reg.copy()"
   ]
  },
  {
   "cell_type": "code",
   "execution_count": 61,
   "metadata": {
    "collapsed": true
   },
   "outputs": [],
   "source": [
    "X_train = model.iloc[:, 0:len(model.columns)-1]\n",
    "y_train = model.iloc[:, len(model.columns)-1]"
   ]
  },
  {
   "cell_type": "code",
   "execution_count": 62,
   "metadata": {
    "collapsed": true
   },
   "outputs": [],
   "source": [
    "X_test = df_test[['flag_my', 'duration_ticket']]\n",
    "y_test = df_test[['delay']]"
   ]
  },
  {
   "cell_type": "code",
   "execution_count": 63,
   "metadata": {},
   "outputs": [
    {
     "data": {
      "text/plain": [
       "LinearRegression(copy_X=True, fit_intercept=True, n_jobs=None, normalize=False)"
      ]
     },
     "execution_count": 63,
     "metadata": {},
     "output_type": "execute_result"
    }
   ],
   "source": [
    "multi_regression = LinearRegression()\n",
    "multi_regression.fit(X_train, y_train)"
   ]
  },
  {
   "cell_type": "code",
   "execution_count": 64,
   "metadata": {
    "collapsed": true
   },
   "outputs": [],
   "source": [
    "y_pred_train = multi_regression.predict(X_train)"
   ]
  },
  {
   "cell_type": "code",
   "execution_count": 65,
   "metadata": {
    "collapsed": true
   },
   "outputs": [],
   "source": [
    "y_pred_test = multi_regression.predict(X_test)"
   ]
  },
  {
   "cell_type": "code",
   "execution_count": 66,
   "metadata": {},
   "outputs": [
    {
     "name": "stdout",
     "output_type": "stream",
     "text": [
      "mse train = 62.657283222943974\n"
     ]
    }
   ],
   "source": [
    "print('mse train = {}'.format(mean_squared_error(y_pred_train, y_train)))"
   ]
  },
  {
   "cell_type": "code",
   "execution_count": 67,
   "metadata": {},
   "outputs": [
    {
     "name": "stdout",
     "output_type": "stream",
     "text": [
      "mse train = 1110.1780937264607\n"
     ]
    }
   ],
   "source": [
    "print('mse train = {}'.format(mean_squared_error(y_pred_test, y_test)))"
   ]
  },
  {
   "cell_type": "code",
   "execution_count": 68,
   "metadata": {},
   "outputs": [
    {
     "name": "stdout",
     "output_type": "stream",
     "text": [
      "7.915635364450789\n",
      "33.31933513331952\n"
     ]
    }
   ],
   "source": [
    "import math\n",
    "\n",
    "rmse_train = math.sqrt(mean_squared_error(y_pred_train, y_train))\n",
    "rmse_test = math.sqrt(mean_squared_error(y_pred_test, y_test))\n",
    "print(rmse_train)\n",
    "print(rmse_test)"
   ]
  },
  {
   "cell_type": "code",
   "execution_count": 69,
   "metadata": {},
   "outputs": [
    {
     "name": "stdout",
     "output_type": "stream",
     "text": [
      "   Coefficients  Standard Errors  t values  Probabilites            Index\n",
      "0        5.9907              NaN       NaN           NaN        Intercept\n",
      "1       -2.4784              NaN       NaN           NaN          flag_my\n",
      "2        0.0051              NaN       NaN           NaN  duration_ticket\n"
     ]
    },
    {
     "name": "stderr",
     "output_type": "stream",
     "text": [
      "D:\\Anaconda3\\lib\\site-packages\\scipy\\stats\\_distn_infrastructure.py:901: RuntimeWarning: invalid value encountered in greater\n",
      "  return (a < x) & (x < b)\n",
      "D:\\Anaconda3\\lib\\site-packages\\scipy\\stats\\_distn_infrastructure.py:901: RuntimeWarning: invalid value encountered in less\n",
      "  return (a < x) & (x < b)\n",
      "D:\\Anaconda3\\lib\\site-packages\\scipy\\stats\\_distn_infrastructure.py:1807: RuntimeWarning: invalid value encountered in greater_equal\n",
      "  cond2 = (x >= _b) & cond0\n"
     ]
    }
   ],
   "source": [
    "from scipy import stats\n",
    "\n",
    "params = np.append(multi_regression.intercept_,multi_regression.coef_)\n",
    "\n",
    "newX = pd.DataFrame({\"Constant\":np.ones(len(X_train))}).join(pd.DataFrame(X_train))\n",
    "MSE = (sum((y_train-y_pred_train)**2))/(len(newX)-len(newX.columns))\n",
    "\n",
    "# Note if you don't want to use a DataFrame replace the two lines above with\n",
    "# newX = np.append(np.ones((len(X),1)), X, axis=1)\n",
    "# MSE = (sum((y-predictions)**2))/(len(newX)-len(newX[0]))\n",
    "\n",
    "var_b = MSE*(np.linalg.inv(np.dot(newX.T,newX)).diagonal())\n",
    "sd_b = np.sqrt(var_b)\n",
    "ts_b = params/ sd_b\n",
    "\n",
    "p_values =[2*(1-stats.t.cdf(np.abs(i),(len(newX)-1))) for i in ts_b]\n",
    "\n",
    "sd_b = np.round(sd_b,3)\n",
    "ts_b = np.round(ts_b,3)\n",
    "p_values = np.round(p_values,3)\n",
    "params = np.round(params,4)\n",
    "\n",
    "myDF3 = pd.DataFrame()\n",
    "myDF3[\"Coefficients\"],myDF3[\"Standard Errors\"],myDF3[\"t values\"],myDF3[\"Probabilites\"] = [params,sd_b,ts_b,p_values]\n",
    "myDF3['Index'] = ['Intercept', 'flag_my', 'duration_ticket']\n",
    "print(myDF3)"
   ]
  },
  {
   "cell_type": "code",
   "execution_count": 70,
   "metadata": {
    "collapsed": true
   },
   "outputs": [],
   "source": [
    "#For raw train data\n",
    "\n",
    "mul_reg = df_train[['flag_my', 'duration_ticket', 'delay']].copy()\n",
    "model = mul_reg.copy()"
   ]
  },
  {
   "cell_type": "code",
   "execution_count": 71,
   "metadata": {
    "collapsed": true
   },
   "outputs": [],
   "source": [
    "X_train = model.iloc[:, 0:len(model.columns)-1]\n",
    "y_train = model.iloc[:, len(model.columns)-1]"
   ]
  },
  {
   "cell_type": "code",
   "execution_count": 72,
   "metadata": {
    "collapsed": true
   },
   "outputs": [],
   "source": [
    "X_test = df_test[['flag_my', 'duration_ticket']]\n",
    "y_test = df_test[['delay']]"
   ]
  },
  {
   "cell_type": "code",
   "execution_count": 73,
   "metadata": {},
   "outputs": [
    {
     "data": {
      "text/plain": [
       "LinearRegression(copy_X=True, fit_intercept=True, n_jobs=None, normalize=False)"
      ]
     },
     "execution_count": 73,
     "metadata": {},
     "output_type": "execute_result"
    }
   ],
   "source": [
    "multi_regression = LinearRegression()\n",
    "multi_regression.fit(X_train, y_train)"
   ]
  },
  {
   "cell_type": "code",
   "execution_count": 74,
   "metadata": {
    "collapsed": true
   },
   "outputs": [],
   "source": [
    "y_pred_train = multi_regression.predict(X_train)\n",
    "y_pred_test = multi_regression.predict(X_test)"
   ]
  },
  {
   "cell_type": "code",
   "execution_count": 75,
   "metadata": {},
   "outputs": [
    {
     "name": "stdout",
     "output_type": "stream",
     "text": [
      "mse train = 713.7446188497047\n",
      "mse train = 998.4320711948617\n"
     ]
    }
   ],
   "source": [
    "print('mse train = {}'.format(mean_squared_error(y_pred_train, y_train)))\n",
    "print('mse train = {}'.format(mean_squared_error(y_pred_test, y_test)))"
   ]
  },
  {
   "cell_type": "code",
   "execution_count": 76,
   "metadata": {},
   "outputs": [
    {
     "name": "stdout",
     "output_type": "stream",
     "text": [
      "rmse train: 26.715999304718224\n",
      "rmse test: 31.59797574520972\n"
     ]
    }
   ],
   "source": [
    "rmse_train = math.sqrt(mean_squared_error(y_pred_train, y_train))\n",
    "rmse_test = math.sqrt(mean_squared_error(y_pred_test, y_test))\n",
    "print('rmse train:', rmse_train)\n",
    "print('rmse test:',rmse_test)"
   ]
  },
  {
   "cell_type": "markdown",
   "metadata": {},
   "source": [
    "All predictors are significant, means that if depart from malaysia then delay departure would increase about 2.2 minutes, while duration ticket showed positive relationships. But the model is not very predictive shown by the prediction on test data and high MSE"
   ]
  },
  {
   "cell_type": "markdown",
   "metadata": {},
   "source": [
    "### Logistic Regression"
   ]
  },
  {
   "cell_type": "code",
   "execution_count": 77,
   "metadata": {},
   "outputs": [
    {
     "data": {
      "text/html": [
       "<div>\n",
       "<style scoped>\n",
       "    .dataframe tbody tr th:only-of-type {\n",
       "        vertical-align: middle;\n",
       "    }\n",
       "\n",
       "    .dataframe tbody tr th {\n",
       "        vertical-align: top;\n",
       "    }\n",
       "\n",
       "    .dataframe thead th {\n",
       "        text-align: right;\n",
       "    }\n",
       "</style>\n",
       "<table border=\"1\" class=\"dataframe\">\n",
       "  <thead>\n",
       "    <tr style=\"text-align: right;\">\n",
       "      <th></th>\n",
       "      <th>duration_ticket</th>\n",
       "      <th>flag_my</th>\n",
       "      <th>flag_delay</th>\n",
       "    </tr>\n",
       "  </thead>\n",
       "  <tbody>\n",
       "    <tr>\n",
       "      <th>0</th>\n",
       "      <td>65.0</td>\n",
       "      <td>1.0</td>\n",
       "      <td>0.0</td>\n",
       "    </tr>\n",
       "    <tr>\n",
       "      <th>1</th>\n",
       "      <td>115.0</td>\n",
       "      <td>0.0</td>\n",
       "      <td>0.0</td>\n",
       "    </tr>\n",
       "    <tr>\n",
       "      <th>2</th>\n",
       "      <td>115.0</td>\n",
       "      <td>0.0</td>\n",
       "      <td>0.0</td>\n",
       "    </tr>\n",
       "    <tr>\n",
       "      <th>3</th>\n",
       "      <td>175.0</td>\n",
       "      <td>1.0</td>\n",
       "      <td>0.0</td>\n",
       "    </tr>\n",
       "    <tr>\n",
       "      <th>4</th>\n",
       "      <td>195.0</td>\n",
       "      <td>0.0</td>\n",
       "      <td>0.0</td>\n",
       "    </tr>\n",
       "  </tbody>\n",
       "</table>\n",
       "</div>"
      ],
      "text/plain": [
       "   duration_ticket  flag_my  flag_delay\n",
       "0             65.0      1.0         0.0\n",
       "1            115.0      0.0         0.0\n",
       "2            115.0      0.0         0.0\n",
       "3            175.0      1.0         0.0\n",
       "4            195.0      0.0         0.0"
      ]
     },
     "execution_count": 77,
     "metadata": {},
     "output_type": "execute_result"
    }
   ],
   "source": [
    "log_reg = df_train[['duration_ticket','flag_my', 'flag_delay']].copy()\n",
    "log_reg.head()"
   ]
  },
  {
   "cell_type": "code",
   "execution_count": 78,
   "metadata": {
    "collapsed": true
   },
   "outputs": [],
   "source": [
    "model_log = log_reg.copy()"
   ]
  },
  {
   "cell_type": "code",
   "execution_count": 79,
   "metadata": {
    "collapsed": true
   },
   "outputs": [],
   "source": [
    "X_train = model_log.iloc[:, 0:len(model_log.columns)-1]\n",
    "y_train = model_log.iloc[:, len(model_log.columns)-1]"
   ]
  },
  {
   "cell_type": "code",
   "execution_count": 80,
   "metadata": {
    "collapsed": true
   },
   "outputs": [],
   "source": [
    "X_test = df_test[['duration_ticket','flag_my']]\n",
    "y_test = df_test[['flag_delay']]"
   ]
  },
  {
   "cell_type": "code",
   "execution_count": 81,
   "metadata": {},
   "outputs": [
    {
     "name": "stderr",
     "output_type": "stream",
     "text": [
      "C:\\Users\\gilang.mahardika\\AppData\\Roaming\\Python\\Python36\\site-packages\\sklearn\\linear_model\\logistic.py:432: FutureWarning: Default solver will be changed to 'lbfgs' in 0.22. Specify a solver to silence this warning.\n",
      "  FutureWarning)\n"
     ]
    }
   ],
   "source": [
    "logistic_regression = LogisticRegression()\n",
    "logistic_regression.fit(X_train, y_train)\n",
    "\n",
    "y_pred_test = logistic_regression.predict(X_test) # langsung keluar kelasnya, defaultnya 0.5\n",
    "y_pred_train = logistic_regression.predict(X_train) # kalau predict proba akan keluar probability, bisa mengubah default"
   ]
  },
  {
   "cell_type": "code",
   "execution_count": 82,
   "metadata": {
    "collapsed": true
   },
   "outputs": [],
   "source": [
    "from sklearn.metrics import auc, confusion_matrix\n",
    "from sklearn import metrics\n",
    "from sklearn.metrics import classification_report "
   ]
  },
  {
   "cell_type": "code",
   "execution_count": 83,
   "metadata": {},
   "outputs": [
    {
     "name": "stdout",
     "output_type": "stream",
     "text": [
      "Report:               precision    recall  f1-score   support\n",
      "\n",
      "         0.0       0.94      1.00      0.97     39124\n",
      "         1.0       0.00      0.00      0.00      2431\n",
      "\n",
      "    accuracy                           0.94     41555\n",
      "   macro avg       0.47      0.50      0.48     41555\n",
      "weighted avg       0.89      0.94      0.91     41555\n",
      "\n"
     ]
    },
    {
     "name": "stderr",
     "output_type": "stream",
     "text": [
      "C:\\Users\\gilang.mahardika\\AppData\\Roaming\\Python\\Python36\\site-packages\\sklearn\\metrics\\classification.py:1437: UndefinedMetricWarning: Precision and F-score are ill-defined and being set to 0.0 in labels with no predicted samples.\n",
      "  'precision', 'predicted', average, warn_for)\n"
     ]
    }
   ],
   "source": [
    "print('Report:', classification_report(y_test, y_pred_test)) "
   ]
  },
  {
   "cell_type": "code",
   "execution_count": 84,
   "metadata": {},
   "outputs": [
    {
     "name": "stdout",
     "output_type": "stream",
     "text": [
      "Accuracy: 0.9414992179039827\n"
     ]
    }
   ],
   "source": [
    "print('Accuracy:', metrics.accuracy_score(y_test, y_pred_test))"
   ]
  },
  {
   "cell_type": "markdown",
   "metadata": {},
   "source": [
    "### Decision Tree"
   ]
  },
  {
   "cell_type": "code",
   "execution_count": 85,
   "metadata": {},
   "outputs": [
    {
     "data": {
      "text/plain": [
       "DecisionTreeClassifier(class_weight=None, criterion='gini', max_depth=6,\n",
       "                       max_features=None, max_leaf_nodes=None,\n",
       "                       min_impurity_decrease=0.0, min_impurity_split=None,\n",
       "                       min_samples_leaf=1, min_samples_split=2,\n",
       "                       min_weight_fraction_leaf=0.0, presort=False,\n",
       "                       random_state=None, splitter='best')"
      ]
     },
     "execution_count": 85,
     "metadata": {},
     "output_type": "execute_result"
    }
   ],
   "source": [
    "from sklearn.tree import DecisionTreeClassifier\n",
    "\n",
    "dt = DecisionTreeClassifier(max_depth=6)\n",
    "dt.fit(X_train, y_train)"
   ]
  },
  {
   "cell_type": "code",
   "execution_count": 86,
   "metadata": {},
   "outputs": [],
   "source": [
    "X_test = df_test[['duration_ticket', 'flag_my']]\n",
    "y_pred_test = dt.predict(X_test)"
   ]
  },
  {
   "cell_type": "code",
   "execution_count": 87,
   "metadata": {},
   "outputs": [
    {
     "name": "stdout",
     "output_type": "stream",
     "text": [
      "accuracy: 0.9414992179039827\n"
     ]
    }
   ],
   "source": [
    "print('accuracy:', metrics.accuracy_score(y_test, y_pred_test))"
   ]
  },
  {
   "cell_type": "markdown",
   "metadata": {
    "collapsed": true
   },
   "source": [
    "Although the accuracy is high, this could be caused by imbalanced class data, this could be anticipated by using under sampling or over sampling technique , such as SMOTE or other methods"
   ]
  },
  {
   "cell_type": "markdown",
   "metadata": {},
   "source": [
    "#### Handling imbalanced class"
   ]
  },
  {
   "cell_type": "code",
   "execution_count": 88,
   "metadata": {},
   "outputs": [
    {
     "name": "stderr",
     "output_type": "stream",
     "text": [
      "D:\\Anaconda3\\lib\\site-packages\\h5py\\__init__.py:34: FutureWarning: Conversion of the second argument of issubdtype from `float` to `np.floating` is deprecated. In future, it will be treated as `np.float64 == np.dtype(float).type`.\n",
      "  from ._conv import register_converters as _register_converters\n",
      "Using TensorFlow backend.\n",
      "D:\\Anaconda3\\lib\\site-packages\\tensorflow\\python\\framework\\dtypes.py:516: FutureWarning: Passing (type, 1) or '1type' as a synonym of type is deprecated; in a future version of numpy, it will be understood as (type, (1,)) / '(1,)type'.\n",
      "  _np_qint8 = np.dtype([(\"qint8\", np.int8, 1)])\n",
      "D:\\Anaconda3\\lib\\site-packages\\tensorflow\\python\\framework\\dtypes.py:517: FutureWarning: Passing (type, 1) or '1type' as a synonym of type is deprecated; in a future version of numpy, it will be understood as (type, (1,)) / '(1,)type'.\n",
      "  _np_quint8 = np.dtype([(\"quint8\", np.uint8, 1)])\n",
      "D:\\Anaconda3\\lib\\site-packages\\tensorflow\\python\\framework\\dtypes.py:518: FutureWarning: Passing (type, 1) or '1type' as a synonym of type is deprecated; in a future version of numpy, it will be understood as (type, (1,)) / '(1,)type'.\n",
      "  _np_qint16 = np.dtype([(\"qint16\", np.int16, 1)])\n",
      "D:\\Anaconda3\\lib\\site-packages\\tensorflow\\python\\framework\\dtypes.py:519: FutureWarning: Passing (type, 1) or '1type' as a synonym of type is deprecated; in a future version of numpy, it will be understood as (type, (1,)) / '(1,)type'.\n",
      "  _np_quint16 = np.dtype([(\"quint16\", np.uint16, 1)])\n",
      "D:\\Anaconda3\\lib\\site-packages\\tensorflow\\python\\framework\\dtypes.py:520: FutureWarning: Passing (type, 1) or '1type' as a synonym of type is deprecated; in a future version of numpy, it will be understood as (type, (1,)) / '(1,)type'.\n",
      "  _np_qint32 = np.dtype([(\"qint32\", np.int32, 1)])\n",
      "D:\\Anaconda3\\lib\\site-packages\\tensorflow\\python\\framework\\dtypes.py:525: FutureWarning: Passing (type, 1) or '1type' as a synonym of type is deprecated; in a future version of numpy, it will be understood as (type, (1,)) / '(1,)type'.\n",
      "  np_resource = np.dtype([(\"resource\", np.ubyte, 1)])\n",
      "D:\\Anaconda3\\lib\\site-packages\\tensorboard\\compat\\tensorflow_stub\\dtypes.py:541: FutureWarning: Passing (type, 1) or '1type' as a synonym of type is deprecated; in a future version of numpy, it will be understood as (type, (1,)) / '(1,)type'.\n",
      "  _np_qint8 = np.dtype([(\"qint8\", np.int8, 1)])\n",
      "D:\\Anaconda3\\lib\\site-packages\\tensorboard\\compat\\tensorflow_stub\\dtypes.py:542: FutureWarning: Passing (type, 1) or '1type' as a synonym of type is deprecated; in a future version of numpy, it will be understood as (type, (1,)) / '(1,)type'.\n",
      "  _np_quint8 = np.dtype([(\"quint8\", np.uint8, 1)])\n",
      "D:\\Anaconda3\\lib\\site-packages\\tensorboard\\compat\\tensorflow_stub\\dtypes.py:543: FutureWarning: Passing (type, 1) or '1type' as a synonym of type is deprecated; in a future version of numpy, it will be understood as (type, (1,)) / '(1,)type'.\n",
      "  _np_qint16 = np.dtype([(\"qint16\", np.int16, 1)])\n",
      "D:\\Anaconda3\\lib\\site-packages\\tensorboard\\compat\\tensorflow_stub\\dtypes.py:544: FutureWarning: Passing (type, 1) or '1type' as a synonym of type is deprecated; in a future version of numpy, it will be understood as (type, (1,)) / '(1,)type'.\n",
      "  _np_quint16 = np.dtype([(\"quint16\", np.uint16, 1)])\n",
      "D:\\Anaconda3\\lib\\site-packages\\tensorboard\\compat\\tensorflow_stub\\dtypes.py:545: FutureWarning: Passing (type, 1) or '1type' as a synonym of type is deprecated; in a future version of numpy, it will be understood as (type, (1,)) / '(1,)type'.\n",
      "  _np_qint32 = np.dtype([(\"qint32\", np.int32, 1)])\n",
      "D:\\Anaconda3\\lib\\site-packages\\tensorboard\\compat\\tensorflow_stub\\dtypes.py:550: FutureWarning: Passing (type, 1) or '1type' as a synonym of type is deprecated; in a future version of numpy, it will be understood as (type, (1,)) / '(1,)type'.\n",
      "  np_resource = np.dtype([(\"resource\", np.ubyte, 1)])\n"
     ]
    }
   ],
   "source": [
    "from imblearn.over_sampling import SMOTE\n",
    "\n",
    "smt = SMOTE()\n",
    "X_train, y_train = smt.fit_sample(X_train, y_train)"
   ]
  },
  {
   "cell_type": "code",
   "execution_count": 89,
   "metadata": {},
   "outputs": [
    {
     "data": {
      "text/plain": [
       "1.0    107090\n",
       "0.0    107090\n",
       "dtype: int64"
      ]
     },
     "execution_count": 89,
     "metadata": {},
     "output_type": "execute_result"
    }
   ],
   "source": [
    "pd.Series(y_train).value_counts()"
   ]
  },
  {
   "cell_type": "code",
   "execution_count": 90,
   "metadata": {},
   "outputs": [
    {
     "name": "stderr",
     "output_type": "stream",
     "text": [
      "C:\\Users\\gilang.mahardika\\AppData\\Roaming\\Python\\Python36\\site-packages\\sklearn\\linear_model\\logistic.py:432: FutureWarning: Default solver will be changed to 'lbfgs' in 0.22. Specify a solver to silence this warning.\n",
      "  FutureWarning)\n"
     ]
    }
   ],
   "source": [
    "#Logistic Regression\n",
    "logistic_regression.fit(X_train, y_train)\n",
    "\n",
    "y_pred_train = logistic_regression.predict(X_train)"
   ]
  },
  {
   "cell_type": "code",
   "execution_count": 91,
   "metadata": {},
   "outputs": [
    {
     "data": {
      "text/html": [
       "<div>\n",
       "<style scoped>\n",
       "    .dataframe tbody tr th:only-of-type {\n",
       "        vertical-align: middle;\n",
       "    }\n",
       "\n",
       "    .dataframe tbody tr th {\n",
       "        vertical-align: top;\n",
       "    }\n",
       "\n",
       "    .dataframe thead th {\n",
       "        text-align: right;\n",
       "    }\n",
       "</style>\n",
       "<table border=\"1\" class=\"dataframe\">\n",
       "  <thead>\n",
       "    <tr style=\"text-align: right;\">\n",
       "      <th></th>\n",
       "      <th>0</th>\n",
       "      <th>1</th>\n",
       "    </tr>\n",
       "  </thead>\n",
       "  <tbody>\n",
       "    <tr>\n",
       "      <th>0</th>\n",
       "      <td>74089</td>\n",
       "      <td>33001</td>\n",
       "    </tr>\n",
       "    <tr>\n",
       "      <th>1</th>\n",
       "      <td>66414</td>\n",
       "      <td>40676</td>\n",
       "    </tr>\n",
       "  </tbody>\n",
       "</table>\n",
       "</div>"
      ],
      "text/plain": [
       "       0      1\n",
       "0  74089  33001\n",
       "1  66414  40676"
      ]
     },
     "execution_count": 91,
     "metadata": {},
     "output_type": "execute_result"
    }
   ],
   "source": [
    "pd.DataFrame(metrics.confusion_matrix(y_train, y_pred_train))"
   ]
  },
  {
   "cell_type": "code",
   "execution_count": 92,
   "metadata": {},
   "outputs": [
    {
     "name": "stdout",
     "output_type": "stream",
     "text": [
      "0.3798300494910823\n"
     ]
    }
   ],
   "source": [
    "print(metrics.recall_score(y_train, y_pred_train)) "
   ]
  },
  {
   "cell_type": "code",
   "execution_count": 93,
   "metadata": {},
   "outputs": [
    {
     "name": "stdout",
     "output_type": "stream",
     "text": [
      "0.5520854540765775\n"
     ]
    }
   ],
   "source": [
    "print(metrics.precision_score(y_train, y_pred_train)) "
   ]
  },
  {
   "cell_type": "code",
   "execution_count": 94,
   "metadata": {},
   "outputs": [
    {
     "name": "stdout",
     "output_type": "stream",
     "text": [
      "              precision    recall  f1-score   support\n",
      "\n",
      "         0.0       0.53      0.69      0.60    107090\n",
      "         1.0       0.55      0.38      0.45    107090\n",
      "\n",
      "    accuracy                           0.54    214180\n",
      "   macro avg       0.54      0.54      0.52    214180\n",
      "weighted avg       0.54      0.54      0.52    214180\n",
      "\n"
     ]
    }
   ],
   "source": [
    "print(classification_report(y_train, y_pred_train)) "
   ]
  },
  {
   "cell_type": "code",
   "execution_count": 95,
   "metadata": {},
   "outputs": [
    {
     "data": {
      "text/plain": [
       "DecisionTreeClassifier(class_weight=None, criterion='gini', max_depth=6,\n",
       "                       max_features=None, max_leaf_nodes=None,\n",
       "                       min_impurity_decrease=0.0, min_impurity_split=None,\n",
       "                       min_samples_leaf=1, min_samples_split=2,\n",
       "                       min_weight_fraction_leaf=0.0, presort=False,\n",
       "                       random_state=None, splitter='best')"
      ]
     },
     "execution_count": 95,
     "metadata": {},
     "output_type": "execute_result"
    }
   ],
   "source": [
    "dt = DecisionTreeClassifier(max_depth=6)\n",
    "dt.fit(X_train, y_train)"
   ]
  },
  {
   "cell_type": "code",
   "execution_count": 96,
   "metadata": {
    "collapsed": true
   },
   "outputs": [],
   "source": [
    "X_test = df_test[['duration_ticket', 'flag_my']]\n",
    "y_pred_test = dt.predict(X_test)"
   ]
  },
  {
   "cell_type": "code",
   "execution_count": 97,
   "metadata": {},
   "outputs": [
    {
     "name": "stdout",
     "output_type": "stream",
     "text": [
      "accuracy: 0.5358343449435055\n",
      "accuracy: 0.5462158585007821\n"
     ]
    }
   ],
   "source": [
    "print('accuracy:', metrics.accuracy_score(y_train, y_pred_train))\n",
    "print('accuracy:', metrics.accuracy_score(y_test, y_pred_test))"
   ]
  },
  {
   "cell_type": "markdown",
   "metadata": {},
   "source": [
    "Seems that Logistic Regression is much better, but the logistic regression and decision tree model had poor performance on the recall, means they predict much more to no delay while it should be delay"
   ]
  },
  {
   "cell_type": "markdown",
   "metadata": {},
   "source": [
    "**4. Did you do some feature engineering on the dataset ? if yes, please give the reason for each feature you created**"
   ]
  },
  {
   "cell_type": "markdown",
   "metadata": {},
   "source": [
    "Yes.\n",
    "\n",
    "* I did feature engineering by creating flag for destination outside and inside malaysia (depart from malaysia and arrive from foreign countries). I want to see the difference of delay by seeing their destination\n",
    "\n",
    "* I create flight duration based on the ticket by substract the arrival and departure time, so I can see if there could be any relationships with delay"
   ]
  },
  {
   "cell_type": "markdown",
   "metadata": {},
   "source": [
    "**5. Using those models predict delay that will happened in December for delay >60**"
   ]
  },
  {
   "cell_type": "code",
   "execution_count": 98,
   "metadata": {},
   "outputs": [
    {
     "data": {
      "text/html": [
       "<div>\n",
       "<style scoped>\n",
       "    .dataframe tbody tr th:only-of-type {\n",
       "        vertical-align: middle;\n",
       "    }\n",
       "\n",
       "    .dataframe tbody tr th {\n",
       "        vertical-align: top;\n",
       "    }\n",
       "\n",
       "    .dataframe thead th {\n",
       "        text-align: right;\n",
       "    }\n",
       "</style>\n",
       "<table border=\"1\" class=\"dataframe\">\n",
       "  <thead>\n",
       "    <tr style=\"text-align: right;\">\n",
       "      <th></th>\n",
       "      <th>id</th>\n",
       "      <th>number</th>\n",
       "      <th>airline</th>\n",
       "      <th>airline_name</th>\n",
       "      <th>scheduled_departure_time</th>\n",
       "      <th>scheduled_arrival_time</th>\n",
       "      <th>departure_airport_city</th>\n",
       "      <th>departure_airport_code</th>\n",
       "      <th>departure_airport_country</th>\n",
       "      <th>departure_airport_gate</th>\n",
       "      <th>...</th>\n",
       "      <th>arrival_airport_region</th>\n",
       "      <th>arrival_airport_terminal</th>\n",
       "      <th>arrival_airport_timezone</th>\n",
       "      <th>flight_equipment_iata</th>\n",
       "      <th>flight_equipment_name</th>\n",
       "      <th>flight_duration</th>\n",
       "      <th>delay</th>\n",
       "      <th>flag_my</th>\n",
       "      <th>duration_ticket</th>\n",
       "      <th>flag_delay</th>\n",
       "    </tr>\n",
       "  </thead>\n",
       "  <tbody>\n",
       "    <tr>\n",
       "      <th>0</th>\n",
       "      <td>483244</td>\n",
       "      <td>CZ7412</td>\n",
       "      <td>CZ</td>\n",
       "      <td>China Southern Airlines</td>\n",
       "      <td>2018-12-01 00:00:00</td>\n",
       "      <td>2018-12-01 04:40:00</td>\n",
       "      <td>Kuala Lumpur</td>\n",
       "      <td>KUL</td>\n",
       "      <td>MY</td>\n",
       "      <td>C11</td>\n",
       "      <td>...</td>\n",
       "      <td>Asia</td>\n",
       "      <td>NaN</td>\n",
       "      <td>Asia/Shanghai</td>\n",
       "      <td>738</td>\n",
       "      <td>Boeing 737-800 Passenger</td>\n",
       "      <td>4h 40m</td>\n",
       "      <td>15</td>\n",
       "      <td>0.0</td>\n",
       "      <td>280.0</td>\n",
       "      <td>1.0</td>\n",
       "    </tr>\n",
       "    <tr>\n",
       "      <th>1</th>\n",
       "      <td>483245</td>\n",
       "      <td>MH5712</td>\n",
       "      <td>MH</td>\n",
       "      <td>Malaysia Airlines</td>\n",
       "      <td>2018-12-01 00:00:00</td>\n",
       "      <td>2018-12-01 04:40:00</td>\n",
       "      <td>Kuala Lumpur</td>\n",
       "      <td>KUL</td>\n",
       "      <td>MY</td>\n",
       "      <td>C11</td>\n",
       "      <td>...</td>\n",
       "      <td>Asia</td>\n",
       "      <td>NaN</td>\n",
       "      <td>Asia/Shanghai</td>\n",
       "      <td>738</td>\n",
       "      <td>Boeing 737-800 Passenger</td>\n",
       "      <td>4h 40m</td>\n",
       "      <td>15</td>\n",
       "      <td>0.0</td>\n",
       "      <td>280.0</td>\n",
       "      <td>1.0</td>\n",
       "    </tr>\n",
       "    <tr>\n",
       "      <th>2</th>\n",
       "      <td>483246</td>\n",
       "      <td>TK8186</td>\n",
       "      <td>TK</td>\n",
       "      <td>Turkish Airlines</td>\n",
       "      <td>2018-12-01 00:00:00</td>\n",
       "      <td>2018-12-01 02:40:00</td>\n",
       "      <td>Kuala Lumpur</td>\n",
       "      <td>KUL</td>\n",
       "      <td>MY</td>\n",
       "      <td>A4</td>\n",
       "      <td>...</td>\n",
       "      <td>Asia</td>\n",
       "      <td>NaN</td>\n",
       "      <td>Asia/Kuala_Lumpur</td>\n",
       "      <td>738</td>\n",
       "      <td>Boeing 737-800 Passenger</td>\n",
       "      <td>2h 40m</td>\n",
       "      <td>27</td>\n",
       "      <td>1.0</td>\n",
       "      <td>160.0</td>\n",
       "      <td>1.0</td>\n",
       "    </tr>\n",
       "    <tr>\n",
       "      <th>4</th>\n",
       "      <td>483248</td>\n",
       "      <td>UA7967</td>\n",
       "      <td>UA</td>\n",
       "      <td>United Airlines</td>\n",
       "      <td>2018-12-01 00:00:00</td>\n",
       "      <td>2018-12-01 06:40:00</td>\n",
       "      <td>Kuala Lumpur</td>\n",
       "      <td>KUL</td>\n",
       "      <td>MY</td>\n",
       "      <td>C22</td>\n",
       "      <td>...</td>\n",
       "      <td>Asia</td>\n",
       "      <td>1</td>\n",
       "      <td>Asia/Tokyo</td>\n",
       "      <td>788</td>\n",
       "      <td>Boeing 787-8</td>\n",
       "      <td>6h 23m</td>\n",
       "      <td>20</td>\n",
       "      <td>0.0</td>\n",
       "      <td>400.0</td>\n",
       "      <td>1.0</td>\n",
       "    </tr>\n",
       "    <tr>\n",
       "      <th>5</th>\n",
       "      <td>483249</td>\n",
       "      <td>AC6257</td>\n",
       "      <td>AC</td>\n",
       "      <td>Air Canada</td>\n",
       "      <td>2018-12-01 00:00:00</td>\n",
       "      <td>2018-12-01 06:40:00</td>\n",
       "      <td>Kuala Lumpur</td>\n",
       "      <td>KUL</td>\n",
       "      <td>MY</td>\n",
       "      <td>C22</td>\n",
       "      <td>...</td>\n",
       "      <td>Asia</td>\n",
       "      <td>1</td>\n",
       "      <td>Asia/Tokyo</td>\n",
       "      <td>788</td>\n",
       "      <td>Boeing 787-8</td>\n",
       "      <td>6h 23m</td>\n",
       "      <td>20</td>\n",
       "      <td>0.0</td>\n",
       "      <td>400.0</td>\n",
       "      <td>1.0</td>\n",
       "    </tr>\n",
       "    <tr>\n",
       "      <th>...</th>\n",
       "      <td>...</td>\n",
       "      <td>...</td>\n",
       "      <td>...</td>\n",
       "      <td>...</td>\n",
       "      <td>...</td>\n",
       "      <td>...</td>\n",
       "      <td>...</td>\n",
       "      <td>...</td>\n",
       "      <td>...</td>\n",
       "      <td>...</td>\n",
       "      <td>...</td>\n",
       "      <td>...</td>\n",
       "      <td>...</td>\n",
       "      <td>...</td>\n",
       "      <td>...</td>\n",
       "      <td>...</td>\n",
       "      <td>...</td>\n",
       "      <td>...</td>\n",
       "      <td>...</td>\n",
       "      <td>...</td>\n",
       "      <td>...</td>\n",
       "    </tr>\n",
       "    <tr>\n",
       "      <th>41550</th>\n",
       "      <td>704757</td>\n",
       "      <td>GA9088</td>\n",
       "      <td>GA</td>\n",
       "      <td>Garuda Indonesia</td>\n",
       "      <td>2018-12-20 15:50:00</td>\n",
       "      <td>2018-12-21 04:55:00</td>\n",
       "      <td>Kuala Lumpur</td>\n",
       "      <td>KUL</td>\n",
       "      <td>MY</td>\n",
       "      <td>C2</td>\n",
       "      <td>...</td>\n",
       "      <td>Europe</td>\n",
       "      <td>NaN</td>\n",
       "      <td>Europe/Amsterdam</td>\n",
       "      <td>772</td>\n",
       "      <td>Boeing 777-200 / 200ER</td>\n",
       "      <td>13h 5m</td>\n",
       "      <td>140</td>\n",
       "      <td>0.0</td>\n",
       "      <td>785.0</td>\n",
       "      <td>1.0</td>\n",
       "    </tr>\n",
       "    <tr>\n",
       "      <th>41551</th>\n",
       "      <td>705277</td>\n",
       "      <td>MXD177</td>\n",
       "      <td>MXD</td>\n",
       "      <td>Malindo Air</td>\n",
       "      <td>2018-12-20 08:50:00</td>\n",
       "      <td>2018-12-20 12:00:00</td>\n",
       "      <td>Kuala Lumpur</td>\n",
       "      <td>KUL</td>\n",
       "      <td>MY</td>\n",
       "      <td>C35</td>\n",
       "      <td>...</td>\n",
       "      <td>Asia</td>\n",
       "      <td>NaN</td>\n",
       "      <td>Asia/Makassar</td>\n",
       "      <td>738</td>\n",
       "      <td>Boeing 737-800 Passenger</td>\n",
       "      <td>3h 10m</td>\n",
       "      <td>19</td>\n",
       "      <td>0.0</td>\n",
       "      <td>190.0</td>\n",
       "      <td>1.0</td>\n",
       "    </tr>\n",
       "    <tr>\n",
       "      <th>41552</th>\n",
       "      <td>705280</td>\n",
       "      <td>MXD177</td>\n",
       "      <td>MXD</td>\n",
       "      <td>Malindo Air</td>\n",
       "      <td>2018-12-20 08:50:00</td>\n",
       "      <td>2018-12-20 12:00:00</td>\n",
       "      <td>Kuala Lumpur</td>\n",
       "      <td>KUL</td>\n",
       "      <td>MY</td>\n",
       "      <td>C35</td>\n",
       "      <td>...</td>\n",
       "      <td>Asia</td>\n",
       "      <td>NaN</td>\n",
       "      <td>Asia/Makassar</td>\n",
       "      <td>738</td>\n",
       "      <td>Boeing 737-800 Passenger</td>\n",
       "      <td>3h 10m</td>\n",
       "      <td>19</td>\n",
       "      <td>0.0</td>\n",
       "      <td>190.0</td>\n",
       "      <td>1.0</td>\n",
       "    </tr>\n",
       "    <tr>\n",
       "      <th>41553</th>\n",
       "      <td>706064</td>\n",
       "      <td>ID*6018</td>\n",
       "      <td>ID*</td>\n",
       "      <td>Batik Air</td>\n",
       "      <td>2018-12-20 12:45:00</td>\n",
       "      <td>2018-12-20 16:40:00</td>\n",
       "      <td>Kuala Lumpur</td>\n",
       "      <td>KUL</td>\n",
       "      <td>MY</td>\n",
       "      <td>C33</td>\n",
       "      <td>...</td>\n",
       "      <td>Asia</td>\n",
       "      <td>NaN</td>\n",
       "      <td>Asia/Kolkata</td>\n",
       "      <td>739</td>\n",
       "      <td>Boeing 737-900 Passenger</td>\n",
       "      <td>3h 55m</td>\n",
       "      <td>43</td>\n",
       "      <td>0.0</td>\n",
       "      <td>235.0</td>\n",
       "      <td>1.0</td>\n",
       "    </tr>\n",
       "    <tr>\n",
       "      <th>41554</th>\n",
       "      <td>706065</td>\n",
       "      <td>MXD9112</td>\n",
       "      <td>MXD</td>\n",
       "      <td>Malindo Air</td>\n",
       "      <td>2018-12-20 12:45:00</td>\n",
       "      <td>2018-12-20 16:40:00</td>\n",
       "      <td>Kuala Lumpur</td>\n",
       "      <td>KUL</td>\n",
       "      <td>MY</td>\n",
       "      <td>C33</td>\n",
       "      <td>...</td>\n",
       "      <td>Asia</td>\n",
       "      <td>NaN</td>\n",
       "      <td>Asia/Kolkata</td>\n",
       "      <td>739</td>\n",
       "      <td>Boeing 737-900 Passenger</td>\n",
       "      <td>3h 55m</td>\n",
       "      <td>43</td>\n",
       "      <td>0.0</td>\n",
       "      <td>235.0</td>\n",
       "      <td>1.0</td>\n",
       "    </tr>\n",
       "  </tbody>\n",
       "</table>\n",
       "<p>13274 rows × 29 columns</p>\n",
       "</div>"
      ],
      "text/plain": [
       "           id   number airline             airline_name  \\\n",
       "0      483244   CZ7412      CZ  China Southern Airlines   \n",
       "1      483245   MH5712      MH        Malaysia Airlines   \n",
       "2      483246   TK8186      TK         Turkish Airlines   \n",
       "4      483248   UA7967      UA          United Airlines   \n",
       "5      483249   AC6257      AC               Air Canada   \n",
       "...       ...      ...     ...                      ...   \n",
       "41550  704757   GA9088      GA         Garuda Indonesia   \n",
       "41551  705277   MXD177     MXD              Malindo Air   \n",
       "41552  705280   MXD177     MXD              Malindo Air   \n",
       "41553  706064  ID*6018     ID*                Batik Air   \n",
       "41554  706065  MXD9112     MXD              Malindo Air   \n",
       "\n",
       "      scheduled_departure_time scheduled_arrival_time departure_airport_city  \\\n",
       "0          2018-12-01 00:00:00    2018-12-01 04:40:00           Kuala Lumpur   \n",
       "1          2018-12-01 00:00:00    2018-12-01 04:40:00           Kuala Lumpur   \n",
       "2          2018-12-01 00:00:00    2018-12-01 02:40:00           Kuala Lumpur   \n",
       "4          2018-12-01 00:00:00    2018-12-01 06:40:00           Kuala Lumpur   \n",
       "5          2018-12-01 00:00:00    2018-12-01 06:40:00           Kuala Lumpur   \n",
       "...                        ...                    ...                    ...   \n",
       "41550      2018-12-20 15:50:00    2018-12-21 04:55:00           Kuala Lumpur   \n",
       "41551      2018-12-20 08:50:00    2018-12-20 12:00:00           Kuala Lumpur   \n",
       "41552      2018-12-20 08:50:00    2018-12-20 12:00:00           Kuala Lumpur   \n",
       "41553      2018-12-20 12:45:00    2018-12-20 16:40:00           Kuala Lumpur   \n",
       "41554      2018-12-20 12:45:00    2018-12-20 16:40:00           Kuala Lumpur   \n",
       "\n",
       "      departure_airport_code departure_airport_country departure_airport_gate  \\\n",
       "0                        KUL                        MY                    C11   \n",
       "1                        KUL                        MY                    C11   \n",
       "2                        KUL                        MY                     A4   \n",
       "4                        KUL                        MY                    C22   \n",
       "5                        KUL                        MY                    C22   \n",
       "...                      ...                       ...                    ...   \n",
       "41550                    KUL                        MY                     C2   \n",
       "41551                    KUL                        MY                    C35   \n",
       "41552                    KUL                        MY                    C35   \n",
       "41553                    KUL                        MY                    C33   \n",
       "41554                    KUL                        MY                    C33   \n",
       "\n",
       "       ... arrival_airport_region arrival_airport_terminal  \\\n",
       "0      ...                   Asia                      NaN   \n",
       "1      ...                   Asia                      NaN   \n",
       "2      ...                   Asia                      NaN   \n",
       "4      ...                   Asia                        1   \n",
       "5      ...                   Asia                        1   \n",
       "...    ...                    ...                      ...   \n",
       "41550  ...                 Europe                      NaN   \n",
       "41551  ...                   Asia                      NaN   \n",
       "41552  ...                   Asia                      NaN   \n",
       "41553  ...                   Asia                      NaN   \n",
       "41554  ...                   Asia                      NaN   \n",
       "\n",
       "      arrival_airport_timezone flight_equipment_iata  \\\n",
       "0                Asia/Shanghai                   738   \n",
       "1                Asia/Shanghai                   738   \n",
       "2            Asia/Kuala_Lumpur                   738   \n",
       "4                   Asia/Tokyo                   788   \n",
       "5                   Asia/Tokyo                   788   \n",
       "...                        ...                   ...   \n",
       "41550         Europe/Amsterdam                   772   \n",
       "41551            Asia/Makassar                   738   \n",
       "41552            Asia/Makassar                   738   \n",
       "41553             Asia/Kolkata                   739   \n",
       "41554             Asia/Kolkata                   739   \n",
       "\n",
       "          flight_equipment_name flight_duration delay flag_my duration_ticket  \\\n",
       "0      Boeing 737-800 Passenger          4h 40m    15     0.0           280.0   \n",
       "1      Boeing 737-800 Passenger          4h 40m    15     0.0           280.0   \n",
       "2      Boeing 737-800 Passenger          2h 40m    27     1.0           160.0   \n",
       "4                  Boeing 787-8          6h 23m    20     0.0           400.0   \n",
       "5                  Boeing 787-8          6h 23m    20     0.0           400.0   \n",
       "...                         ...             ...   ...     ...             ...   \n",
       "41550    Boeing 777-200 / 200ER          13h 5m   140     0.0           785.0   \n",
       "41551  Boeing 737-800 Passenger          3h 10m    19     0.0           190.0   \n",
       "41552  Boeing 737-800 Passenger          3h 10m    19     0.0           190.0   \n",
       "41553  Boeing 737-900 Passenger          3h 55m    43     0.0           235.0   \n",
       "41554  Boeing 737-900 Passenger          3h 55m    43     0.0           235.0   \n",
       "\n",
       "      flag_delay  \n",
       "0            1.0  \n",
       "1            1.0  \n",
       "2            1.0  \n",
       "4            1.0  \n",
       "5            1.0  \n",
       "...          ...  \n",
       "41550        1.0  \n",
       "41551        1.0  \n",
       "41552        1.0  \n",
       "41553        1.0  \n",
       "41554        1.0  \n",
       "\n",
       "[13274 rows x 29 columns]"
      ]
     },
     "execution_count": 98,
     "metadata": {},
     "output_type": "execute_result"
    }
   ],
   "source": [
    "y_pred_test = logistic_regression.predict(X_test)\n",
    "df_prediction = df_test.copy()\n",
    "df_prediction['flag_delay'] = y_pred_test\n",
    "df_prediction[df_prediction['flag_delay'] == 1]"
   ]
  },
  {
   "cell_type": "code",
   "execution_count": 99,
   "metadata": {},
   "outputs": [
    {
     "name": "stdout",
     "output_type": "stream",
     "text": [
      "accuracy: 0.6647094212489472\n"
     ]
    }
   ],
   "source": [
    "print('accuracy:', metrics.accuracy_score(y_test, y_pred_test))"
   ]
  }
 ],
 "metadata": {
  "kernelspec": {
   "display_name": "Python 3",
   "language": "python",
   "name": "python3"
  },
  "language_info": {
   "codemirror_mode": {
    "name": "ipython",
    "version": 3
   },
   "file_extension": ".py",
   "mimetype": "text/x-python",
   "name": "python",
   "nbconvert_exporter": "python",
   "pygments_lexer": "ipython3",
   "version": "3.6.3"
  }
 },
 "nbformat": 4,
 "nbformat_minor": 2
}
