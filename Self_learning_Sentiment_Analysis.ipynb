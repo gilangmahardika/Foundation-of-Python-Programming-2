{
 "cells": [
  {
   "cell_type": "markdown",
   "metadata": {},
   "source": [
    "# Import Module"
   ]
  },
  {
   "cell_type": "code",
   "execution_count": 1,
   "metadata": {},
   "outputs": [
    {
     "name": "stdout",
     "output_type": "stream",
     "text": [
      "Requirement already satisfied: wordcloud in d:\\anaconda3\\lib\\site-packages\n",
      "Requirement already satisfied: numpy>=1.6.1 in d:\\anaconda3\\lib\\site-packages (from wordcloud)\n",
      "Requirement already satisfied: pillow in d:\\anaconda3\\lib\\site-packages (from wordcloud)\n",
      "Requirement already satisfied: olefile in d:\\anaconda3\\lib\\site-packages (from pillow->wordcloud)\n"
     ]
    },
    {
     "name": "stderr",
     "output_type": "stream",
     "text": [
      "You are using pip version 9.0.1, however version 19.3.1 is available.\n",
      "You should consider upgrading via the 'python -m pip install --upgrade pip' command.\n"
     ]
    }
   ],
   "source": [
    "!pip install wordcloud "
   ]
  },
  {
   "cell_type": "code",
   "execution_count": 17,
   "metadata": {},
   "outputs": [
    {
     "name": "stdout",
     "output_type": "stream",
     "text": [
      "Requirement already satisfied: tqdm in d:\\anaconda3\\lib\\site-packages\n"
     ]
    },
    {
     "name": "stderr",
     "output_type": "stream",
     "text": [
      "You are using pip version 9.0.1, however version 19.3.1 is available.\n",
      "You should consider upgrading via the 'python -m pip install --upgrade pip' command.\n"
     ]
    }
   ],
   "source": [
    "!python -m pip install tqdm"
   ]
  },
  {
   "cell_type": "code",
   "execution_count": 2,
   "metadata": {},
   "outputs": [
    {
     "name": "stdout",
     "output_type": "stream",
     "text": [
      "[nltk_data] Downloading package stopwords to\n",
      "[nltk_data]     C:\\Users\\gilang.mahardika\\AppData\\Roaming\\nltk_data...\n",
      "[nltk_data]   Package stopwords is already up-to-date!\n"
     ]
    }
   ],
   "source": [
    "import pandas as pd \n",
    "import numpy as np \n",
    "\n",
    "#import nltk for natural language toolkit\n",
    "import nltk \n",
    "from nltk.stem import LancasterStemmer, WordNetLemmatizer\n",
    "from nltk.tokenize import word_tokenize\n",
    "nltk.download('stopwords')\n",
    "from nltk.corpus import stopwords\n",
    "\n",
    "\n",
    "#import string, regex, , uniqcode\n",
    "import re, string, unicodedata\n",
    "\n",
    "#import sklearn preprocessing \n",
    "from sklearn.pipeline import Pipeline\n",
    "from sklearn.feature_extraction.text import CountVectorizer\n",
    "from sklearn.feature_extraction.text import TfidfTransformer\n",
    "from sklearn.feature_extraction.text import TfidfVectorizer\n",
    "\n",
    "#import sklearn for modeling\n",
    "from sklearn import svm\n",
    "from sklearn.naive_bayes import MultinomialNB\n",
    "from sklearn.linear_model import LogisticRegression\n",
    "from sklearn.model_selection import train_test_split\n",
    "\n",
    "#import sklearn for model evaluation \n",
    "from sklearn.metrics import confusion_matrix, classification_report\n",
    "from sklearn.metrics import accuracy_score, precision_score, recall_score, f1_score\n",
    "\n",
    "#import visualization module\n",
    "\n",
    "import matplotlib.pyplot as plt\n",
    "import seaborn as sns\n",
    "from wordcloud import WordCloud, STOPWORDS\n",
    "\n",
    "# import tqdm \n",
    "# from tqdm import tqdm \n",
    "#tqdm.pandas()\n",
    "\n",
    "#import beaurtiful soup \n",
    "from bs4 import BeautifulSoup\n",
    "\n",
    "#save model \n",
    "import pickle \n",
    "\n",
    "#textblob\n",
    "from textblob import Word"
   ]
  },
  {
   "cell_type": "markdown",
   "metadata": {},
   "source": [
    "## Data Preparation"
   ]
  },
  {
   "cell_type": "code",
   "execution_count": 3,
   "metadata": {},
   "outputs": [
    {
     "data": {
      "text/html": [
       "<div>\n",
       "<style>\n",
       "    .dataframe thead tr:only-child th {\n",
       "        text-align: right;\n",
       "    }\n",
       "\n",
       "    .dataframe thead th {\n",
       "        text-align: left;\n",
       "    }\n",
       "\n",
       "    .dataframe tbody tr th {\n",
       "        vertical-align: top;\n",
       "    }\n",
       "</style>\n",
       "<table border=\"1\" class=\"dataframe\">\n",
       "  <thead>\n",
       "    <tr style=\"text-align: right;\">\n",
       "      <th></th>\n",
       "      <th>Unnamed: 0</th>\n",
       "      <th>text</th>\n",
       "      <th>sentiment</th>\n",
       "      <th>sentimentclass</th>\n",
       "    </tr>\n",
       "  </thead>\n",
       "  <tbody>\n",
       "    <tr>\n",
       "      <th>0</th>\n",
       "      <td>0</td>\n",
       "      <td>iamdabm dont understand polici u differ 100 in...</td>\n",
       "      <td>0.0</td>\n",
       "      <td>Netral</td>\n",
       "    </tr>\n",
       "    <tr>\n",
       "      <th>1</th>\n",
       "      <td>1</td>\n",
       "      <td>analyz aapl q4 2019 earn result 4 chart applen...</td>\n",
       "      <td>0.0</td>\n",
       "      <td>Netral</td>\n",
       "    </tr>\n",
       "    <tr>\n",
       "      <th>2</th>\n",
       "      <td>2</td>\n",
       "      <td>ewan iter approach seen fall behind android sm...</td>\n",
       "      <td>-0.4</td>\n",
       "      <td>Negative</td>\n",
       "    </tr>\n",
       "    <tr>\n",
       "      <th>3</th>\n",
       "      <td>3</td>\n",
       "      <td>studiovickn 10 everyth threadless shop today c...</td>\n",
       "      <td>0.0</td>\n",
       "      <td>Netral</td>\n",
       "    </tr>\n",
       "    <tr>\n",
       "      <th>4</th>\n",
       "      <td>4</td>\n",
       "      <td>techinrl cant renam airpod access airpod menus...</td>\n",
       "      <td>0.0</td>\n",
       "      <td>Netral</td>\n",
       "    </tr>\n",
       "  </tbody>\n",
       "</table>\n",
       "</div>"
      ],
      "text/plain": [
       "   Unnamed: 0                                               text  sentiment  \\\n",
       "0           0  iamdabm dont understand polici u differ 100 in...        0.0   \n",
       "1           1  analyz aapl q4 2019 earn result 4 chart applen...        0.0   \n",
       "2           2  ewan iter approach seen fall behind android sm...       -0.4   \n",
       "3           3  studiovickn 10 everyth threadless shop today c...        0.0   \n",
       "4           4  techinrl cant renam airpod access airpod menus...        0.0   \n",
       "\n",
       "  sentimentclass  \n",
       "0         Netral  \n",
       "1         Netral  \n",
       "2       Negative  \n",
       "3         Netral  \n",
       "4         Netral  "
      ]
     },
     "execution_count": 3,
     "metadata": {},
     "output_type": "execute_result"
    }
   ],
   "source": [
    "#iport dataset \n",
    "dataset = pd.read_csv('iphone11_sentiment.csv')\n",
    "dataset.head()"
   ]
  },
  {
   "cell_type": "code",
   "execution_count": 4,
   "metadata": {},
   "outputs": [
    {
     "data": {
      "text/html": [
       "<div>\n",
       "<style>\n",
       "    .dataframe thead tr:only-child th {\n",
       "        text-align: right;\n",
       "    }\n",
       "\n",
       "    .dataframe thead th {\n",
       "        text-align: left;\n",
       "    }\n",
       "\n",
       "    .dataframe tbody tr th {\n",
       "        vertical-align: top;\n",
       "    }\n",
       "</style>\n",
       "<table border=\"1\" class=\"dataframe\">\n",
       "  <thead>\n",
       "    <tr style=\"text-align: right;\">\n",
       "      <th></th>\n",
       "      <th>text</th>\n",
       "      <th>sentimentclass</th>\n",
       "    </tr>\n",
       "  </thead>\n",
       "  <tbody>\n",
       "    <tr>\n",
       "      <th>0</th>\n",
       "      <td>iamdabm dont understand polici u differ 100 in...</td>\n",
       "      <td>Netral</td>\n",
       "    </tr>\n",
       "    <tr>\n",
       "      <th>1</th>\n",
       "      <td>analyz aapl q4 2019 earn result 4 chart applen...</td>\n",
       "      <td>Netral</td>\n",
       "    </tr>\n",
       "    <tr>\n",
       "      <th>2</th>\n",
       "      <td>ewan iter approach seen fall behind android sm...</td>\n",
       "      <td>Negative</td>\n",
       "    </tr>\n",
       "    <tr>\n",
       "      <th>3</th>\n",
       "      <td>studiovickn 10 everyth threadless shop today c...</td>\n",
       "      <td>Netral</td>\n",
       "    </tr>\n",
       "    <tr>\n",
       "      <th>4</th>\n",
       "      <td>techinrl cant renam airpod access airpod menus...</td>\n",
       "      <td>Netral</td>\n",
       "    </tr>\n",
       "  </tbody>\n",
       "</table>\n",
       "</div>"
      ],
      "text/plain": [
       "                                                text sentimentclass\n",
       "0  iamdabm dont understand polici u differ 100 in...         Netral\n",
       "1  analyz aapl q4 2019 earn result 4 chart applen...         Netral\n",
       "2  ewan iter approach seen fall behind android sm...       Negative\n",
       "3  studiovickn 10 everyth threadless shop today c...         Netral\n",
       "4  techinrl cant renam airpod access airpod menus...         Netral"
      ]
     },
     "execution_count": 4,
     "metadata": {},
     "output_type": "execute_result"
    }
   ],
   "source": [
    "#get text and response \n",
    "df = dataset[['text','sentimentclass']]\n",
    "df.head()"
   ]
  },
  {
   "cell_type": "markdown",
   "metadata": {},
   "source": [
    "## A. Preprocessing "
   ]
  },
  {
   "cell_type": "markdown",
   "metadata": {},
   "source": [
    "### A.1. Data Cleansing"
   ]
  },
  {
   "cell_type": "code",
   "execution_count": 5,
   "metadata": {
    "collapsed": true
   },
   "outputs": [],
   "source": [
    "#cleansing \n",
    "def preprocessing(text):\n",
    "    def strip_html(text):\n",
    "        soup = BeautifulSoup(text, \"html.parser\")\n",
    "        return soup.get_text()\n",
    "    def remove_between_square_brackets(text):\n",
    "        return re.sub('-\\[[^]]*\\]', '', text)\n",
    "    def denoise_text(text):\n",
    "        text = strip_html(text)\n",
    "        text = remove_between_square_brackets(text)\n",
    "        return text\n",
    "    def remove_punctuation(text):\n",
    "        return re.sub(r'[^\\w\\s]', '', text)\n",
    "    def remove_non_ascii(text):\n",
    "        return unicodedata.normalize('NFKD', text).encode('ascii', 'ignore').decode('utf-8', 'ignore')\n",
    "    \n",
    "    text = strip_html(text)\n",
    "    text = remove_between_square_brackets(text)\n",
    "    text = remove_punctuation(text)\n",
    "    text = remove_non_ascii(text)\n",
    "    \n",
    "    return text.lower()"
   ]
  },
  {
   "cell_type": "code",
   "execution_count": 7,
   "metadata": {
    "scrolled": true
   },
   "outputs": [
    {
     "name": "stderr",
     "output_type": "stream",
     "text": [
      "D:\\Anaconda3\\lib\\site-packages\\ipykernel_launcher.py:2: SettingWithCopyWarning: \n",
      "A value is trying to be set on a copy of a slice from a DataFrame.\n",
      "Try using .loc[row_indexer,col_indexer] = value instead\n",
      "\n",
      "See the caveats in the documentation: http://pandas.pydata.org/pandas-docs/stable/indexing.html#indexing-view-versus-copy\n",
      "  \n"
     ]
    }
   ],
   "source": [
    "# #apply function \n",
    "df['text'] = df['text'].apply(preprocessing)"
   ]
  },
  {
   "cell_type": "code",
   "execution_count": 9,
   "metadata": {
    "collapsed": true
   },
   "outputs": [],
   "source": [
    "#stopwords.words('indonesian')"
   ]
  },
  {
   "cell_type": "markdown",
   "metadata": {},
   "source": [
    "### A.2. Preprocessing"
   ]
  },
  {
   "cell_type": "code",
   "execution_count": 8,
   "metadata": {},
   "outputs": [
    {
     "name": "stderr",
     "output_type": "stream",
     "text": [
      "D:\\Anaconda3\\lib\\site-packages\\ipykernel_launcher.py:3: SettingWithCopyWarning: \n",
      "A value is trying to be set on a copy of a slice from a DataFrame.\n",
      "Try using .loc[row_indexer,col_indexer] = value instead\n",
      "\n",
      "See the caveats in the documentation: http://pandas.pydata.org/pandas-docs/stable/indexing.html#indexing-view-versus-copy\n",
      "  This is separate from the ipykernel package so we can avoid doing imports until\n"
     ]
    }
   ],
   "source": [
    "#stopword \n",
    "stop = stopwords.words('english')\n",
    "df['text'] = df['text'].apply(lambda x: \" \".join(x for x in x.split() if x not in stop))"
   ]
  },
  {
   "cell_type": "code",
   "execution_count": 9,
   "metadata": {},
   "outputs": [
    {
     "name": "stderr",
     "output_type": "stream",
     "text": [
      "D:\\Anaconda3\\lib\\site-packages\\ipykernel_launcher.py:2: SettingWithCopyWarning: \n",
      "A value is trying to be set on a copy of a slice from a DataFrame.\n",
      "Try using .loc[row_indexer,col_indexer] = value instead\n",
      "\n",
      "See the caveats in the documentation: http://pandas.pydata.org/pandas-docs/stable/indexing.html#indexing-view-versus-copy\n",
      "  \n"
     ]
    }
   ],
   "source": [
    "#lematization \n",
    "df['text']  = df['text'].apply(lambda x: \" \".join([Word(word).lemmatize() for word in x.split()]))"
   ]
  },
  {
   "cell_type": "markdown",
   "metadata": {},
   "source": [
    "### A.2. Data Exploration"
   ]
  },
  {
   "cell_type": "code",
   "execution_count": 10,
   "metadata": {},
   "outputs": [
    {
     "data": {
      "text/html": [
       "<div>\n",
       "<style>\n",
       "    .dataframe thead tr:only-child th {\n",
       "        text-align: right;\n",
       "    }\n",
       "\n",
       "    .dataframe thead th {\n",
       "        text-align: left;\n",
       "    }\n",
       "\n",
       "    .dataframe tbody tr th {\n",
       "        vertical-align: top;\n",
       "    }\n",
       "</style>\n",
       "<table border=\"1\" class=\"dataframe\">\n",
       "  <thead>\n",
       "    <tr style=\"text-align: right;\">\n",
       "      <th></th>\n",
       "      <th>sentimentclass</th>\n",
       "      <th>tweet_count</th>\n",
       "      <th>percent</th>\n",
       "    </tr>\n",
       "  </thead>\n",
       "  <tbody>\n",
       "    <tr>\n",
       "      <th>0</th>\n",
       "      <td>Negative</td>\n",
       "      <td>43</td>\n",
       "      <td>0.116216</td>\n",
       "    </tr>\n",
       "    <tr>\n",
       "      <th>1</th>\n",
       "      <td>Netral</td>\n",
       "      <td>216</td>\n",
       "      <td>0.583784</td>\n",
       "    </tr>\n",
       "    <tr>\n",
       "      <th>2</th>\n",
       "      <td>Positive</td>\n",
       "      <td>111</td>\n",
       "      <td>0.300000</td>\n",
       "    </tr>\n",
       "  </tbody>\n",
       "</table>\n",
       "</div>"
      ],
      "text/plain": [
       "  sentimentclass  tweet_count   percent\n",
       "0       Negative           43  0.116216\n",
       "1         Netral          216  0.583784\n",
       "2       Positive          111  0.300000"
      ]
     },
     "execution_count": 10,
     "metadata": {},
     "output_type": "execute_result"
    }
   ],
   "source": [
    "#count sentiment \n",
    "sentiment = df.groupby(['sentimentclass'])['sentimentclass'].count()\n",
    "sentiment\n",
    "\n",
    "#make dataframe that will be created a chart \n",
    "chart = pd.DataFrame(sentiment)\n",
    "chart['tweet_count'] = chart['sentimentclass']\n",
    "chart.drop(['sentimentclass'], axis = 1, inplace = True )\n",
    "chart = chart.reset_index()\n",
    "\n",
    "#make a proportion of the number of tweet of each sentiment \n",
    "chart['percent'] = chart['tweet_count']/chart['tweet_count'].sum()\n",
    "chart"
   ]
  },
  {
   "cell_type": "markdown",
   "metadata": {},
   "source": [
    "#### 1. Barchart"
   ]
  },
  {
   "cell_type": "code",
   "execution_count": 12,
   "metadata": {},
   "outputs": [
    {
     "data": {
      "text/plain": [
       "Text(0.5,1,'Sentiment Class')"
      ]
     },
     "execution_count": 12,
     "metadata": {},
     "output_type": "execute_result"
    },
    {
     "data": {
      "image/png": "[encoded data removed]",
      "text/plain": [
       "<matplotlib.figure.Figure at 0x15e1cac8>"
      ]
     },
     "metadata": {},
     "output_type": "display_data"
    }
   ],
   "source": [
    "#visualization\n",
    "%matplotlib inline\n",
    "ax = sns.barplot(x= 'sentimsentimentclassentclass', y='tweet_count', data=chart)\n",
    "ax.set_title('Sentiment Class')"
   ]
  },
  {
   "cell_type": "markdown",
   "metadata": {},
   "source": [
    "#### 2. Wordcloud"
   ]
  },
  {
   "cell_type": "code",
   "execution_count": 20,
   "metadata": {
    "collapsed": true
   },
   "outputs": [],
   "source": [
    "happy = df.loc[df['sentimentclass'] == \"Positive\"]\n",
    "not_happy  = df.loc[df['sentimentclass'] == \"Negative\"]"
   ]
  },
  {
   "cell_type": "code",
   "execution_count": 45,
   "metadata": {},
   "outputs": [],
   "source": [
    "#merge all the happy comments into one paragraph\n",
    "all_description_happy = \"\".join(happy.text.values)\n",
    "all_description_not_happy = \"\".join(not_happy.text.values)"
   ]
  },
  {
   "cell_type": "code",
   "execution_count": 47,
   "metadata": {
    "collapsed": true
   },
   "outputs": [],
   "source": [
    "#text = happy.Description\n",
    "#make a wordcloud \n",
    "def create_word_cloud(string):\n",
    "    cloud = WordCloud(background_color = \"black\", max_words = 200, stopwords = set(STOPWORDS)).generate(string)\n",
    "    plt.figure()\n",
    "    plt.imshow(cloud, interpolation='bilinear')\n",
    "    plt.axis('off')\n",
    "    plt.show()"
   ]
  },
  {
   "cell_type": "code",
   "execution_count": 48,
   "metadata": {},
   "outputs": [
    {
     "data": {
      "image/png": "[encoded data removed]",
      "text/plain": [
       "<matplotlib.figure.Figure at 0x15c6e358>"
      ]
     },
     "metadata": {},
     "output_type": "display_data"
    }
   ],
   "source": [
    "#happy\n",
    "%matplotlib inline\n",
    "create_word_cloud(all_description_happy)"
   ]
  },
  {
   "cell_type": "code",
   "execution_count": 49,
   "metadata": {},
   "outputs": [
    {
     "data": {
      "image/png": "[encoded data removed]",
      "text/plain": [
       "<matplotlib.figure.Figure at 0x1b92e080>"
      ]
     },
     "metadata": {},
     "output_type": "display_data"
    }
   ],
   "source": [
    "#nothappy\n",
    "create_word_cloud(all_description_not_happy)"
   ]
  },
  {
   "cell_type": "markdown",
   "metadata": {},
   "source": [
    "## B. Feature Extraction"
   ]
  },
  {
   "cell_type": "markdown",
   "metadata": {},
   "source": [
    "### 1. Count Vectorizer "
   ]
  },
  {
   "cell_type": "code",
   "execution_count": 26,
   "metadata": {
    "collapsed": true
   },
   "outputs": [],
   "source": [
    "count_vectorizer = CountVectorizer(stop_words='english')"
   ]
  },
  {
   "cell_type": "markdown",
   "metadata": {},
   "source": [
    "### 1. TF-IDF vectorizer "
   ]
  },
  {
   "cell_type": "code",
   "execution_count": 27,
   "metadata": {
    "collapsed": true
   },
   "outputs": [],
   "source": [
    "tfidf = TfidfVectorizer(stop_words='english')"
   ]
  },
  {
   "cell_type": "markdown",
   "metadata": {},
   "source": [
    "## C. Modeling "
   ]
  },
  {
   "cell_type": "markdown",
   "metadata": {},
   "source": [
    "### 1. Train Test Split"
   ]
  },
  {
   "cell_type": "code",
   "execution_count": 28,
   "metadata": {
    "collapsed": true
   },
   "outputs": [],
   "source": [
    "X = df['text']\n",
    "y = df['sentimentclass']"
   ]
  },
  {
   "cell_type": "code",
   "execution_count": 29,
   "metadata": {
    "collapsed": true
   },
   "outputs": [],
   "source": [
    "#countvectorizer\n",
    "X_vectorizer = count_vectorizer.fit_transform(X)\n",
    "\n",
    "#tfidf vectorizer\n",
    "X_tfidf = tfidf.fit_transform(X)"
   ]
  },
  {
   "cell_type": "code",
   "execution_count": 30,
   "metadata": {
    "collapsed": true
   },
   "outputs": [],
   "source": [
    "#train test split using countvectorizer \n",
    "train_X_vectorizer, test_X_vectorizer, train_y, test_y = train_test_split(X_vectorizer, y, test_size=0.2, random_state=0)\n",
    "\n",
    "#train test split using tfidfvectorizer \n",
    "train_X_tfidf, test_X_tfidf, train_y, test_y = train_test_split(X_tfidf, y, test_size=0.2, random_state=0)"
   ]
  },
  {
   "cell_type": "markdown",
   "metadata": {},
   "source": [
    "### 2. Model Machine Learning"
   ]
  },
  {
   "cell_type": "code",
   "execution_count": 14,
   "metadata": {
    "collapsed": true
   },
   "outputs": [],
   "source": [
    "# a. Logistic regression\n",
    "# b. Naive Bayes"
   ]
  },
  {
   "cell_type": "markdown",
   "metadata": {},
   "source": [
    "#### a. Logistic Regression"
   ]
  },
  {
   "cell_type": "code",
   "execution_count": 31,
   "metadata": {},
   "outputs": [],
   "source": [
    "# Countvectorizer \n",
    "Lr_vect = LogisticRegression()\n",
    "Lr_vect.fit(train_X_vectorizer,train_y)\n",
    "Lr_pred_vect_train = Lr_vect.predict(train_X_vectorizer)\n",
    "Lr_pred_vect_test = Lr_vect.predict(test_X_vectorizer)"
   ]
  },
  {
   "cell_type": "code",
   "execution_count": 32,
   "metadata": {
    "collapsed": true
   },
   "outputs": [],
   "source": [
    "# TFIDFVectorizer\n",
    "Lr_tfidf = LogisticRegression()\n",
    "Lr_tfidf.fit(train_X_tfidf,train_y)\n",
    "Lr_pred_tfidf_train = Lr_tfidf.predict(train_X_tfidf)\n",
    "Lr_pred_tfidf_test = Lr_tfidf.predict(test_X_tfidf)"
   ]
  },
  {
   "cell_type": "markdown",
   "metadata": {},
   "source": [
    "#### b. Naive Bayes"
   ]
  },
  {
   "cell_type": "code",
   "execution_count": 33,
   "metadata": {
    "collapsed": true
   },
   "outputs": [],
   "source": [
    "# Countvectorizer\n",
    "NB_vect = MultinomialNB()\n",
    "NB_vect.fit(train_X_vectorizer,train_y)\n",
    "NB_pred_vect_train = NB_vect.predict(train_X_vectorizer)\n",
    "NB_pred_vect_test = NB_vect.predict(test_X_vectorizer)"
   ]
  },
  {
   "cell_type": "code",
   "execution_count": 34,
   "metadata": {
    "collapsed": true
   },
   "outputs": [],
   "source": [
    "# TFIDFVectorizer\n",
    "#from sklearn.naive_bayes import GaussianNB\n",
    "NB_tfidf = MultinomialNB()\n",
    "NB_tfidf.fit(train_X_tfidf,train_y)\n",
    "NB_pred_tfidf_train = NB_tfidf.predict(train_X_tfidf)\n",
    "NB_pred_tfidf_test = NB_tfidf.predict(test_X_tfidf)"
   ]
  },
  {
   "cell_type": "markdown",
   "metadata": {},
   "source": [
    "### 3. Model Evaluation"
   ]
  },
  {
   "cell_type": "markdown",
   "metadata": {},
   "source": [
    "The following option are kind of model evaluation that used.  \n",
    "- Precision = precision_score()\n",
    "- Recall = recall_score() \n",
    "- F_measure = f1_score()"
   ]
  },
  {
   "cell_type": "markdown",
   "metadata": {},
   "source": [
    "#### a. Logistic Regression"
   ]
  },
  {
   "cell_type": "code",
   "execution_count": 35,
   "metadata": {},
   "outputs": [
    {
     "name": "stdout",
     "output_type": "stream",
     "text": [
      "______________ Countvectorizer ______________\n",
      "Information :\n",
      "Recall train & test     : 99.66% & 68.92%\n",
      "Precision train & test  : 99.66% & 68.92%\n",
      "F1 Score train & test   : 99.66% & 68.92%\n"
     ]
    }
   ],
   "source": [
    "# using count vectorizer\n",
    "print(\"______________ Countvectorizer ______________\")\n",
    "\n",
    "# Lr_clf_vec_report_train = classification_report(train_y, Lr_pred_vect_train)\n",
    "# Lr_clf_vec_report_test = classification_report(test_y, Lr_pred_vect_test)\n",
    "\n",
    "# Lr_confmatrix_vect_train = confusion_matrix(train_y, Lr_pred_vect_train) \n",
    "# Lr_confmatrix_vect_test = confusion_matrix(test_y, Lr_pred_vect_test)\n",
    "\n",
    "Lr_recall_vec_train = recall_score(train_y, Lr_pred_vect_train, average=\"micro\")\n",
    "Lr_recall_vec_test = recall_score(test_y, Lr_pred_vect_test,average=\"micro\") \n",
    "\n",
    "Lr_precision_vec_train = precision_score(train_y, Lr_pred_vect_train,average=\"micro\")\n",
    "Lr_precision_vec_test = precision_score(test_y, Lr_pred_vect_test,average=\"micro\")\n",
    "\n",
    "Lr_f1_score_vec_train = f1_score(train_y, Lr_pred_vect_train,average=\"micro\")\n",
    "Lr_f1_score_vec_test = f1_score(test_y,Lr_pred_vect_test,average=\"micro\")\n",
    "\n",
    "print('Information :')\n",
    "# print('Confusion matrix for Train :')\n",
    "# print(Lr_confmatrix_vect_train,'\\n')\n",
    "# print('Confusion matrix for Test :')\n",
    "# print(Lr_confmatrix_vect_test,'\\n')\n",
    "# print('Classification Refort for Train :')\n",
    "# print(Lr_clf_vec_report_train,'\\n')\n",
    "# print('Classification Refort for Test :')\n",
    "# print(Lr_clf_vec_report_test,'\\n')\n",
    "print('Recall train & test     : %.2f%%' % (Lr_recall_vec_train * 100), '&', '%.2f%%' % (Lr_recall_vec_test * 100))\n",
    "print('Precision train & test  : %.2f%%' % (Lr_precision_vec_train * 100), '&', '%.2f%%' % (Lr_precision_vec_test * 100))\n",
    "print('F1 Score train & test   : %.2f%%' % (Lr_f1_score_vec_train * 100), '&', '%.2f%%' % (Lr_f1_score_vec_test * 100))"
   ]
  },
  {
   "cell_type": "code",
   "execution_count": 36,
   "metadata": {},
   "outputs": [
    {
     "name": "stdout",
     "output_type": "stream",
     "text": [
      "______________ TF-IDF ______________\n",
      "Information :\n",
      "Recall train & test     : 82.43% & 62.16%\n",
      "Precision train & test  : 82.43% & 62.16%\n",
      "F1 Score train & test   : 82.43% & 68.92%\n"
     ]
    }
   ],
   "source": [
    "# using count vectorizer\n",
    "print(\"______________ TF-IDF ______________\")\n",
    "\n",
    "\n",
    "Lr_recall_tfidf_train = recall_score(train_y, Lr_pred_tfidf_train, average=\"micro\")\n",
    "Lr_recall_tfidf_test = recall_score(test_y, Lr_pred_tfidf_test,average=\"micro\") \n",
    "\n",
    "Lr_precision_tfidf_train = precision_score(train_y, Lr_pred_tfidf_train,average=\"micro\")\n",
    "Lr_precision_tfidf_test = precision_score(test_y, Lr_pred_tfidf_test,average=\"micro\")\n",
    "\n",
    "Lr_f1_score_tfidf_train = f1_score(train_y, Lr_pred_tfidf_train,average=\"micro\")\n",
    "Lr_f1_score_tfidf_test = f1_score(test_y,Lr_pred_tfidf_test,average=\"micro\")\n",
    "\n",
    "print('Information :')\n",
    "print('Recall train & test     : %.2f%%' % (Lr_recall_tfidf_train * 100), '&', '%.2f%%' % (Lr_recall_tfidf_test * 100))\n",
    "print('Precision train & test  : %.2f%%' % (Lr_precision_tfidf_train * 100), '&', '%.2f%%' % (Lr_precision_tfidf_test * 100))\n",
    "print('F1 Score train & test   : %.2f%%' % (Lr_f1_score_tfidf_train * 100), '&', '%.2f%%' % (Lr_f1_score_vec_test * 100))"
   ]
  },
  {
   "cell_type": "markdown",
   "metadata": {},
   "source": [
    "#### b. Naive Bayes"
   ]
  },
  {
   "cell_type": "code",
   "execution_count": 37,
   "metadata": {},
   "outputs": [
    {
     "name": "stdout",
     "output_type": "stream",
     "text": [
      "______________ Countvectorizer ______________\n",
      "Information :\n",
      "Recall train & test     : 98.65% & 71.62%\n",
      "Precision train & test  : 98.65% & 71.62%\n",
      "F1 Score train & test   : 98.65% & 71.62%\n"
     ]
    }
   ],
   "source": [
    "# find model evaluation for naive bayes\n",
    "# using count vectorizer\n",
    "print(\"______________ Countvectorizer ______________\")\n",
    "\n",
    "\n",
    "NB_recall_vec_train = recall_score(train_y, NB_pred_vect_train, average=\"micro\")\n",
    "NB_recall_vec_test = recall_score(test_y, NB_pred_vect_test,average=\"micro\") \n",
    "\n",
    "NB_precision_vec_train = precision_score(train_y, NB_pred_vect_train,average=\"micro\")\n",
    "NB_precision_vec_test = precision_score(test_y, NB_pred_vect_test,average=\"micro\")\n",
    "\n",
    "NB_f1_score_vec_train = f1_score(train_y, NB_pred_vect_train,average=\"micro\")\n",
    "NB_f1_score_vec_test = f1_score(test_y,NB_pred_vect_test,average=\"micro\")\n",
    "\n",
    "print('Information :')\n",
    "print('Recall train & test     : %.2f%%' % (NB_recall_vec_train * 100), '&', '%.2f%%' % (NB_recall_vec_test * 100))\n",
    "print('Precision train & test  : %.2f%%' % (NB_precision_vec_train * 100), '&', '%.2f%%' % (NB_precision_vec_test * 100))\n",
    "print('F1 Score train & test   : %.2f%%' % (NB_f1_score_vec_train * 100), '&', '%.2f%%' % (NB_f1_score_vec_test * 100))"
   ]
  },
  {
   "cell_type": "code",
   "execution_count": 38,
   "metadata": {},
   "outputs": [
    {
     "name": "stdout",
     "output_type": "stream",
     "text": [
      "______________ TF-IDF ______________\n",
      "Information :\n",
      "Recall train & test     : 91.89% & 67.57%\n",
      "Precision train & test  : 91.89% & 67.57%\n",
      "F1 Score train & test   : 91.89% & 71.62%\n"
     ]
    }
   ],
   "source": [
    "# using count vectorizer\n",
    "print(\"______________ TF-IDF ______________\")\n",
    "\n",
    "\n",
    "NB_recall_tfidf_train = recall_score(train_y, NB_pred_tfidf_train, average=\"micro\")\n",
    "NB_recall_tfidf_test = recall_score(test_y, NB_pred_tfidf_test,average=\"micro\") \n",
    "\n",
    "NB_precision_tfidf_train = precision_score(train_y, NB_pred_tfidf_train,average=\"micro\")\n",
    "NB_precision_tfidf_test = precision_score(test_y, NB_pred_tfidf_test,average=\"micro\")\n",
    "\n",
    "NB_f1_score_tfidf_train = f1_score(train_y, NB_pred_tfidf_train,average=\"micro\")\n",
    "NB_f1_score_tfidf_test = f1_score(test_y,NB_pred_tfidf_test,average=\"micro\")\n",
    "\n",
    "print('Information :')\n",
    "print('Recall train & test     : %.2f%%' % (NB_recall_tfidf_train * 100), '&', '%.2f%%' % (NB_recall_tfidf_test * 100))\n",
    "print('Precision train & test  : %.2f%%' % (NB_precision_tfidf_train * 100), '&', '%.2f%%' % (NB_precision_tfidf_test * 100))\n",
    "print('F1 Score train & test   : %.2f%%' % (NB_f1_score_tfidf_train * 100), '&', '%.2f%%' % (NB_f1_score_vec_test * 100))"
   ]
  },
  {
   "cell_type": "markdown",
   "metadata": {},
   "source": [
    "### Conclusion"
   ]
  },
  {
   "cell_type": "markdown",
   "metadata": {},
   "source": [
    "In this analysis, the dataset that I was used is imbalanced between negative and positive class also has small data sample, thus resulting in an overfitting results shown by both Logistic Regression and Naive Bayes.\n",
    "It seems TF-IDF is slightly better although still showing overfitting results"
   ]
  },
  {
   "cell_type": "code",
   "execution_count": null,
   "metadata": {
    "collapsed": true
   },
   "outputs": [],
   "source": []
  }
 ],
 "metadata": {
  "kernelspec": {
   "display_name": "Python 3",
   "language": "python",
   "name": "python3"
  },
  "language_info": {
   "codemirror_mode": {
    "name": "ipython",
    "version": 3
   },
   "file_extension": ".py",
   "mimetype": "text/x-python",
   "name": "python",
   "nbconvert_exporter": "python",
   "pygments_lexer": "ipython3",
   "version": "3.6.3"
  }
 },
 "nbformat": 4,
 "nbformat_minor": 2
}
